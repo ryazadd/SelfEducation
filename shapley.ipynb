{
 "cells": [
  {
   "cell_type": "code",
   "execution_count": 1,
   "metadata": {},
   "outputs": [],
   "source": [
    "import networkx as nx\n",
    "import matplotlib.pyplot as plt\n",
    "import numpy as np\n",
    "import pandas as pd\n",
    "from scipy import optimize as opt\n",
    "from scipy.optimize import Bounds\n",
    "import urllib\n",
    "from sqlalchemy import create_engine\n",
    "import json\n",
    "import csv\n",
    "import itertools "
   ]
  },
  {
   "cell_type": "code",
   "execution_count": 2,
   "metadata": {},
   "outputs": [],
   "source": [
    "def get_sizeVs(V_dict):\n",
    "    V_size = []\n",
    "    for key in V_dict.keys():\n",
    "        temp = sum(c.isdigit() for c in key)\n",
    "#         print('key= ',key,'count = ',temp)\n",
    "        V_size.append(temp)\n",
    "    return V_size"
   ]
  },
  {
   "cell_type": "code",
   "execution_count": 3,
   "metadata": {},
   "outputs": [],
   "source": [
    "def dicts(n,V_dict,l_dict):\n",
    "    a = [i for i in range (1, n+1)]       \n",
    "    for j in range(1,len(a)+1):\n",
    "        for i in itertools.combinations(a,j):\n",
    "            V_dict.update({'V'+str(i):0})\n",
    "            l_dict.update({'l'+str(i):0})\n",
    "    "
   ]
  },
  {
   "cell_type": "code",
   "execution_count": 4,
   "metadata": {},
   "outputs": [],
   "source": [
    "def get_number(str):\n",
    "    str1 = []\n",
    "    str1 = list(str)\n",
    "#     print(str1)\n",
    "    return([int(s) for s in str1 if s.isdigit()])"
   ]
  },
  {
   "cell_type": "code",
   "execution_count": 5,
   "metadata": {},
   "outputs": [],
   "source": [
    "def get_combinations(a):\n",
    "    list_keysV = []\n",
    "#     print(a)\n",
    "    for k in range(1,len(a)+1):\n",
    "        for j in itertools.combinations(a,k):\n",
    "            list_keysV.append('V'+str(j))\n",
    "    return list_keysV"
   ]
  },
  {
   "cell_type": "code",
   "execution_count": 6,
   "metadata": {},
   "outputs": [],
   "source": [
    "def count_ls(l_dict,V_dict):\n",
    "    size_vs = get_sizeVs(V_dict)\n",
    "    k = 0\n",
    "    a = []\n",
    "    for i in l_dict.keys():\n",
    "        tmp = 0\n",
    "        k = k+1\n",
    "#     print(i)\n",
    "        a = get_number(i)\n",
    "        combs = (get_combinations(a))\n",
    "        for j in combs:\n",
    "#         print('sum', tmp, 'j:',j, V_dict.get(j),'len(a)', len(a), 'len(v)',len(get_number(j)),'value',V_dict.get(j) )\n",
    "            tmp+=pow(-1,len(a)-len(get_number(j)))*V_dict.get(j)\n",
    "        l_dict.update({i:tmp})\n",
    "#     print('tmp', tmp)\n",
    "    print(l_dict)      \n",
    "    "
   ]
  },
  {
   "cell_type": "code",
   "execution_count": 7,
   "metadata": {},
   "outputs": [],
   "source": [
    "def shapley(l_dict):\n",
    "    shapl_V = []\n",
    "    for i in range(1,n+1):\n",
    "        shapl_i = 0\n",
    "        tmp = [key for key in l_dict.keys() if str(i) in key]\n",
    "        for key in tmp:\n",
    "            shapl_i+=l_dict.get(key)/len(get_number(key))\n",
    "#             print('value_l= ',l_dict.get(key),'t= ', len(get_number(key)))\n",
    "        shapl_V.append(shapl_i)\n",
    "    return shapl_V\n"
   ]
  },
  {
   "cell_type": "code",
   "execution_count": 8,
   "metadata": {},
   "outputs": [
    {
     "name": "stdout",
     "output_type": "stream",
     "text": [
      "{'V(1,)': 1, 'V(2,)': 0, 'V(3,)': 1, 'V(1, 2)': 4, 'V(1, 3)': 3, 'V(2, 3)': 5, 'V(1, 2, 3)': 8}\n",
      "{'l(1,)': 0, 'l(2,)': 0, 'l(3,)': 0, 'l(1, 2)': 0, 'l(1, 3)': 0, 'l(2, 3)': 0, 'l(1, 2, 3)': 0}\n",
      "{'l(1,)': 1, 'l(2,)': 0, 'l(3,)': 1, 'l(1, 2)': 3, 'l(1, 3)': 1, 'l(2, 3)': 4, 'l(1, 2, 3)': -2}\n"
     ]
    },
    {
     "data": {
      "text/plain": [
       "[2.3333333333333335, 2.8333333333333335, 2.8333333333333335]"
      ]
     },
     "execution_count": 8,
     "metadata": {},
     "output_type": "execute_result"
    }
   ],
   "source": [
    "n=3\n",
    "V_dict={}\n",
    "l_dict={}\n",
    "dicts(n,V_dict,l_dict)\n",
    "# вводим массив V\n",
    "V_dict.update({'V(1,)': 1})\n",
    "V_dict.update({'V(2,)': 0})\n",
    "V_dict.update({'V(3,)': 1})\n",
    "V_dict.update({'V(1, 2)': 4})\n",
    "V_dict.update({'V(1, 3)': 3})\n",
    "V_dict.update({'V(2, 3)': 5})\n",
    "V_dict.update({'V(1, 2, 3)': 8})\n",
    "print(V_dict)\n",
    "print(l_dict)\n",
    "count_ls(l_dict,V_dict)\n",
    "shapley(l_dict)\n"
   ]
  },
  {
   "cell_type": "code",
   "execution_count": 202,
   "metadata": {},
   "outputs": [
    {
     "data": {
      "text/plain": [
       "{'V(5,)': 3.6151701849020244,\n",
       " 'V(4,)': 3.6151701849020244,\n",
       " 'V(4, 5)': 7.230340369351271,\n",
       " 'V(3,)': 3.6151701849020244,\n",
       " 'V(3, 5)': 7.230340369351271,\n",
       " 'V(3, 4)': 7.230340369351271,\n",
       " 'V(3, 4, 5)': 10.845510557584532,\n",
       " 'V(2,)': 3.6151701849020244,\n",
       " 'V(2, 5)': 7.230340369351271,\n",
       " 'V(2, 4)': 7.230340369351271,\n",
       " 'V(2, 4, 5)': 10.845510557584532,\n",
       " 'V(2, 3)': 7.230340369351271,\n",
       " 'V(2, 3, 5)': 10.845510557584532,\n",
       " 'V(2, 3, 4)': 10.845510557584532,\n",
       " 'V(2, 3, 4, 5)': 14.46068074196063,\n",
       " 'V(1,)': 3.6151701849020244,\n",
       " 'V(1, 5)': 8.606634730512166,\n",
       " 'V(1, 4)': 8.606634730512166,\n",
       " 'V(1, 4, 5)': 14.121347421030581,\n",
       " 'V(1, 3)': 8.606634730512166,\n",
       " 'V(1, 3, 5)': 14.121347421030581,\n",
       " 'V(1, 3, 4)': 14.121347421030581,\n",
       " 'V(1, 3, 4, 5)': 19.97585818511978,\n",
       " 'V(1, 2)': 8.606634730512166,\n",
       " 'V(1, 2, 5)': 14.121347421030581,\n",
       " 'V(1, 2, 4)': 14.121347421030581,\n",
       " 'V(1, 2, 4, 5)': 19.97585818511978,\n",
       " 'V(1, 2, 3)': 14.121347421030581,\n",
       " 'V(1, 2, 3, 5)': 19.97585818511978,\n",
       " 'V(1, 2, 3, 4)': 19.97585818511978,\n",
       " 'V(1, 2, 3, 4, 5)': 26.082911845281963}"
      ]
     },
     "execution_count": 202,
     "metadata": {},
     "output_type": "execute_result"
    }
   ],
   "source": [
    "# V_dict= {}\n",
    "# json.dump(V_dict, open(\"file.txt\",'r'))\n",
    "# print(V_dict)\n",
    "with open('file.txt', 'r') as fp:\n",
    "    V_dict = json.load(fp)\n",
    "V_dict"
   ]
  },
  {
   "cell_type": "code",
   "execution_count": 10,
   "metadata": {},
   "outputs": [
    {
     "name": "stdout",
     "output_type": "stream",
     "text": [
      "{'V(5,)': 3.6151701849020244, 'V(4,)': 3.6151701849020244, 'V(4, 5)': 7.230340369351271, 'V(3,)': 3.6151701849020244, 'V(3, 5)': 7.230340369351271, 'V(3, 4)': 7.230340369351271, 'V(3, 4, 5)': 10.845510557584532, 'V(2,)': 3.6151701849020244, 'V(2, 5)': 7.230340369351271, 'V(2, 4)': 7.230340369351271, 'V(2, 4, 5)': 10.845510557584532, 'V(2, 3)': 8.606634730512166, 'V(2, 3, 5)': 12.221804918048544, 'V(2, 3, 4)': 12.221804918048544, 'V(2, 3, 4, 5)': 15.8369751035323, 'V(1,)': 3.6151701849020244, 'V(1, 5)': 8.606634730512166, 'V(1, 4)': 8.606634730512166, 'V(1, 4, 5)': 14.121347421030581, 'V(1, 3)': 8.606634730512166, 'V(1, 3, 5)': 14.121347421030581, 'V(1, 3, 4)': 14.121347421030581, 'V(1, 3, 4, 5)': 19.97585818511978, 'V(1, 2)': 8.606634730512166, 'V(1, 2, 5)': 14.121347421030581, 'V(1, 2, 4)': 14.121347421030581, 'V(1, 2, 4, 5)': 19.97585818511978, 'V(1, 2, 3)': 14.121347423536783, 'V(1, 2, 3, 5)': 19.975858188399748, 'V(1, 2, 3, 4)': 19.97585818843143, 'V(1, 2, 3, 4, 5)': 26.083040488036048}\n",
      "{'l(1,)': 0, 'l(2,)': 0, 'l(3,)': 0, 'l(4,)': 0, 'l(5,)': 0, 'l(1, 2)': 0, 'l(1, 3)': 0, 'l(1, 4)': 0, 'l(1, 5)': 0, 'l(2, 3)': 0, 'l(2, 4)': 0, 'l(2, 5)': 0, 'l(3, 4)': 0, 'l(3, 5)': 0, 'l(4, 5)': 0, 'l(1, 2, 3)': 0, 'l(1, 2, 4)': 0, 'l(1, 2, 5)': 0, 'l(1, 3, 4)': 0, 'l(1, 3, 5)': 0, 'l(1, 4, 5)': 0, 'l(2, 3, 4)': 0, 'l(2, 3, 5)': 0, 'l(2, 4, 5)': 0, 'l(3, 4, 5)': 0, 'l(1, 2, 3, 4)': 0, 'l(1, 2, 3, 5)': 0, 'l(1, 2, 4, 5)': 0, 'l(1, 3, 4, 5)': 0, 'l(2, 3, 4, 5)': 0, 'l(1, 2, 3, 4, 5)': 0}\n",
      "{'l(1,)': 3.6151701849020244, 'l(2,)': 3.6151701849020244, 'l(3,)': 3.6151701849020244, 'l(4,)': 3.6151701849020244, 'l(5,)': 3.6151701849020244, 'l(1, 2)': 1.3762943607081173, 'l(1, 3)': 1.3762943607081173, 'l(1, 4)': 1.3762943607081173, 'l(1, 5)': 1.3762943607081173, 'l(2, 3)': 1.3762943607081173, 'l(2, 4)': -4.5277737115156924e-10, 'l(2, 5)': -4.5277737115156924e-10, 'l(3, 4)': -4.5277737115156924e-10, 'l(3, 5)': -4.5277737115156924e-10, 'l(4, 5)': -4.5277737115156924e-10, 'l(1, 2, 3)': -0.8530462132936414, 'l(1, 2, 4)': 0.5232481453610518, 'l(1, 2, 5)': 0.5232481453610518, 'l(1, 3, 4)': 0.5232481453610518, 'l(1, 3, 5)': 0.5232481453610518, 'l(1, 4, 5)': 0.5232481453610518, 'l(2, 3, 4)': 3.539909698702104e-09, 'l(2, 3, 5)': 3.539909698702104e-09, 'l(2, 4, 5)': 4.236792250367216e-09, 'l(3, 4, 5)': 4.236792250367216e-09, 'l(1, 2, 3, 4)': -0.18345007407195268, 'l(1, 2, 3, 5)': -0.18345007410363579, 'l(1, 2, 4, 5)': -0.18345007557427806, 'l(1, 3, 4, 5)': -0.18345007557427806, 'l(2, 3, 4, 5)': -1.0073428313717159e-08, 'l(1, 2, 3, 4, 5)': 0.09632354258181053}\n"
     ]
    },
    {
     "data": {
      "text/plain": [
       "[6.791305044507456,\n",
       " 4.937625058132927,\n",
       " 4.937625058132927,\n",
       " 4.708242663635343,\n",
       " 4.708242663627423]"
      ]
     },
     "execution_count": 10,
     "metadata": {},
     "output_type": "execute_result"
    }
   ],
   "source": [
    "n=5\n",
    "V_dict={}\n",
    "l_dict={}\n",
    "dicts(n,V_dict,l_dict)\n",
    "# вводим массив V\n",
    "# V_dict.update({'V(1,)': 0})\n",
    "# V_dict.update({'V(2,)': 0})\n",
    "# V_dict.update({'V(3,)': 0})\n",
    "# V_dict.update({'V(1, 2)': 7})\n",
    "# V_dict.update({'V(1, 3)': 5})\n",
    "# V_dict.update({'V(2, 3)': 5})\n",
    "# V_dict.update({'V(1, 2, 3)': 9})\n",
    "with open('file.txt', 'r') as fp:\n",
    "    V_dict = json.load(fp)\n",
    "print(V_dict)\n",
    "print(l_dict)\n",
    "count_ls(l_dict,V_dict)\n",
    "shapley(l_dict)"
   ]
  },
  {
   "cell_type": "markdown",
   "metadata": {},
   "source": [
    "t_v [6.813857758667611, 4.8172956831370435, 4.8172956831370435, 4.817295681554815, 4.817295681539531]"
   ]
  }
 ],
 "metadata": {
  "kernelspec": {
   "display_name": "Python 3",
   "language": "python",
   "name": "python3"
  },
  "language_info": {
   "codemirror_mode": {
    "name": "ipython",
    "version": 3
   },
   "file_extension": ".py",
   "mimetype": "text/x-python",
   "name": "python",
   "nbconvert_exporter": "python",
   "pygments_lexer": "ipython3",
   "version": "3.7.1"
  }
 },
 "nbformat": 4,
 "nbformat_minor": 2
}
