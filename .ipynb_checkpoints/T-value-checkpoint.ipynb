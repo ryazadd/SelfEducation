{
 "cells": [
  {
   "cell_type": "code",
   "execution_count": 1,
   "metadata": {},
   "outputs": [],
   "source": [
    "import networkx as nx\n",
    "import matplotlib.pyplot as plt\n",
    "import numpy as np\n",
    "import pandas as pd\n",
    "from scipy import optimize as opt\n",
    "from scipy.optimize import Bounds\n",
    "import urllib\n",
    "from sqlalchemy import create_engine\n",
    "import json\n",
    "import csv\n",
    "import itertools "
   ]
  },
  {
   "cell_type": "code",
   "execution_count": 2,
   "metadata": {},
   "outputs": [],
   "source": [
    "def get_sizeVs(V_dict):\n",
    "    V_size = []\n",
    "    for key in V_dict.keys():\n",
    "        temp = sum(c.isdigit() for c in key)\n",
    "#         print('key= ',key,'count = ',temp)\n",
    "        V_size.append(temp)\n",
    "    return V_size"
   ]
  },
  {
   "cell_type": "code",
   "execution_count": 8,
   "metadata": {},
   "outputs": [],
   "source": [
    "def dicts(n,V_dict,g_dict):\n",
    "    a = [i for i in range (1, n+1)]       \n",
    "    for j in range(1,len(a)+1):\n",
    "        for i in itertools.combinations(a,j):\n",
    "            V_dict.update({'V'+str(i):0})\n",
    "            g_dict.update({'g'+str(i):0})"
   ]
  },
  {
   "cell_type": "code",
   "execution_count": 5,
   "metadata": {},
   "outputs": [],
   "source": [
    "def get_number(str):\n",
    "    str1 = []\n",
    "    str1 = list(str)\n",
    "#     print(str1)\n",
    "    return([int(s) for s in str1 if s.isdigit()])"
   ]
  },
  {
   "cell_type": "code",
   "execution_count": 6,
   "metadata": {},
   "outputs": [],
   "source": [
    "def get_combinations(a):\n",
    "    list_keysV = []\n",
    "#     print(a)\n",
    "    for k in range(1,len(a)+1):\n",
    "        for j in itertools.combinations(a,k):\n",
    "            list_keysV.append('V'+str(j))\n",
    "    return list_keysV"
   ]
  },
  {
   "cell_type": "code",
   "execution_count": 75,
   "metadata": {},
   "outputs": [],
   "source": [
    "def get_V_N(n):\n",
    "    a = [i for i in range (1, n+1)]       \n",
    "    V_n_str = ('V'+ str(a).replace('[', '(')).replace(']', ')')    \n",
    "    return V_n_str"
   ]
  },
  {
   "cell_type": "code",
   "execution_count": 79,
   "metadata": {},
   "outputs": [],
   "source": [
    "# for n >=3  \n",
    "def find_b(V_dict,V_n_str):\n",
    "    V_N_val = V_dict.get(get_V_N(n))\n",
    "#     print(V_n_str, V_N_val)\n",
    "    b_v = []\n",
    "    for k in range(1, n+1):\n",
    "        a_i = [i for i in range (1, n+1) if i!=k] \n",
    "        V_i_str = ('V'+ str(a_i).replace('[', '(')).replace(']', ')')\n",
    "        b_i =V_N_val- V_dict.get(V_i_str)\n",
    "        b_v.append(b_i)\n",
    "    print('b_v', b_v)\n",
    "    return(b_v)"
   ]
  },
  {
   "cell_type": "code",
   "execution_count": 59,
   "metadata": {},
   "outputs": [],
   "source": [
    "def find_g(V_dict, g_dict):\n",
    "    for key in g_dict.keys():\n",
    "#         print(key)\n",
    "        tmp = 0\n",
    "        for k in get_number(key):\n",
    "            tmp+=b_v[k-1]\n",
    "        g_dict.update({key:tmp-V_dict.get(key.replace('g','V'))})\n",
    "    print('g_dict', g_dict)\n",
    "    return(g_dict)"
   ]
  },
  {
   "cell_type": "code",
   "execution_count": 60,
   "metadata": {},
   "outputs": [],
   "source": [
    "def find_l(V_dict, g_dict):\n",
    "    l = []\n",
    "    keys_i = []\n",
    "    for i in range(1, n+1):\n",
    "        keys_i = []\n",
    "        tmp = [key for key in g_dict.keys() if str(i) in key]\n",
    "        for key in tmp:\n",
    "            keys_i.append(g_dict.get(key))\n",
    "#         print(keys_i)\n",
    "        l.append(min(keys_i))\n",
    "    print('l', l)\n",
    "    return(l)\n",
    "        "
   ]
  },
  {
   "cell_type": "code",
   "execution_count": 76,
   "metadata": {},
   "outputs": [
    {
     "name": "stdout",
     "output_type": "stream",
     "text": [
      "{'V(1,)': 0, 'V(2,)': 0, 'V(3,)': 0, 'V(1, 2)': 7, 'V(1, 3)': 5, 'V(2, 3)': 5, 'V(1, 2, 3)': 9}\n",
      "{'g(1,)': 0, 'g(2,)': 0, 'g(3,)': 0, 'g(1, 2)': 0, 'g(1, 3)': 0, 'g(2, 3)': 0, 'g(1, 2, 3)': 0}\n",
      "b_v [4, 4, 2]\n",
      "g_dict {'g(1,)': 4, 'g(2,)': 4, 'g(3,)': 2, 'g(1, 2)': 1, 'g(1, 3)': 1, 'g(2, 3)': 1, 'g(1, 2, 3)': 1}\n",
      "l [1, 1, 1]\n",
      "V(1, 2, 3)\n"
     ]
    }
   ],
   "source": [
    "n=3\n",
    "V_dict={}\n",
    "g_dict={}\n",
    "dicts(n,V_dict,g_dict)\n",
    "# вводим массив V\n",
    "V_dict.update({'V(1,)': 0})\n",
    "V_dict.update({'V(2,)': 0})\n",
    "V_dict.update({'V(3,)': 0})\n",
    "V_dict.update({'V(1, 2)': 7})\n",
    "V_dict.update({'V(1, 3)': 5})\n",
    "V_dict.update({'V(2, 3)': 5})\n",
    "V_dict.update({'V(1, 2, 3)': 9})\n",
    "print(V_dict)\n",
    "print(g_dict)\n",
    "b_v = find_b(V_dict,V_n_str)\n",
    "g_v = find_g(V_dict, g_dict)\n",
    "l = find_l(V_dict, g_dict)\n",
    "print(get_V_N(n))"
   ]
  },
  {
   "cell_type": "code",
   "execution_count": 81,
   "metadata": {},
   "outputs": [
    {
     "data": {
      "text/plain": [
       "[3.6666666666666665, 3.6666666666666665, 1.6666666666666667]"
      ]
     },
     "execution_count": 81,
     "metadata": {},
     "output_type": "execute_result"
    }
   ],
   "source": [
    "t_v = []\n",
    "if g_dict.get(get_V_N(n).replace('V','g'))==V_dict.get(get_V_N(n)):\n",
    "    t_v=b_v\n",
    "else:\n",
    "    for i in range(1, n+1):\n",
    "        t_i = b_v[i-1]-g_dict.get(get_V_N(n).replace('V','g'))*(1/sum(l))*l[i-1]\n",
    "        t_v.append(t_i)\n",
    "t_v"
   ]
  }
 ],
 "metadata": {
  "kernelspec": {
   "display_name": "Python 3",
   "language": "python",
   "name": "python3"
  },
  "language_info": {
   "codemirror_mode": {
    "name": "ipython",
    "version": 3
   },
   "file_extension": ".py",
   "mimetype": "text/x-python",
   "name": "python",
   "nbconvert_exporter": "python",
   "pygments_lexer": "ipython3",
   "version": "3.7.1"
  }
 },
 "nbformat": 4,
 "nbformat_minor": 2
}
