{
 "cells": [
  {
   "cell_type": "code",
   "execution_count": 339,
   "metadata": {},
   "outputs": [],
   "source": [
    "import networkx as nx\n",
    "import matplotlib.pyplot as plt\n",
    "import numpy as np\n",
    "import pandas as pd\n",
    "from scipy import optimize as opt\n",
    "from scipy.optimize import Bounds\n",
    "import urllib\n",
    "from sqlalchemy import create_engine\n",
    "import json\n",
    "import csv\n",
    "import sympy as sm\n",
    "from sympy import log\n",
    "import cvxpy"
   ]
  },
  {
   "cell_type": "code",
   "execution_count": 373,
   "metadata": {},
   "outputs": [],
   "source": [
    "def draw_graph(graph):\n",
    "\n",
    "    # extract nodes from graph\n",
    "    nodes = set([n1 for n1, n2 in graph] + [n2 for n1, n2 in graph])\n",
    "\n",
    "    # create networkx graph\n",
    "    G=nx.Graph()\n",
    "\n",
    "    # add nodes\n",
    "    for node in nodes:\n",
    "        G.add_node(node)\n",
    "\n",
    "    # add edges\n",
    "    for edge in graph:\n",
    "        G.add_edge(edge[0], edge[1])\n",
    "\n",
    "    # draw graph\n",
    "    pos = nx.shell_layout(G)\n",
    "    nx.draw(G, pos, with_labels=True)\n",
    "\n",
    "    # show graph\n",
    "    plt.show()"
   ]
  },
  {
   "cell_type": "code",
   "execution_count": 14,
   "metadata": {},
   "outputs": [],
   "source": [
    "def func_graph(n, p):\n",
    "    vector_c = []\n",
    "    graph = nx.gnp_random_graph(n, p)\n",
    "    A = nx.to_numpy_array(graph, dtype='int32')\n",
    "    A = A+np.eye(n,dtype='int32')\n",
    "    nx.draw(graph, pos=nx.spring_layout(graph), node_color='g', with_labels=True)\n",
    "    plt.draw()\n",
    "    plt.show()\n",
    "    return A"
   ]
  },
  {
   "cell_type": "code",
   "execution_count": 3,
   "metadata": {},
   "outputs": [],
   "source": [
    "def func2(comb,x):\n",
    "    rez = 0\n",
    "    for i, x_i in enumerate(comb):\n",
    "        if x_i == 1:\n",
    "            rez+=np.log(A[i].dot(comb.T*x.T)+1)-x_i*0.01*x[i]                           \n",
    "    return -rez"
   ]
  },
  {
   "cell_type": "code",
   "execution_count": 10,
   "metadata": {},
   "outputs": [],
   "source": [
    "def func_n(comb,x):\n",
    "    rez = 0\n",
    "    for i, x_i in enumerate(comb):\n",
    "        if x_i == 1:\n",
    "            rez+=np.log(A[i].dot(x.T)+1)-x_i*0.01*x[i]                           \n",
    "    return -rez"
   ]
  },
  {
   "cell_type": "code",
   "execution_count": 4,
   "metadata": {},
   "outputs": [],
   "source": [
    "def func_comb(n):\n",
    "    list_combinations,tmp = [],[]\n",
    "    for i in range(1, pow(2, n)):\n",
    "        tmp.append(bin(i)[2:].zfill(n))\n",
    "        list_combinations.append([int(i) for i in bin(i)[2:].zfill(n)])\n",
    "    list_combinations=np.array(list_combinations)\n",
    "    return list_combinations"
   ]
  },
  {
   "cell_type": "code",
   "execution_count": 7,
   "metadata": {},
   "outputs": [],
   "source": [
    "n = 3\n",
    "x0 = np.array(np.zeros(n,))\n",
    "tmp = []\n",
    "list_combinations = func_comb(n)\n",
    "results = []\n",
    "list_res = []\n",
    "results_comb = []\n",
    "results_comb1 = []\n",
    "bounds = Bounds(np.zeros(n,),[np.inf for i in range(0,n)])\n",
    "for k in range(0,200):\n",
    "    A = func_graph(n, 0.5)\n",
    "    for comb in list_combinations:\n",
    "        res = opt.minimize(lambda x: func2(comb,x), x0, method='TNC', bounds = bounds)\n",
    "        results.append(-func2(comb,res.x))\n",
    "        results_comb1.append(comb)\n",
    "        results_comb.append(k)"
   ]
  },
  {
   "cell_type": "code",
   "execution_count": 450,
   "metadata": {},
   "outputs": [
    {
     "name": "stdout",
     "output_type": "stream",
     "text": [
      "[[1 1 0 1 1]\n",
      " [1 1 1 0 0]\n",
      " [0 1 1 1 1]\n",
      " [1 0 1 1 0]\n",
      " [1 0 1 0 1]] = A\n"
     ]
    },
    {
     "data": {
      "image/png": "[encoded data removed]",
      "text/plain": [
       "<Figure size 432x288 with 1 Axes>"
      ]
     },
     "metadata": {},
     "output_type": "display_data"
    },
    {
     "data": {
      "image/png": "[encoded data removed]",
      "text/latex": [
       "$\\displaystyle \\left[ 1, \\  1, \\  1, \\  0, \\  1\\right]$"
      ],
      "text/plain": [
       "[1, 1, 1, 0, 1]"
      ]
     },
     "execution_count": 450,
     "metadata": {},
     "output_type": "execute_result"
    }
   ],
   "source": [
    "n = 5\n",
    "x0 = np.array(np.zeros(n,))\n",
    "tmp = []\n",
    "list_combinations = func_comb(n)\n",
    "results = []\n",
    "list_res = []\n",
    "results_comb = []\n",
    "results_comb1 = []\n",
    "A = np.array([[1, 1, 0, 1, 1], [1, 1, 1, 0, 0],[0, 1, 1, 1, 1],[1, 0, 1, 1, 0],[1, 0, 1, 0, 1]])\n",
    "print(A, '= A')\n",
    "graph = [(0,2), (2,3), (3,1), (1,4), (4,0)]\n",
    "draw_graph(graph)\n",
    "bounds = Bounds(np.zeros(n,),[np.inf for i in range(0,n)])\n",
    "comb = [1, 1, 1, 0, 1]\n",
    "comb\n",
    "# for k in range(0,200):\n",
    "#     A = func_graph(n, 0.5)\n",
    "#     print(A)\n",
    "#     for comb in list_combinations:\n",
    "#         res = opt.minimize(lambda x: func_n(comb,x), x0, method='TNC', bounds = bounds)\n",
    "#         print(res.x)\n",
    "#         results.append(-func_n(comb,res.x))\n",
    "#         results_comb1.append(comb)\n",
    "#         results_comb.append(k)\n",
    "#     break\n",
    "    "
   ]
  },
  {
   "cell_type": "code",
   "execution_count": 351,
   "metadata": {},
   "outputs": [
    {
     "name": "stdout",
     "output_type": "stream",
     "text": [
      "[array([0, 0, 0, 0, 1]), array([0, 0, 0, 1, 0]), array([0, 0, 0, 1, 1]), array([0, 0, 1, 0, 0]), array([0, 0, 1, 0, 1]), array([0, 0, 1, 1, 0]), array([0, 0, 1, 1, 1]), array([0, 1, 0, 0, 0]), array([0, 1, 0, 0, 1]), array([0, 1, 0, 1, 0]), array([0, 1, 0, 1, 1]), array([0, 1, 1, 0, 0]), array([0, 1, 1, 0, 1]), array([0, 1, 1, 1, 0]), array([0, 1, 1, 1, 1]), array([1, 0, 0, 0, 0]), array([1, 0, 0, 0, 1]), array([1, 0, 0, 1, 0]), array([1, 0, 0, 1, 1]), array([1, 0, 1, 0, 0]), array([1, 0, 1, 0, 1]), array([1, 0, 1, 1, 0]), array([1, 0, 1, 1, 1]), array([1, 1, 0, 0, 0]), array([1, 1, 0, 0, 1]), array([1, 1, 0, 1, 0]), array([1, 1, 0, 1, 1]), array([1, 1, 1, 0, 0]), array([1, 1, 1, 0, 1]), array([1, 1, 1, 1, 0]), array([1, 1, 1, 1, 1])]\n"
     ]
    }
   ],
   "source": [
    "print(results_comb1)"
   ]
  },
  {
   "cell_type": "code",
   "execution_count": 246,
   "metadata": {
    "collapsed": true
   },
   "outputs": [
    {
     "data": {
      "image/png": "[encoded data removed]",
      "text/plain": [
       "<Figure size 432x288 with 1 Axes>"
      ]
     },
     "metadata": {},
     "output_type": "display_data"
    },
    {
     "name": "stdout",
     "output_type": "stream",
     "text": [
      "[ 0.          0.         98.99533946]\n",
      "[ 0.         98.99533946  0.        ]\n",
      "[ 0.        98.9948767 98.9948767]\n",
      "[98.99533946  0.          0.        ]\n",
      "[98.9948767  0.        98.9948767]\n",
      "[98.9948767 98.9948767  0.       ]\n",
      "[98.99805445 98.99805445 98.99984364]\n"
     ]
    }
   ],
   "source": [
    "n = 3\n",
    "x0 = np.array(np.zeros(n,))\n",
    "tmp = []\n",
    "list_combinations = func_comb(n)\n",
    "results = []\n",
    "list_res = []\n",
    "results_comb = []\n",
    "results_comb1 = []\n",
    "bounds = Bounds(np.zeros(n,),[np.inf for i in range(0,n)])\n",
    "for k in range(0,200):\n",
    "    A = func_graph(n, 0.5)\n",
    "    for comb in list_combinations:\n",
    "        res = opt.minimize(lambda x: func_n(comb,x), x0, method='TNC', bounds = bounds)\n",
    "        print(res.x)\n",
    "        results.append(-func_n(comb,res.x))\n",
    "        results_comb1.append(comb)\n",
    "        results_comb.append(k)\n",
    "    break\n",
    "    "
   ]
  },
  {
   "cell_type": "code",
   "execution_count": 247,
   "metadata": {
    "scrolled": false
   },
   "outputs": [
    {
     "data": {
      "text/plain": [
       "[3.6151701849020244,\n",
       " 3.6151701849020244,\n",
       " 7.230340369351271,\n",
       " 3.6151701849020244,\n",
       " 7.230340369351271,\n",
       " 7.230340369351271,\n",
       " 10.845510557584532]"
      ]
     },
     "execution_count": 247,
     "metadata": {},
     "output_type": "execute_result"
    }
   ],
   "source": [
    "results"
   ]
  },
  {
   "cell_type": "code",
   "execution_count": 405,
   "metadata": {
    "scrolled": true
   },
   "outputs": [],
   "source": [
    "def f(arg) :\n",
    "    e0,e1,e3 = arg\n",
    "    c = 1.9\n",
    "    first_eq = (2/(2*e1+e3+e0+1)-2*c+4/(2*e0+e1+1))\n",
    "    second_eq = (4/(2*e1+e3+e0+1)-2*c+2/(2*e0+e1+1))\n",
    "    third_eq = 1/(e3+2*e0+1)-c\n",
    "    return [first_eq, second_eq, third_eq]"
   ]
  },
  {
   "cell_type": "code",
   "execution_count": 460,
   "metadata": {},
   "outputs": [],
   "source": [
    "def equations(p):\n",
    "    e0,e1,e2,e3,e4 = p\n",
    "    c = 1.9\n",
    "    f0 = 1/(e0+e1+e3+e4+1)-c+1/(e0+e1+e2+1)+1/(e0+e2+e4+1)\n",
    "    f1 = 1/(e0+e1+e3+e4+1)-c+1/(e0+e1+e2+1)+1/(e1+e2+e3+e4+1)\n",
    "    f2 = 1/(e0+e1+e2+1)-c+1/(e0+e2+e4+1)+1/(e1+e2+e3+e4+1)\n",
    "    f3 = 1/(e0+e2+e3+1)-c\n",
    "    f4 = 1/(e0+e1+e3+e4+1)-c+1/(e1+e2+e3+e4+1)+1/(e0+e2+e4+1)\n",
    "    f = [f0,f1,f2,f3,f4]\n",
    "    return f"
   ]
  },
  {
   "cell_type": "code",
   "execution_count": 537,
   "metadata": {},
   "outputs": [],
   "source": [
    "def equations(e):\n",
    "#     e0,e1,e2 = p\n",
    "    c = 1\n",
    "    f0 = 1/(e[0]+e[1]+e[3]+e[4]+1)-c+1/(e[0]+e[1]+e[2]+1)+1/(e[0]+e[2]+e[4]+1)\n",
    "    f1 = 1/(e[0]+e[1]+e[3]+e[4]+1)-c+1/(e[0]+e[1]+e[2]+1)+1/(e[1]+e[2]+e[3]+e[4]+1)\n",
    "    f2 = 1/(e[0]+e[1]+e[2]+1)-c+1/(e[0]+e[2]+e[4]+1)+1/(e[1]+e[2]+e[3]+e[4]+1)\n",
    "    f3 = 1/(e[0]+e[2]+e[3]+1)-c\n",
    "    f4 = 1/(e[0]+e[1]+e[3]+e[4]+1)-c+1/(e[1]+e[2]+e[3]+e[4]+1)+1/(e[0]+e[2]+e[4]+1)\n",
    "    f=[f0,f1,f2,f3,f4]\n",
    "    return f"
   ]
  },
  {
   "cell_type": "code",
   "execution_count": 542,
   "metadata": {},
   "outputs": [
    {
     "data": {
      "text/plain": [
       "(array([0., 0., 0., 0., 0.]), [inf, inf, inf, inf, inf])"
      ]
     },
     "execution_count": 542,
     "metadata": {},
     "output_type": "execute_result"
    }
   ],
   "source": [
    "bounds=(np.zeros(n,),[np.inf for i in range(0,n)])\n",
    "#  Bounds(np.zeros(n,),[np.inf for i in range(0,n)])\n",
    "bounds"
   ]
  },
  {
   "cell_type": "code",
   "execution_count": 545,
   "metadata": {},
   "outputs": [
    {
     "name": "stdout",
     "output_type": "stream",
     "text": [
      " active_mask: array([ 0,  0,  0, -1,  0])\n",
      "        cost: 0.011390671692270638\n",
      "         fun: array([ 0.07213828, -0.07771551,  0.07213828, -0.01714874, -0.07771551])\n",
      "        grad: array([ 6.70427066e-08, -1.89333141e-08,  6.73706833e-08,  2.76092973e-02,\n",
      "       -1.91491589e-08])\n",
      "         jac: array([[-0.39813093, -0.23221264, -0.33183658, -0.06629435, -0.23221265],\n",
      "       [-0.23221264, -0.298507  , -0.23221265, -0.13258871, -0.13258871],\n",
      "       [-0.33183658, -0.23221265, -0.39813094, -0.06629436, -0.23221265],\n",
      "       [-0.96599659,  0.        , -0.96599659, -0.96599659,  0.        ],\n",
      "       [-0.23221264, -0.13258871, -0.23221265, -0.13258871, -0.298507  ]])\n",
      "     message: '`ftol` termination condition is satisfied.'\n",
      "        nfev: 12\n",
      "        njev: 12\n",
      "  optimality: 1.9149158925202414e-08\n",
      "      status: 2\n",
      "     success: True\n",
      "           x: array([8.72400645e-03, 1.43755980e+00, 8.72393988e-03, 9.87537193e-14,\n",
      "       1.43755980e+00])\n"
     ]
    }
   ],
   "source": [
    "x0 = (np.array([1,1,1]))\n",
    "\n",
    "e= (e0,e1,e2,e,e4)\n",
    "e =  opt.least_squares(lambda x: equations(x), (1,1,1,1,1), bounds= bounds)\n",
    "\n",
    "print (e)"
   ]
  },
  {
   "cell_type": "code",
   "execution_count": 462,
   "metadata": {},
   "outputs": [
    {
     "data": {
      "text/plain": [
       "array([0., 0., 0., 0., 0.])"
      ]
     },
     "execution_count": 462,
     "metadata": {},
     "output_type": "execute_result"
    }
   ],
   "source": [
    "np.zeros(5,)"
   ]
  },
  {
   "cell_type": "code",
   "execution_count": 505,
   "metadata": {},
   "outputs": [],
   "source": [
    "def ff(x):\n",
    "    e0,e1,e3= x\n",
    "    c = 1\n",
    "    f0 = 1/(e0+e1+e3+e1+1)-c+1/(e0+e1+e0+1)+1/(e0+e0+e1+1)\n",
    "    f1 = 1/(e0+e1+e3+e1+1)-c+1/(e0+e1+e0+1)+1/(e1+e0+e3+e1+1)\n",
    "    f3 = 1/(e0+e0+e3+1)-c\n",
    "    e= (e0,e1,e3)\n",
    "    f = [f0,f1,f3]\n",
    "    print(f)\n",
    "    return f"
   ]
  },
  {
   "cell_type": "code",
   "execution_count": 512,
   "metadata": {},
   "outputs": [],
   "source": [
    "def ff(x):\n",
    "    e0,e1,e2,e3,e4 = x\n",
    "    c = 1\n",
    "    f0 = 1/(e0+e1+e3+e4+1)-c+1/(e0+e1+e2+1)+1/(e0+e2+e4+1)\n",
    "    f1 = 1/(e0+e1+e3+e4+1)-c+1/(e0+e1+e2+1)+1/(e1+e2+e3+e4+1)\n",
    "    f2 = 1/(e0+e1+e2+1)-c+1/(e0+e2+e4+1)+1/(e1+e2+e3+e4+1)\n",
    "    f3 = 1/(e0+e2+e3+1)-c\n",
    "    f4 = 1/(e0+e1+e3+e4+1)-c+1/(e1+e2+e3+e4+1)+1/(e0+e2+e4+1)\n",
    "    f = [f0,f1,f2,f3,f4]  \n",
    "    return f"
   ]
  },
  {
   "cell_type": "code",
   "execution_count": 521,
   "metadata": {},
   "outputs": [
    {
     "name": "stdout",
     "output_type": "stream",
     "text": [
      "[Eq(-c + 1/(e0 + 2*e1 + e3 + 1) + 2/(2*e0 + e1 + 1), 0), Eq(-c + 2/(e0 + 2*e1 + e3 + 1) + 1/(2*e0 + e1 + 1), 0), Eq(-c + 1/(2*e0 + e3 + 1), 0)]\n",
      "[(-2*(c - 2)/(5*c), -(c - 7)/(5*c), -(c + 3)/(5*c))]\n"
     ]
    },
    {
     "data": {
      "text/latex": [
       "$\\displaystyle \\left[\\begin{matrix}0.4\\\\1.2\\\\0.4\\\\-0.8\\\\1.2\\end{matrix}\\right]$"
      ],
      "text/plain": [
       "⎡0.4 ⎤\n",
       "⎢    ⎥\n",
       "⎢1.2 ⎥\n",
       "⎢    ⎥\n",
       "⎢0.4 ⎥\n",
       "⎢    ⎥\n",
       "⎢-0.8⎥\n",
       "⎢    ⎥\n",
       "⎣1.2 ⎦"
      ]
     },
     "execution_count": 521,
     "metadata": {},
     "output_type": "execute_result"
    }
   ],
   "source": [
    "import sympy as sm\n",
    "sm.init_printing()\n",
    "x0 = (np.array([1,1,1]))\n",
    "e0,e1,e3= sm.symbols('e0,e1,e3')\n",
    "c = sm.Symbol('c')\n",
    "f0 = sm.Eq(1/(e0+e1+e3+e1+1)-c+1/(e0+e1+e0+1)+1/(e0+e0+e1+1),0)\n",
    "f1 = sm.Eq(1/(e0+e1+e3+e1+1)-c+1/(e0+e1+e0+1)+1/(e1+e0+e3+e1+1),0)\n",
    "f3 = sm.Eq(1/(e0+e0+e3+1)-c,0)\n",
    "e= (e0,e1,e3)\n",
    "f = [f0,f1,f3]\n",
    "n = 5\n",
    "print(f)\n",
    "print(sm.solve(f,e))\n",
    "sm.nsolve(ff(sm.symbols('e0,e1,e3,e4,e5')),sm.symbols('e0 e1 e3 e4 e5'), [0,0,0,0,0])"
   ]
  },
  {
   "cell_type": "code",
   "execution_count": 504,
   "metadata": {},
   "outputs": [
    {
     "name": "stdout",
     "output_type": "stream",
     "text": [
      "[[1 1 0 1 1]\n",
      " [1 1 1 0 0]\n",
      " [0 1 1 1 1]\n",
      " [1 0 1 1 0]\n",
      " [1 0 1 0 1]] = A\n"
     ]
    },
    {
     "data": {
      "text/plain": [
       "array([e0, e1, e2, 0, 0], dtype=object)"
      ]
     },
     "execution_count": 504,
     "metadata": {},
     "output_type": "execute_result"
    }
   ],
   "source": [
    "A = np.array([[1, 1, 0, 1, 1], [1, 1, 1, 0, 0],[0, 1, 1, 1, 1],[1, 0, 1, 1, 0],[1, 0, 1, 0, 1]])\n",
    "print(A, '= A')\n",
    "e0,e1,e2,e3,e4= sm.symbols('e0,e1,e2,e3,e4')\n",
    "e= (e0,e1,e2,e3,e4)\n",
    "tt = A*e\n",
    "tt[1]"
   ]
  },
  {
   "cell_type": "code",
   "execution_count": 448,
   "metadata": {},
   "outputs": [
    {
     "ename": "NameError",
     "evalue": "name 'x1' is not defined",
     "output_type": "error",
     "traceback": [
      "\u001b[1;31m---------------------------------------------------------------------------\u001b[0m",
      "\u001b[1;31mNameError\u001b[0m                                 Traceback (most recent call last)",
      "\u001b[1;32m<ipython-input-448-0fb486c1b00e>\u001b[0m in \u001b[0;36m<module>\u001b[1;34m\u001b[0m\n\u001b[0;32m      3\u001b[0m \u001b[0mx\u001b[0m\u001b[1;33m,\u001b[0m\u001b[0my\u001b[0m\u001b[1;33m,\u001b[0m\u001b[0mz\u001b[0m \u001b[1;33m=\u001b[0m \u001b[0msym\u001b[0m\u001b[1;33m.\u001b[0m\u001b[0msymbols\u001b[0m\u001b[1;33m(\u001b[0m\u001b[1;34m'x1,y,z'\u001b[0m\u001b[1;33m)\u001b[0m\u001b[1;33m\u001b[0m\u001b[1;33m\u001b[0m\u001b[0m\n\u001b[0;32m      4\u001b[0m \u001b[0mc1\u001b[0m \u001b[1;33m=\u001b[0m \u001b[0msym\u001b[0m\u001b[1;33m.\u001b[0m\u001b[0mSymbol\u001b[0m\u001b[1;33m(\u001b[0m\u001b[1;34m'c1'\u001b[0m\u001b[1;33m)\u001b[0m\u001b[1;33m\u001b[0m\u001b[1;33m\u001b[0m\u001b[0m\n\u001b[1;32m----> 5\u001b[1;33m \u001b[0mf\u001b[0m \u001b[1;33m=\u001b[0m \u001b[0msym\u001b[0m\u001b[1;33m.\u001b[0m\u001b[0mEq\u001b[0m\u001b[1;33m(\u001b[0m\u001b[1;36m2\u001b[0m\u001b[1;33m*\u001b[0m\u001b[0mx1\u001b[0m\u001b[1;33m**\u001b[0m\u001b[1;36m2\u001b[0m\u001b[1;33m+\u001b[0m\u001b[0my\u001b[0m\u001b[1;33m+\u001b[0m\u001b[0mz\u001b[0m\u001b[1;33m,\u001b[0m\u001b[1;36m1\u001b[0m\u001b[1;33m)\u001b[0m\u001b[1;33m\u001b[0m\u001b[1;33m\u001b[0m\u001b[0m\n\u001b[0m\u001b[0;32m      6\u001b[0m \u001b[0mg\u001b[0m \u001b[1;33m=\u001b[0m \u001b[0msym\u001b[0m\u001b[1;33m.\u001b[0m\u001b[0mEq\u001b[0m\u001b[1;33m(\u001b[0m\u001b[0mx\u001b[0m\u001b[1;33m+\u001b[0m\u001b[1;36m2\u001b[0m\u001b[1;33m*\u001b[0m\u001b[0my\u001b[0m\u001b[1;33m+\u001b[0m\u001b[0mz\u001b[0m\u001b[1;33m,\u001b[0m\u001b[0mc1\u001b[0m\u001b[1;33m)\u001b[0m\u001b[1;33m\u001b[0m\u001b[1;33m\u001b[0m\u001b[0m\n\u001b[0;32m      7\u001b[0m \u001b[0mh\u001b[0m \u001b[1;33m=\u001b[0m \u001b[0msym\u001b[0m\u001b[1;33m.\u001b[0m\u001b[0mEq\u001b[0m\u001b[1;33m(\u001b[0m\u001b[1;33m-\u001b[0m\u001b[1;36m2\u001b[0m\u001b[1;33m*\u001b[0m\u001b[0mx\u001b[0m\u001b[1;33m+\u001b[0m\u001b[0my\u001b[0m\u001b[1;33m,\u001b[0m\u001b[1;33m-\u001b[0m\u001b[0mz\u001b[0m\u001b[1;33m)\u001b[0m\u001b[1;33m\u001b[0m\u001b[1;33m\u001b[0m\u001b[0m\n",
      "\u001b[1;31mNameError\u001b[0m: name 'x1' is not defined"
     ]
    }
   ],
   "source": [
    "import sympy as sym\n",
    "sym.init_printing()\n",
    "x,y,z = sym.symbols('x,y,z')\n",
    "c1 = sym.Symbol('c1')\n",
    "f = sym.Eq(2*x**2+y+z,1)\n",
    "g = sym.Eq(x+2*y+z,c1)\n",
    "h = sym.Eq(-2*x+y,-z)\n",
    "print(f)\n",
    "sym.solve([f,g,h],(x,y,z))\n"
   ]
  },
  {
   "cell_type": "code",
   "execution_count": 338,
   "metadata": {
    "collapsed": true
   },
   "outputs": [
    {
     "name": "stdout",
     "output_type": "stream",
     "text": [
      "Requirement already satisfied: cvxpy in c:\\users\\daria_riazanova\\anaconda3\\lib\\site-packages (1.0.31)\n",
      "Requirement already satisfied: scs>=1.1.3 in c:\\users\\daria_riazanova\\anaconda3\\lib\\site-packages (from cvxpy) (2.1.2)\n",
      "Requirement already satisfied: osqp>=0.4.1 in c:\\users\\daria_riazanova\\anaconda3\\lib\\site-packages (from cvxpy) (0.6.1)\n",
      "Requirement already satisfied: ecos>=2 in c:\\users\\daria_riazanova\\anaconda3\\lib\\site-packages (from cvxpy) (2.0.7.post1)\n",
      "Requirement already satisfied: multiprocess in c:\\users\\daria_riazanova\\anaconda3\\lib\\site-packages (from cvxpy) (0.70.9)\n",
      "Requirement already satisfied: scipy>=1.1.0 in c:\\users\\daria_riazanova\\anaconda3\\lib\\site-packages (from cvxpy) (1.4.1)\n",
      "Requirement already satisfied: numpy>=1.15 in c:\\users\\daria_riazanova\\anaconda3\\lib\\site-packages (from cvxpy) (1.18.1)\n",
      "Requirement already satisfied: future in c:\\users\\daria_riazanova\\anaconda3\\lib\\site-packages (from osqp>=0.4.1->cvxpy) (0.18.2)\n",
      "Requirement already satisfied: dill>=0.3.1 in c:\\users\\daria_riazanova\\anaconda3\\lib\\site-packages (from multiprocess->cvxpy) (0.3.1.1)\n"
     ]
    }
   ],
   "source": [
    "# opt.least_squares(fuck(x0), x0)\n",
    "!pip install cvxpy"
   ]
  },
  {
   "cell_type": "code",
   "execution_count": 422,
   "metadata": {},
   "outputs": [
    {
     "name": "stdout",
     "output_type": "stream",
     "text": [
      "[-3.8 + 2/(x + 2*y + z + 1) + 4/(2*x + y + 1), -3.8 + 4/(x + 2*y + z + 1) + 2/(2*x + y + 1), -1.9 + 1/(2*x + z + 1)]\n",
      "Bounds(array([0., 0., 0.]), [inf, inf, inf])\n",
      "[-3.8 + 2/(e0 + 2*e1 + e3 + 1) + 4/(2*e0 + e1 + 1), -3.8 + 4/(e0 + 2*e1 + e3 + 1) + 2/(2*e0 + e1 + 1), -1.9 + 1/(2*e0 + e3 + 1)]\n",
      "[{e0: 0.0210526315789474, e1: 0.536842105263158, e3: -0.515789473684211}]\n",
      "Matrix([[0.0210526315789474], [0.536842105263158], [-0.515789473684211]])\n"
     ]
    }
   ],
   "source": [
    "print(f(sm.symbols('x y z')))\n",
    "n=3\n",
    "bounds = Bounds(np.zeros(n,),[np.inf for i in range(0,n)])\n",
    "print(bounds)\n",
    "print(f(sm.symbols('e0 e1 e3')))\n",
    "sol = sm.solve(f(sm.symbols('e0 e1 e3')))\n",
    "print(sol)\n",
    "print(opt.fsolve())\n",
    "solution = sm.nsolve(f(sm.symbols('e0 e1 e3')), sm.symbols('e0 e1 e3'), [0,0, 0],verify=False, bounds = bounds)\n",
    "print(solution)\n",
    "\n"
   ]
  },
  {
   "cell_type": "code",
   "execution_count": 6,
   "metadata": {},
   "outputs": [],
   "source": [
    "n = 2\n",
    "x0 = np.array(np.zeros(n,))\n",
    "tmp = []\n",
    "list_combinations = func_comb(n)\n",
    "results = []\n",
    "list_res = []\n",
    "step = 0.01\n",
    "quantity = 10\n",
    "bounds = Bounds(np.zeros(n,),[np.inf for i in range(0,n)])\n",
    "final = []\n",
    "\n",
    "x_final = []\n",
    "t = 0\n",
    "cols = []\n",
    "\n",
    "for p in np.arange(0.5,1.0,step):\n",
    "    cols += ['p_'+str(p)]\n",
    "# print(cols)\n",
    "dt_stat = pd.DataFrame(columns=cols)\n",
    "# print(dt_stat)\n",
    "tt = 0\n",
    "for p in np.arange(0.5,1.0,step): \n",
    "    for k in range(0,quantity):    \n",
    "        A = func_graph(n,p)\n",
    "        for comb in list_combinations:\n",
    "            if t==1:\n",
    "                res = opt.minimize(lambda x: func2(comb,x), x0, method='TNC', bounds = bounds)\n",
    "                x_final.append(-func2(comb,res.x))\n",
    "                break;\n",
    "            t=t+1\n",
    "        t = 0\n",
    "    dt_stat[cols[tt]] = x_final\n",
    "    x_final=[]\n",
    "    tt+=1\n",
    "# print(res)    "
   ]
  },
  {
   "cell_type": "code",
   "execution_count": 71,
   "metadata": {},
   "outputs": [
    {
     "name": "stdout",
     "output_type": "stream",
     "text": [
      "7\n"
     ]
    },
    {
     "data": {
      "text/plain": [
       "7"
      ]
     },
     "execution_count": 71,
     "metadata": {},
     "output_type": "execute_result"
    }
   ],
   "source": [
    "print(len(results_comb))\n",
    "len(results)"
   ]
  },
  {
   "cell_type": "code",
   "execution_count": 354,
   "metadata": {
    "collapsed": true
   },
   "outputs": [
    {
     "data": {
      "text/html": [
       "<div>\n",
       "<style scoped>\n",
       "    .dataframe tbody tr th:only-of-type {\n",
       "        vertical-align: middle;\n",
       "    }\n",
       "\n",
       "    .dataframe tbody tr th {\n",
       "        vertical-align: top;\n",
       "    }\n",
       "\n",
       "    .dataframe thead th {\n",
       "        text-align: right;\n",
       "    }\n",
       "</style>\n",
       "<table border=\"1\" class=\"dataframe\">\n",
       "  <thead>\n",
       "    <tr style=\"text-align: right;\">\n",
       "      <th></th>\n",
       "      <th>Value_Func</th>\n",
       "      <th>Number_Iteration</th>\n",
       "      <th>Coalition</th>\n",
       "    </tr>\n",
       "  </thead>\n",
       "  <tbody>\n",
       "    <tr>\n",
       "      <th>0</th>\n",
       "      <td>16.452887</td>\n",
       "      <td>0</td>\n",
       "      <td>[0, 0, 0, 0, 1]</td>\n",
       "    </tr>\n",
       "    <tr>\n",
       "      <th>1</th>\n",
       "      <td>16.452887</td>\n",
       "      <td>0</td>\n",
       "      <td>[0, 0, 0, 1, 0]</td>\n",
       "    </tr>\n",
       "    <tr>\n",
       "      <th>2</th>\n",
       "      <td>32.565921</td>\n",
       "      <td>0</td>\n",
       "      <td>[0, 0, 0, 1, 1]</td>\n",
       "    </tr>\n",
       "    <tr>\n",
       "      <th>3</th>\n",
       "      <td>16.657166</td>\n",
       "      <td>0</td>\n",
       "      <td>[0, 0, 1, 0, 0]</td>\n",
       "    </tr>\n",
       "    <tr>\n",
       "      <th>4</th>\n",
       "      <td>30.564847</td>\n",
       "      <td>0</td>\n",
       "      <td>[0, 0, 1, 0, 1]</td>\n",
       "    </tr>\n",
       "    <tr>\n",
       "      <th>5</th>\n",
       "      <td>31.910510</td>\n",
       "      <td>0</td>\n",
       "      <td>[0, 0, 1, 1, 0]</td>\n",
       "    </tr>\n",
       "    <tr>\n",
       "      <th>6</th>\n",
       "      <td>46.192871</td>\n",
       "      <td>0</td>\n",
       "      <td>[0, 0, 1, 1, 1]</td>\n",
       "    </tr>\n",
       "    <tr>\n",
       "      <th>7</th>\n",
       "      <td>16.452887</td>\n",
       "      <td>0</td>\n",
       "      <td>[0, 1, 0, 0, 0]</td>\n",
       "    </tr>\n",
       "    <tr>\n",
       "      <th>8</th>\n",
       "      <td>32.565921</td>\n",
       "      <td>0</td>\n",
       "      <td>[0, 1, 0, 0, 1]</td>\n",
       "    </tr>\n",
       "    <tr>\n",
       "      <th>9</th>\n",
       "      <td>32.565921</td>\n",
       "      <td>0</td>\n",
       "      <td>[0, 1, 0, 1, 0]</td>\n",
       "    </tr>\n",
       "    <tr>\n",
       "      <th>10</th>\n",
       "      <td>49.358521</td>\n",
       "      <td>0</td>\n",
       "      <td>[0, 1, 0, 1, 1]</td>\n",
       "    </tr>\n",
       "    <tr>\n",
       "      <th>11</th>\n",
       "      <td>30.564847</td>\n",
       "      <td>0</td>\n",
       "      <td>[0, 1, 1, 0, 0]</td>\n",
       "    </tr>\n",
       "    <tr>\n",
       "      <th>12</th>\n",
       "      <td>43.900349</td>\n",
       "      <td>0</td>\n",
       "      <td>[0, 1, 1, 0, 1]</td>\n",
       "    </tr>\n",
       "    <tr>\n",
       "      <th>13</th>\n",
       "      <td>47.232630</td>\n",
       "      <td>0</td>\n",
       "      <td>[0, 1, 1, 1, 0]</td>\n",
       "    </tr>\n",
       "    <tr>\n",
       "      <th>14</th>\n",
       "      <td>33.429373</td>\n",
       "      <td>0</td>\n",
       "      <td>[0, 1, 1, 1, 1]</td>\n",
       "    </tr>\n",
       "    <tr>\n",
       "      <th>15</th>\n",
       "      <td>16.657166</td>\n",
       "      <td>0</td>\n",
       "      <td>[1, 0, 0, 0, 0]</td>\n",
       "    </tr>\n",
       "    <tr>\n",
       "      <th>16</th>\n",
       "      <td>31.650035</td>\n",
       "      <td>0</td>\n",
       "      <td>[1, 0, 0, 0, 1]</td>\n",
       "    </tr>\n",
       "    <tr>\n",
       "      <th>17</th>\n",
       "      <td>30.612187</td>\n",
       "      <td>0</td>\n",
       "      <td>[1, 0, 0, 1, 0]</td>\n",
       "    </tr>\n",
       "    <tr>\n",
       "      <th>18</th>\n",
       "      <td>46.150151</td>\n",
       "      <td>0</td>\n",
       "      <td>[1, 0, 0, 1, 1]</td>\n",
       "    </tr>\n",
       "    <tr>\n",
       "      <th>19</th>\n",
       "      <td>31.251725</td>\n",
       "      <td>0</td>\n",
       "      <td>[1, 0, 1, 0, 0]</td>\n",
       "    </tr>\n",
       "    <tr>\n",
       "      <th>20</th>\n",
       "      <td>20.257449</td>\n",
       "      <td>0</td>\n",
       "      <td>[1, 0, 1, 0, 1]</td>\n",
       "    </tr>\n",
       "    <tr>\n",
       "      <th>21</th>\n",
       "      <td>27.789440</td>\n",
       "      <td>0</td>\n",
       "      <td>[1, 0, 1, 1, 0]</td>\n",
       "    </tr>\n",
       "    <tr>\n",
       "      <th>22</th>\n",
       "      <td>27.407075</td>\n",
       "      <td>0</td>\n",
       "      <td>[1, 0, 1, 1, 1]</td>\n",
       "    </tr>\n",
       "    <tr>\n",
       "      <th>23</th>\n",
       "      <td>32.535643</td>\n",
       "      <td>0</td>\n",
       "      <td>[1, 1, 0, 0, 0]</td>\n",
       "    </tr>\n",
       "    <tr>\n",
       "      <th>24</th>\n",
       "      <td>47.423354</td>\n",
       "      <td>0</td>\n",
       "      <td>[1, 1, 0, 0, 1]</td>\n",
       "    </tr>\n",
       "    <tr>\n",
       "      <th>25</th>\n",
       "      <td>47.351358</td>\n",
       "      <td>0</td>\n",
       "      <td>[1, 1, 0, 1, 0]</td>\n",
       "    </tr>\n",
       "    <tr>\n",
       "      <th>26</th>\n",
       "      <td>30.428129</td>\n",
       "      <td>0</td>\n",
       "      <td>[1, 1, 0, 1, 1]</td>\n",
       "    </tr>\n",
       "    <tr>\n",
       "      <th>27</th>\n",
       "      <td>24.606886</td>\n",
       "      <td>0</td>\n",
       "      <td>[1, 1, 1, 0, 0]</td>\n",
       "    </tr>\n",
       "    <tr>\n",
       "      <th>28</th>\n",
       "      <td>30.699519</td>\n",
       "      <td>0</td>\n",
       "      <td>[1, 1, 1, 0, 1]</td>\n",
       "    </tr>\n",
       "    <tr>\n",
       "      <th>29</th>\n",
       "      <td>31.784574</td>\n",
       "      <td>0</td>\n",
       "      <td>[1, 1, 1, 1, 0]</td>\n",
       "    </tr>\n",
       "    <tr>\n",
       "      <th>30</th>\n",
       "      <td>24.700744</td>\n",
       "      <td>0</td>\n",
       "      <td>[1, 1, 1, 1, 1]</td>\n",
       "    </tr>\n",
       "  </tbody>\n",
       "</table>\n",
       "</div>"
      ],
      "text/plain": [
       "    Value_Func  Number_Iteration        Coalition\n",
       "0    16.452887                 0  [0, 0, 0, 0, 1]\n",
       "1    16.452887                 0  [0, 0, 0, 1, 0]\n",
       "2    32.565921                 0  [0, 0, 0, 1, 1]\n",
       "3    16.657166                 0  [0, 0, 1, 0, 0]\n",
       "4    30.564847                 0  [0, 0, 1, 0, 1]\n",
       "5    31.910510                 0  [0, 0, 1, 1, 0]\n",
       "6    46.192871                 0  [0, 0, 1, 1, 1]\n",
       "7    16.452887                 0  [0, 1, 0, 0, 0]\n",
       "8    32.565921                 0  [0, 1, 0, 0, 1]\n",
       "9    32.565921                 0  [0, 1, 0, 1, 0]\n",
       "10   49.358521                 0  [0, 1, 0, 1, 1]\n",
       "11   30.564847                 0  [0, 1, 1, 0, 0]\n",
       "12   43.900349                 0  [0, 1, 1, 0, 1]\n",
       "13   47.232630                 0  [0, 1, 1, 1, 0]\n",
       "14   33.429373                 0  [0, 1, 1, 1, 1]\n",
       "15   16.657166                 0  [1, 0, 0, 0, 0]\n",
       "16   31.650035                 0  [1, 0, 0, 0, 1]\n",
       "17   30.612187                 0  [1, 0, 0, 1, 0]\n",
       "18   46.150151                 0  [1, 0, 0, 1, 1]\n",
       "19   31.251725                 0  [1, 0, 1, 0, 0]\n",
       "20   20.257449                 0  [1, 0, 1, 0, 1]\n",
       "21   27.789440                 0  [1, 0, 1, 1, 0]\n",
       "22   27.407075                 0  [1, 0, 1, 1, 1]\n",
       "23   32.535643                 0  [1, 1, 0, 0, 0]\n",
       "24   47.423354                 0  [1, 1, 0, 0, 1]\n",
       "25   47.351358                 0  [1, 1, 0, 1, 0]\n",
       "26   30.428129                 0  [1, 1, 0, 1, 1]\n",
       "27   24.606886                 0  [1, 1, 1, 0, 0]\n",
       "28   30.699519                 0  [1, 1, 1, 0, 1]\n",
       "29   31.784574                 0  [1, 1, 1, 1, 0]\n",
       "30   24.700744                 0  [1, 1, 1, 1, 1]"
      ]
     },
     "execution_count": 354,
     "metadata": {},
     "output_type": "execute_result"
    }
   ],
   "source": [
    "data_results=pd.DataFrame(data = results,columns = ['Value_Func'], index = range(1*len(list_combinations)))\n",
    "data_results['Number_Iteration'] = results_comb\n",
    "data_results['Coalition'] = results_comb1\n",
    "data_results"
   ]
  }
 ],
 "metadata": {
  "kernelspec": {
   "display_name": "Python 3",
   "language": "python",
   "name": "python3"
  },
  "language_info": {
   "codemirror_mode": {
    "name": "ipython",
    "version": 3
   },
   "file_extension": ".py",
   "mimetype": "text/x-python",
   "name": "python",
   "nbconvert_exporter": "python",
   "pygments_lexer": "ipython3",
   "version": "3.7.6"
  }
 },
 "nbformat": 4,
 "nbformat_minor": 2
}
