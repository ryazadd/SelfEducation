{
 "cells": [
  {
   "cell_type": "code",
   "execution_count": 1,
   "metadata": {},
   "outputs": [],
   "source": [
    "import networkx as nx\n",
    "import matplotlib.pyplot as plt\n",
    "import numpy as np\n",
    "import pandas as pd\n",
    "from scipy import optimize as opt\n",
    "from scipy.optimize import Bounds\n",
    "import urllib\n",
    "from sqlalchemy import create_engine\n",
    "import json\n",
    "import csv\n",
    "import sympy as sm\n",
    "from sympy import log\n",
    "import cvxpy"
   ]
  },
  {
   "cell_type": "code",
   "execution_count": 3,
   "metadata": {},
   "outputs": [],
   "source": [
    "def draw_graph(graph):\n",
    "\n",
    "    # extract nodes from graph\n",
    "    nodes = set([n1 for n1, n2 in graph] + [n2 for n1, n2 in graph])\n",
    "    G=nx.Graph()\n",
    "    for node in nodes:\n",
    "        G.add_node(node)\n",
    "    for edge in graph:\n",
    "        G.add_edge(edge[0], edge[1])\n",
    "    pos = nx.shell_layout(G)\n",
    "    nx.draw(G, pos, with_labels=True)\n",
    "    plt.show()"
   ]
  },
  {
   "cell_type": "code",
   "execution_count": 861,
   "metadata": {},
   "outputs": [],
   "source": [
    "def func_graph(n, p):\n",
    "    vector_c = []\n",
    "    graph = nx.gnp_random_graph(n, p)\n",
    "    A = nx.to_numpy_array(graph, dtype='int32')\n",
    "    A = A+np.eye(n,dtype='int32')\n",
    "#     nx.draw(graph, pos=nx.spring_layout(graph), node_color='g', with_labels=True)\n",
    "#     plt.draw()\n",
    "#     plt.show()\n",
    "    return A"
   ]
  },
  {
   "cell_type": "code",
   "execution_count": 578,
   "metadata": {},
   "outputs": [],
   "source": [
    "def func2(comb,x):\n",
    "    rez = 0\n",
    "    for i, x_i in enumerate(comb):\n",
    "        if x_i == 1:\n",
    "            rez+=np.log(A[i].dot(comb.T*x.T)+1)-x_i*0.01*x[i]                           \n",
    "    return -rez"
   ]
  },
  {
   "cell_type": "code",
   "execution_count": 581,
   "metadata": {},
   "outputs": [
    {
     "name": "stdout",
     "output_type": "stream",
     "text": [
      "1\n",
      "1\n",
      "1\n",
      "1\n",
      "1\n"
     ]
    },
    {
     "data": {
      "image/png": "[encoded data removed]",
      "text/latex": [
       "$\\displaystyle -4.256666119016056$"
      ],
      "text/plain": [
       "-4.256666119016056"
      ]
     },
     "execution_count": 581,
     "metadata": {},
     "output_type": "execute_result"
    }
   ],
   "source": [
    "func2(np.array([1,1,1,1,1]),np.array([1,1,0,0,0]))"
   ]
  },
  {
   "cell_type": "code",
   "execution_count": 10,
   "metadata": {},
   "outputs": [],
   "source": [
    "def func_n(comb,x):\n",
    "    rez = 0\n",
    "    for i, x_i in enumerate(comb):\n",
    "        if x_i == 1:\n",
    "            rez+=np.log(A[i].dot(x.T)+1)-x_i*0.01*x[i]                           \n",
    "    return -rez"
   ]
  },
  {
   "cell_type": "code",
   "execution_count": 4,
   "metadata": {},
   "outputs": [],
   "source": [
    "def func_comb(n):\n",
    "    list_combinations,tmp = [],[]\n",
    "    for i in range(1, pow(2, n)):\n",
    "        tmp.append(bin(i)[2:].zfill(n))\n",
    "        list_combinations.append([int(i) for i in bin(i)[2:].zfill(n)])\n",
    "    list_combinations=np.array(list_combinations)\n",
    "    return list_combinations"
   ]
  },
  {
   "cell_type": "code",
   "execution_count": 553,
   "metadata": {
    "scrolled": true
   },
   "outputs": [
    {
     "data": {
      "image/png": "[encoded data removed]",
      "text/plain": [
       "<Figure size 432x288 with 1 Axes>"
      ]
     },
     "metadata": {},
     "output_type": "display_data"
    },
    {
     "name": "stdout",
     "output_type": "stream",
     "text": [
      "[0 0 0 0 1]\n",
      "[ 0.          0.          0.          0.         98.99533946]\n",
      "[0 0 0 1 0]\n",
      "[ 0.          0.          0.         98.99533946  0.        ]\n",
      "[0 0 0 1 1]\n",
      "[ 0.         0.         0.        98.9948767 98.9948767]\n",
      "[0 0 1 0 0]\n",
      "[ 0.          0.         98.99533946  0.          0.        ]\n",
      "[0 0 1 0 1]\n",
      "[ 0.         0.        98.9948767  0.        98.9948767]\n",
      "[0 0 1 1 0]\n",
      "[ 0.         0.        99.5050833 99.5050833  0.       ]\n",
      "[0 0 1 1 1]\n",
      "[ 0.          0.         99.50320595 99.50320595 98.99960425]\n",
      "[0 1 0 0 0]\n",
      "[ 0.         98.99533946  0.          0.          0.        ]\n",
      "[0 1 0 0 1]\n",
      "[ 0.        99.5050833  0.         0.        99.5050833]\n",
      "[0 1 0 1 0]\n",
      "[ 0.        99.5050833  0.        99.5050833  0.       ]\n",
      "[0 1 0 1 1]\n",
      "[  0.        298.9867231   0.          0.          0.       ]\n",
      "[0 1 1 0 0]\n",
      "[ 0.        99.5050833 99.5050833  0.         0.       ]\n",
      "[0 1 1 0 1]\n",
      "[  0.        298.9867231   0.          0.          0.       ]\n",
      "[0 1 1 1 0]\n",
      "[ 0.         99.66500698 99.66500301 99.66500301  0.        ]\n",
      "[0 1 1 1 1]\n",
      "[  0.         398.98961457   0.           0.           0.        ]\n",
      "[1 0 0 0 0]\n",
      "[98.99533946  0.          0.          0.          0.        ]\n",
      "[1 0 0 0 1]\n",
      "[98.9948767  0.         0.         0.        98.9948767]\n",
      "[1 0 0 1 0]\n",
      "[99.5050833  0.         0.        99.5050833  0.       ]\n",
      "[1 0 0 1 1]\n",
      "[99.50320595  0.          0.         99.50320595 98.99960425]\n",
      "[1 0 1 0 0]\n",
      "[98.9948767  0.        98.9948767  0.         0.       ]\n",
      "[1 0 1 0 1]\n",
      "[98.99805445  0.         98.99805445  0.         98.99984364]\n",
      "[1 0 1 1 0]\n",
      "[  0.           0.           0.         299.00904845   0.        ]\n",
      "[1 0 1 1 1]\n",
      "[  0.           0.           0.         295.91923464  85.87235675]\n",
      "[1 1 0 0 0]\n",
      "[99.5050833 99.5050833  0.         0.         0.       ]\n",
      "[1 1 0 0 1]\n",
      "[  0.        298.9867231   0.          0.          0.       ]\n",
      "[1 1 0 1 0]\n",
      "[99.66836338 99.66836338  0.         99.66836338  0.        ]\n",
      "[1 1 0 1 1]\n",
      "[  0.         399.00019932   0.           0.           0.        ]\n",
      "[1 1 1 0 0]\n",
      "[  0.        298.9867231   0.          0.          0.       ]\n",
      "[1 1 1 0 1]\n",
      "[  0.         399.01627818   0.           0.           0.        ]\n",
      "[1 1 1 1 0]\n",
      "[  0.         199.49864326   0.         199.49861951   0.        ]\n",
      "[1 1 1 1 1]\n",
      "[0.00000000e+00 4.25828801e+02 0.00000000e+00 9.27832085e+01\n",
      " 1.42108547e-14]\n"
     ]
    }
   ],
   "source": [
    "n = 5\n",
    "x0 = np.array(np.zeros(n,))\n",
    "tmp = []\n",
    "list_combinations = func_comb(n)\n",
    "results = []\n",
    "list_res = []\n",
    "results_comb = []\n",
    "results_comb1 = []\n",
    "bounds = Bounds(np.zeros(n,),[np.inf for i in range(0,n)])\n",
    "for k in range(0,200):\n",
    "    A = func_graph(n, 0.5)\n",
    "    for comb in list_combinations:\n",
    "        res = opt.minimize(lambda x: func2(comb,x), x0, method='TNC', bounds = bounds)\n",
    "        results.append(-func2(comb,res.x))\n",
    "        results_comb1.append(comb)\n",
    "        results_comb.append(k)\n",
    "        print(comb)\n",
    "        print(res.x)\n",
    "    break"
   ]
  },
  {
   "cell_type": "code",
   "execution_count": 450,
   "metadata": {},
   "outputs": [
    {
     "name": "stdout",
     "output_type": "stream",
     "text": [
      "[[1 1 0 1 1]\n",
      " [1 1 1 0 0]\n",
      " [0 1 1 1 1]\n",
      " [1 0 1 1 0]\n",
      " [1 0 1 0 1]] = A\n"
     ]
    },
    {
     "data": {
      "image/png": "[encoded data removed]",
      "text/plain": [
       "<Figure size 432x288 with 1 Axes>"
      ]
     },
     "metadata": {},
     "output_type": "display_data"
    },
    {
     "data": {
      "image/png": "[encoded data removed]",
      "text/latex": [
       "$\\displaystyle \\left[ 1, \\  1, \\  1, \\  0, \\  1\\right]$"
      ],
      "text/plain": [
       "[1, 1, 1, 0, 1]"
      ]
     },
     "execution_count": 450,
     "metadata": {},
     "output_type": "execute_result"
    }
   ],
   "source": [
    "n = 5\n",
    "x0 = np.array(np.zeros(n,))\n",
    "tmp = []\n",
    "list_combinations = func_comb(n)\n",
    "results = []\n",
    "list_res = []\n",
    "results_comb = []\n",
    "results_comb1 = []\n",
    "A = np.array([[1, 1, 0, 1, 1], [1, 1, 1, 0, 0],[0, 1, 1, 1, 1],[1, 0, 1, 1, 0],[1, 0, 1, 0, 1]])\n",
    "print(A, '= A')\n",
    "graph = [(0,2), (2,3), (3,1), (1,4), (4,0)]\n",
    "draw_graph(graph)\n",
    "bounds = Bounds(np.zeros(n,),[np.inf for i in range(0,n)])\n",
    "comb = [1, 1, 1, 0, 1]\n",
    "comb\n",
    "# for k in range(0,200):\n",
    "#     A = func_graph(n, 0.5)\n",
    "#     print(A)\n",
    "#     for comb in list_combinations:\n",
    "#         res = opt.minimize(lambda x: func_n(comb,x), x0, method='TNC', bounds = bounds)\n",
    "#         print(res.x)\n",
    "#         results.append(-func_n(comb,res.x))\n",
    "#         results_comb1.append(comb)\n",
    "#         results_comb.append(k)\n",
    "#     break\n",
    "    "
   ]
  },
  {
   "cell_type": "code",
   "execution_count": 351,
   "metadata": {},
   "outputs": [
    {
     "name": "stdout",
     "output_type": "stream",
     "text": [
      "[array([0, 0, 0, 0, 1]), array([0, 0, 0, 1, 0]), array([0, 0, 0, 1, 1]), array([0, 0, 1, 0, 0]), array([0, 0, 1, 0, 1]), array([0, 0, 1, 1, 0]), array([0, 0, 1, 1, 1]), array([0, 1, 0, 0, 0]), array([0, 1, 0, 0, 1]), array([0, 1, 0, 1, 0]), array([0, 1, 0, 1, 1]), array([0, 1, 1, 0, 0]), array([0, 1, 1, 0, 1]), array([0, 1, 1, 1, 0]), array([0, 1, 1, 1, 1]), array([1, 0, 0, 0, 0]), array([1, 0, 0, 0, 1]), array([1, 0, 0, 1, 0]), array([1, 0, 0, 1, 1]), array([1, 0, 1, 0, 0]), array([1, 0, 1, 0, 1]), array([1, 0, 1, 1, 0]), array([1, 0, 1, 1, 1]), array([1, 1, 0, 0, 0]), array([1, 1, 0, 0, 1]), array([1, 1, 0, 1, 0]), array([1, 1, 0, 1, 1]), array([1, 1, 1, 0, 0]), array([1, 1, 1, 0, 1]), array([1, 1, 1, 1, 0]), array([1, 1, 1, 1, 1])]\n"
     ]
    }
   ],
   "source": [
    "print(results_comb1)"
   ]
  },
  {
   "cell_type": "code",
   "execution_count": 549,
   "metadata": {},
   "outputs": [
    {
     "data": {
      "image/png": "[encoded data removed]",
      "text/plain": [
       "<Figure size 432x288 with 1 Axes>"
      ]
     },
     "metadata": {},
     "output_type": "display_data"
    },
    {
     "name": "stdout",
     "output_type": "stream",
     "text": [
      "[9882654.06820044       0.               0.        ]\n",
      "[0 0 1]\n",
      "[9882654.06820044       0.               0.        ]\n",
      "[0 1 0]\n",
      "[9882902.9038971       0.              0.       ]\n",
      "[0 1 1]\n",
      "[      0.         6988245.36831923 6988245.36831923]\n",
      "[1 0 0]\n",
      "[  57.13162261 1452.27010635   55.29512403]\n",
      "[1 0 1]\n",
      "[4.93583755e+01 4.93585790e+01 1.11981554e+05]\n",
      "[1 1 0]\n",
      "[298.96618582   0.           0.        ]\n",
      "[1 1 1]\n"
     ]
    }
   ],
   "source": [
    "n = 3\n",
    "x0 = np.array(np.zeros(n,))\n",
    "tmp = []\n",
    "list_combinations = func_comb(n)\n",
    "results = []\n",
    "list_res = []\n",
    "results_comb = []\n",
    "results_comb1 = []\n",
    "bounds = Bounds(np.zeros(n,),[np.inf for i in range(0,n)])\n",
    "for k in range(0,200):\n",
    "    A = func_graph(n, 0.5)\n",
    "    for comb in list_combinations:\n",
    "        res = opt.minimize(lambda x: func_n(comb,x), x0, method='TNC', bounds = bounds)\n",
    "        print(res.x)\n",
    "        print(comb)\n",
    "        results.append(-func_n(comb,res.x))\n",
    "        results_comb1.append(comb)\n",
    "        results_comb.append(k)\n",
    "    break\n",
    "    "
   ]
  },
  {
   "cell_type": "code",
   "execution_count": 247,
   "metadata": {
    "scrolled": false
   },
   "outputs": [
    {
     "data": {
      "text/plain": [
       "[3.6151701849020244,\n",
       " 3.6151701849020244,\n",
       " 7.230340369351271,\n",
       " 3.6151701849020244,\n",
       " 7.230340369351271,\n",
       " 7.230340369351271,\n",
       " 10.845510557584532]"
      ]
     },
     "execution_count": 247,
     "metadata": {},
     "output_type": "execute_result"
    }
   ],
   "source": [
    "results"
   ]
  },
  {
   "cell_type": "code",
   "execution_count": 405,
   "metadata": {
    "scrolled": true
   },
   "outputs": [],
   "source": [
    "def f(arg) :\n",
    "    e0,e1,e3 = arg\n",
    "    c = 1.9\n",
    "    first_eq = (2/(2*e1+e3+e0+1)-2*c+4/(2*e0+e1+1))\n",
    "    second_eq = (4/(2*e1+e3+e0+1)-2*c+2/(2*e0+e1+1))\n",
    "    third_eq = 1/(e3+2*e0+1)-c\n",
    "    return [first_eq, second_eq, third_eq]"
   ]
  },
  {
   "cell_type": "code",
   "execution_count": 663,
   "metadata": {},
   "outputs": [],
   "source": [
    "def equations(p):\n",
    "    e0,e1,e2,e3,e4 = p\n",
    "    c = 1\n",
    "    f0 = 1/(e0+e1+e3+e4+1)-c+1/(e0+e1+e2+1)+1/(e0+e2+e4+1)\n",
    "    f1 = 1/(e0+e1+e3+e4+1)-c+1/(e0+e1+e2+1)+1/(e1+e2+e3+e4+1)\n",
    "    f2 = 1/(e0+e1+e2+1)-c+1/(e0+e2+e4+1)+1/(e1+e2+e3+e4+1)\n",
    "    f3 = 1/(e0+e2+e3+1)-c\n",
    "    f4 = 1/(e0+e1+e3+e4+1)-c+1/(e1+e2+e3+e4+1)+1/(e0+e2+e4+1)\n",
    "    f = [f0,f1,f2,f3,f4]\n",
    "    return f"
   ]
  },
  {
   "cell_type": "code",
   "execution_count": null,
   "metadata": {},
   "outputs": [],
   "source": [
    "rez = 0\n",
    "    for i, x_i in enumerate(comb):\n",
    "        if x_i == 1:\n",
    "            rez+=np.log(A[i].dot(comb.T*x.T)+1)-x_i*0.01*x[i]                           \n",
    "    return -rez"
   ]
  },
  {
   "cell_type": "code",
   "execution_count": 918,
   "metadata": {},
   "outputs": [],
   "source": [
    "def equations_1(x,comb):\n",
    "    n = len(comb)\n",
    "    c = 0.01\n",
    "    f = [0 for i in range(0,n)]\n",
    "#     A = np.array([[1, 1, 0, 1, 1], [1, 1, 1, 0, 0],[0, 1, 1, 1, 1],[1, 0, 1, 1, 0],[1, 0, 1, 0, 1]])\n",
    "#         first for l in S\n",
    "    for l, x_l in enumerate(comb):\n",
    "        if(x_l==1):\n",
    "#                 для каждого игрока из S берем вектор его сосдей из А, для построения (e1+e0+...+1)\n",
    "            for i, x_i in enumerate(A[l]*comb.T):\n",
    "                if (x_i==1):\n",
    "                    f[l]+=1/(sum(A[i]*x.T)+1)\n",
    "            f[l]=f[l]-c\n",
    "        else:\n",
    "            f[l]=1/(sum(A[l]*x.T)+1)-c\n",
    "    return f"
   ]
  },
  {
   "cell_type": "code",
   "execution_count": 919,
   "metadata": {},
   "outputs": [],
   "source": [
    "def equations_log(comb,x):\n",
    "    n = len(comb)\n",
    "    c = 0.01\n",
    "    f = [0 for i in range(0,n)]\n",
    "    for l, x_l in enumerate(comb):\n",
    "        if(x_l==1):\n",
    "            f[l]=np.log(sum(A[l]*x.T)+1)-c*x[l]\n",
    "\n",
    "    return sum(f)"
   ]
  },
  {
   "cell_type": "code",
   "execution_count": 853,
   "metadata": {},
   "outputs": [
    {
     "name": "stdout",
     "output_type": "stream",
     "text": [
      "[[1 1 1]\n",
      " [1 1 1]\n",
      " [1 1 1]]\n",
      "0 1\n",
      "f[l] 0.43194562200144293\n",
      "1 1\n",
      "f[l] 0.43194562200144293\n",
      "2 1\n",
      "f[l] 0.43194562200144293\n",
      "f 1.2958368660043287\n"
     ]
    }
   ],
   "source": [
    "print('f',equations_log(np.array([1,1,1]),np.array([0.66666667, 0.66666667, 0.66666667])))"
   ]
  },
  {
   "cell_type": "code",
   "execution_count": 818,
   "metadata": {
    "collapsed": true
   },
   "outputs": [
    {
     "ename": "ValueError",
     "evalue": "Inconsistent shapes between bounds and `x0`.",
     "output_type": "error",
     "traceback": [
      "\u001b[1;31m---------------------------------------------------------------------------\u001b[0m",
      "\u001b[1;31mValueError\u001b[0m                                Traceback (most recent call last)",
      "\u001b[1;32m<ipython-input-818-0123ccce0599>\u001b[0m in \u001b[0;36m<module>\u001b[1;34m\u001b[0m\n\u001b[0;32m      5\u001b[0m \u001b[0mcomb\u001b[0m \u001b[1;33m=\u001b[0m \u001b[0mnp\u001b[0m\u001b[1;33m.\u001b[0m\u001b[0marray\u001b[0m\u001b[1;33m(\u001b[0m\u001b[1;33m[\u001b[0m\u001b[1;36m1\u001b[0m\u001b[1;33m,\u001b[0m\u001b[1;36m1\u001b[0m\u001b[1;33m,\u001b[0m\u001b[1;36m1\u001b[0m\u001b[1;33m,\u001b[0m\u001b[1;36m0\u001b[0m\u001b[1;33m,\u001b[0m\u001b[1;36m1\u001b[0m\u001b[1;33m]\u001b[0m\u001b[1;33m)\u001b[0m\u001b[1;33m\u001b[0m\u001b[1;33m\u001b[0m\u001b[0m\n\u001b[0;32m      6\u001b[0m \u001b[0mbounds\u001b[0m\u001b[1;33m=\u001b[0m\u001b[1;33m(\u001b[0m\u001b[0mnp\u001b[0m\u001b[1;33m.\u001b[0m\u001b[0mzeros\u001b[0m\u001b[1;33m(\u001b[0m\u001b[0mn\u001b[0m\u001b[1;33m,\u001b[0m\u001b[1;33m)\u001b[0m\u001b[1;33m,\u001b[0m\u001b[1;33m[\u001b[0m\u001b[0mnp\u001b[0m\u001b[1;33m.\u001b[0m\u001b[0minf\u001b[0m \u001b[1;32mfor\u001b[0m \u001b[0mi\u001b[0m \u001b[1;32min\u001b[0m \u001b[0mrange\u001b[0m\u001b[1;33m(\u001b[0m\u001b[1;36m0\u001b[0m\u001b[1;33m,\u001b[0m\u001b[0mn\u001b[0m\u001b[1;33m)\u001b[0m\u001b[1;33m]\u001b[0m\u001b[1;33m)\u001b[0m\u001b[1;33m\u001b[0m\u001b[1;33m\u001b[0m\u001b[0m\n\u001b[1;32m----> 7\u001b[1;33m \u001b[0me\u001b[0m \u001b[1;33m=\u001b[0m  \u001b[0mopt\u001b[0m\u001b[1;33m.\u001b[0m\u001b[0mleast_squares\u001b[0m\u001b[1;33m(\u001b[0m\u001b[1;32mlambda\u001b[0m \u001b[0mx\u001b[0m\u001b[1;33m:\u001b[0m \u001b[0mequations_1\u001b[0m\u001b[1;33m(\u001b[0m\u001b[0mx\u001b[0m\u001b[1;33m,\u001b[0m\u001b[0mcomb\u001b[0m\u001b[1;33m)\u001b[0m\u001b[1;33m,\u001b[0m \u001b[1;33m(\u001b[0m\u001b[1;36m1\u001b[0m\u001b[1;33m,\u001b[0m\u001b[1;36m1\u001b[0m\u001b[1;33m,\u001b[0m\u001b[1;36m1\u001b[0m\u001b[1;33m,\u001b[0m\u001b[1;36m1\u001b[0m\u001b[1;33m,\u001b[0m\u001b[1;36m1\u001b[0m\u001b[1;33m)\u001b[0m\u001b[1;33m,\u001b[0m \u001b[0mbounds\u001b[0m\u001b[1;33m=\u001b[0m \u001b[0mbounds\u001b[0m\u001b[1;33m)\u001b[0m\u001b[1;33m\u001b[0m\u001b[1;33m\u001b[0m\u001b[0m\n\u001b[0m\u001b[0;32m      8\u001b[0m \u001b[0mprint\u001b[0m \u001b[1;33m(\u001b[0m\u001b[0me\u001b[0m\u001b[1;33m.\u001b[0m\u001b[0mx\u001b[0m\u001b[1;33m)\u001b[0m\u001b[1;33m\u001b[0m\u001b[1;33m\u001b[0m\u001b[0m\n",
      "\u001b[1;32m~\\Anaconda3\\lib\\site-packages\\scipy\\optimize\\_lsq\\least_squares.py\u001b[0m in \u001b[0;36mleast_squares\u001b[1;34m(fun, x0, jac, bounds, method, ftol, xtol, gtol, x_scale, loss, f_scale, diff_step, tr_solver, tr_options, jac_sparsity, max_nfev, verbose, args, kwargs)\u001b[0m\n\u001b[0;32m    786\u001b[0m \u001b[1;33m\u001b[0m\u001b[0m\n\u001b[0;32m    787\u001b[0m     \u001b[1;32mif\u001b[0m \u001b[0mlb\u001b[0m\u001b[1;33m.\u001b[0m\u001b[0mshape\u001b[0m \u001b[1;33m!=\u001b[0m \u001b[0mx0\u001b[0m\u001b[1;33m.\u001b[0m\u001b[0mshape\u001b[0m \u001b[1;32mor\u001b[0m \u001b[0mub\u001b[0m\u001b[1;33m.\u001b[0m\u001b[0mshape\u001b[0m \u001b[1;33m!=\u001b[0m \u001b[0mx0\u001b[0m\u001b[1;33m.\u001b[0m\u001b[0mshape\u001b[0m\u001b[1;33m:\u001b[0m\u001b[1;33m\u001b[0m\u001b[1;33m\u001b[0m\u001b[0m\n\u001b[1;32m--> 788\u001b[1;33m         \u001b[1;32mraise\u001b[0m \u001b[0mValueError\u001b[0m\u001b[1;33m(\u001b[0m\u001b[1;34m\"Inconsistent shapes between bounds and `x0`.\"\u001b[0m\u001b[1;33m)\u001b[0m\u001b[1;33m\u001b[0m\u001b[1;33m\u001b[0m\u001b[0m\n\u001b[0m\u001b[0;32m    789\u001b[0m \u001b[1;33m\u001b[0m\u001b[0m\n\u001b[0;32m    790\u001b[0m     \u001b[1;32mif\u001b[0m \u001b[0mnp\u001b[0m\u001b[1;33m.\u001b[0m\u001b[0many\u001b[0m\u001b[1;33m(\u001b[0m\u001b[0mlb\u001b[0m \u001b[1;33m>=\u001b[0m \u001b[0mub\u001b[0m\u001b[1;33m)\u001b[0m\u001b[1;33m:\u001b[0m\u001b[1;33m\u001b[0m\u001b[1;33m\u001b[0m\u001b[0m\n",
      "\u001b[1;31mValueError\u001b[0m: Inconsistent shapes between bounds and `x0`."
     ]
    }
   ],
   "source": [
    "A = np.array([[1, 1, 0, 1, 1], [1, 1, 1, 0, 0],[0, 1, 1, 1, 1],[1, 0, 1, 1, 0],[1, 0, 1, 0, 1]])\n",
    "# print(A, '= A')\n",
    "x = np.array([1,1,1,1,1])\n",
    "# print(equations_1(x))\n",
    "comb = np.array([1,1,1,0,1])\n",
    "bounds=(np.zeros(n,),[np.inf for i in range(0,n)])\n",
    "e =  opt.least_squares(lambda x: equations_1(x,comb), (1,1,1,1,1), bounds= bounds)\n",
    "print (e.x)"
   ]
  },
  {
   "cell_type": "code",
   "execution_count": 920,
   "metadata": {},
   "outputs": [],
   "source": [
    "n = 5\n",
    "x0 = np.array(np.zeros(n,))\n",
    "tmp = []\n",
    "list_combinations = func_comb(n)\n",
    "results = []\n",
    "list_res = []\n",
    "results_comb = []\n",
    "results_comb1 = []\n",
    "bounds = (np.zeros(n,),[np.inf for i in range(0,n)])\n",
    "for k in range(0,200):\n",
    "    A = func_graph(n, 0.5)\n",
    "    for comb in list_combinations:\n",
    "        res = opt.least_squares(lambda x: equations_1(x,comb), [1 for i in range(0,n)], bounds= bounds)\n",
    "#         print('comb', comb)\n",
    "#         print(res.x)        \n",
    "        results.append(equations_log(comb,res.x))\n",
    "        results_comb1.append(comb)\n",
    "        results_comb.append(k)\n",
    "#         print('f',equations_log(comb,res.x))\n",
    "   "
   ]
  },
  {
   "cell_type": "code",
   "execution_count": 810,
   "metadata": {},
   "outputs": [
    {
     "name": "stdout",
     "output_type": "stream",
     "text": [
      "[1 1 1 0 1]\n",
      "0 1\n",
      "1 1\n",
      "2 1\n",
      "3 0\n",
      "4 1\n"
     ]
    }
   ],
   "source": [
    "comb = np.array([1,1,1,0,1])\n",
    "print(comb)\n",
    "for i, x_i in enumerate(comb):\n",
    "    print(i, x_i)"
   ]
  },
  {
   "cell_type": "code",
   "execution_count": 542,
   "metadata": {},
   "outputs": [
    {
     "data": {
      "text/plain": [
       "(array([0., 0., 0., 0., 0.]), [inf, inf, inf, inf, inf])"
      ]
     },
     "execution_count": 542,
     "metadata": {},
     "output_type": "execute_result"
    }
   ],
   "source": [
    "bounds=(np.zeros(n,),[np.inf for i in range(0,n)])\n",
    "#  Bounds(np.zeros(n,),[np.inf for i in range(0,n)])\n",
    "bounds"
   ]
  },
  {
   "cell_type": "code",
   "execution_count": 664,
   "metadata": {},
   "outputs": [
    {
     "name": "stdout",
     "output_type": "stream",
     "text": [
      " active_mask: array([ 0,  0,  0, -1,  0])\n",
      "        cost: 0.011390671692270638\n",
      "         fun: array([ 0.07213828, -0.07771551,  0.07213828, -0.01714874, -0.07771551])\n",
      "        grad: array([ 6.70427066e-08, -1.89333141e-08,  6.73706833e-08,  2.76092973e-02,\n",
      "       -1.91491589e-08])\n",
      "         jac: array([[-0.39813093, -0.23221264, -0.33183658, -0.06629435, -0.23221265],\n",
      "       [-0.23221264, -0.298507  , -0.23221265, -0.13258871, -0.13258871],\n",
      "       [-0.33183658, -0.23221265, -0.39813094, -0.06629436, -0.23221265],\n",
      "       [-0.96599659,  0.        , -0.96599659, -0.96599659,  0.        ],\n",
      "       [-0.23221264, -0.13258871, -0.23221265, -0.13258871, -0.298507  ]])\n",
      "     message: '`ftol` termination condition is satisfied.'\n",
      "        nfev: 12\n",
      "        njev: 12\n",
      "  optimality: 1.9149158925202414e-08\n",
      "      status: 2\n",
      "     success: True\n",
      "           x: array([8.72400645e-03, 1.43755980e+00, 8.72393988e-03, 9.87537193e-14,\n",
      "       1.43755980e+00])\n"
     ]
    }
   ],
   "source": [
    "bounds=(np.zeros(n,),[np.inf for i in range(0,n)])\n",
    "e =  opt.least_squares(lambda x: equations(x), (1,1,1,1,1), bounds= bounds)\n",
    "print (e)"
   ]
  },
  {
   "cell_type": "code",
   "execution_count": 462,
   "metadata": {},
   "outputs": [
    {
     "data": {
      "text/plain": [
       "array([0., 0., 0., 0., 0.])"
      ]
     },
     "execution_count": 462,
     "metadata": {},
     "output_type": "execute_result"
    }
   ],
   "source": [
    "np.zeros(5,)"
   ]
  },
  {
   "cell_type": "code",
   "execution_count": 505,
   "metadata": {},
   "outputs": [],
   "source": [
    "def ff(x):\n",
    "    e0,e1,e3= x\n",
    "    c = 1\n",
    "    f0 = 1/(e0+e1+e3+e1+1)-c+1/(e0+e1+e0+1)+1/(e0+e0+e1+1)\n",
    "    f1 = 1/(e0+e1+e3+e1+1)-c+1/(e0+e1+e0+1)+1/(e1+e0+e3+e1+1)\n",
    "    f3 = 1/(e0+e0+e3+1)-c\n",
    "    e= (e0,e1,e3)\n",
    "    f = [f0,f1,f3]\n",
    "    print(f)\n",
    "    return f"
   ]
  },
  {
   "cell_type": "code",
   "execution_count": 23,
   "metadata": {},
   "outputs": [],
   "source": [
    "def ff(x):\n",
    "    e1,e2,e3,e4,e5 = x\n",
    "    c = 0.3\n",
    "    f1 = 1/(e1+e2+e5+1)-c+1/(e1+e2+e3+1)\n",
    "    f3 = 1/(e3+e2+e4+1)-c+1/(e1+e2+e3+1)\n",
    "    f2 = 1/(e2+e1+e3+1)-c+1/(e1+e2+e5+1)+1/(e3+e2+e4+1)\n",
    "    f4 = 1/(e4+e3+e5+1)-c\n",
    "    f5 = 1/(e5+e4+e1+1)-c\n",
    "    f = [f1,f2,f3,f4,f5]  \n",
    "    return f"
   ]
  },
  {
   "cell_type": "code",
   "execution_count": 29,
   "metadata": {},
   "outputs": [
    {
     "name": "stdout",
     "output_type": "stream",
     "text": [
      "[Eq(-c + 1/(e1 + e2 + e5 + 1) + 1/(e1 + e2 + e3 + 1), 0), Eq(-c + 1/(e2 + e3 + e4 + 1) + 1/(e1 + e2 + e5 + 1) + 1/(e1 + e2 + e3 + 1), 0), Eq(-c + 1/(e2 + e3 + e4 + 1) + 1/(e1 + e2 + e3 + 1), 0), Eq(-c + 1/(e3 + e4 + e5 + 1), 0), Eq(-c + 1/(e1 + e4 + e5 + 1), 0)]\n",
      "[]\n"
     ]
    },
    {
     "ename": "ValueError",
     "evalue": "Could not find root within given tolerance. (0.00000381469726562499994065 > 2.16840434497100886801e-19)\nTry another starting point or tweak arguments.",
     "output_type": "error",
     "traceback": [
      "\u001b[1;31m---------------------------------------------------------------------------\u001b[0m",
      "\u001b[1;31mValueError\u001b[0m                                Traceback (most recent call last)",
      "\u001b[1;32m<ipython-input-29-2181f1263b87>\u001b[0m in \u001b[0;36m<module>\u001b[1;34m\u001b[0m\n\u001b[0;32m     14\u001b[0m \u001b[0mprint\u001b[0m\u001b[1;33m(\u001b[0m\u001b[0mf\u001b[0m\u001b[1;33m)\u001b[0m\u001b[1;33m\u001b[0m\u001b[1;33m\u001b[0m\u001b[0m\n\u001b[0;32m     15\u001b[0m \u001b[0mprint\u001b[0m\u001b[1;33m(\u001b[0m\u001b[0msm\u001b[0m\u001b[1;33m.\u001b[0m\u001b[0msolve\u001b[0m\u001b[1;33m(\u001b[0m\u001b[0mf\u001b[0m\u001b[1;33m,\u001b[0m\u001b[0me\u001b[0m\u001b[1;33m)\u001b[0m\u001b[1;33m)\u001b[0m\u001b[1;33m\u001b[0m\u001b[1;33m\u001b[0m\u001b[0m\n\u001b[1;32m---> 16\u001b[1;33m \u001b[0msm\u001b[0m\u001b[1;33m.\u001b[0m\u001b[0mnsolve\u001b[0m\u001b[1;33m(\u001b[0m\u001b[0mff\u001b[0m\u001b[1;33m(\u001b[0m\u001b[0msm\u001b[0m\u001b[1;33m.\u001b[0m\u001b[0msymbols\u001b[0m\u001b[1;33m(\u001b[0m\u001b[1;34m'e1,e2,e3,e4,e5'\u001b[0m\u001b[1;33m)\u001b[0m\u001b[1;33m)\u001b[0m\u001b[1;33m,\u001b[0m\u001b[0msm\u001b[0m\u001b[1;33m.\u001b[0m\u001b[0msymbols\u001b[0m\u001b[1;33m(\u001b[0m\u001b[1;34m'e1 e2 e3 e4 e5'\u001b[0m\u001b[1;33m)\u001b[0m\u001b[1;33m,\u001b[0m \u001b[1;33m[\u001b[0m\u001b[1;36m0\u001b[0m\u001b[1;33m,\u001b[0m\u001b[1;36m0\u001b[0m\u001b[1;33m,\u001b[0m\u001b[1;36m0\u001b[0m\u001b[1;33m,\u001b[0m\u001b[1;36m0\u001b[0m\u001b[1;33m,\u001b[0m\u001b[1;36m0\u001b[0m\u001b[1;33m]\u001b[0m\u001b[1;33m)\u001b[0m\u001b[1;33m\u001b[0m\u001b[1;33m\u001b[0m\u001b[0m\n\u001b[0m",
      "\u001b[1;32m~\\Anaconda3\\lib\\site-packages\\sympy\\utilities\\decorator.py\u001b[0m in \u001b[0;36mfunc_wrapper\u001b[1;34m(*args, **kwargs)\u001b[0m\n\u001b[0;32m     88\u001b[0m         \u001b[0mdps\u001b[0m \u001b[1;33m=\u001b[0m \u001b[0mmpmath\u001b[0m\u001b[1;33m.\u001b[0m\u001b[0mmp\u001b[0m\u001b[1;33m.\u001b[0m\u001b[0mdps\u001b[0m\u001b[1;33m\u001b[0m\u001b[1;33m\u001b[0m\u001b[0m\n\u001b[0;32m     89\u001b[0m         \u001b[1;32mtry\u001b[0m\u001b[1;33m:\u001b[0m\u001b[1;33m\u001b[0m\u001b[1;33m\u001b[0m\u001b[0m\n\u001b[1;32m---> 90\u001b[1;33m             \u001b[1;32mreturn\u001b[0m \u001b[0mfunc\u001b[0m\u001b[1;33m(\u001b[0m\u001b[1;33m*\u001b[0m\u001b[0margs\u001b[0m\u001b[1;33m,\u001b[0m \u001b[1;33m**\u001b[0m\u001b[0mkwargs\u001b[0m\u001b[1;33m)\u001b[0m\u001b[1;33m\u001b[0m\u001b[1;33m\u001b[0m\u001b[0m\n\u001b[0m\u001b[0;32m     91\u001b[0m         \u001b[1;32mfinally\u001b[0m\u001b[1;33m:\u001b[0m\u001b[1;33m\u001b[0m\u001b[1;33m\u001b[0m\u001b[0m\n\u001b[0;32m     92\u001b[0m             \u001b[0mmpmath\u001b[0m\u001b[1;33m.\u001b[0m\u001b[0mmp\u001b[0m\u001b[1;33m.\u001b[0m\u001b[0mdps\u001b[0m \u001b[1;33m=\u001b[0m \u001b[0mdps\u001b[0m\u001b[1;33m\u001b[0m\u001b[1;33m\u001b[0m\u001b[0m\n",
      "\u001b[1;32m~\\Anaconda3\\lib\\site-packages\\sympy\\solvers\\solvers.py\u001b[0m in \u001b[0;36mnsolve\u001b[1;34m(*args, **kwargs)\u001b[0m\n\u001b[0;32m   3045\u001b[0m     \u001b[0mJ\u001b[0m \u001b[1;33m=\u001b[0m \u001b[0mlambdify\u001b[0m\u001b[1;33m(\u001b[0m\u001b[0mfargs\u001b[0m\u001b[1;33m,\u001b[0m \u001b[0mJ\u001b[0m\u001b[1;33m,\u001b[0m \u001b[0mmodules\u001b[0m\u001b[1;33m)\u001b[0m\u001b[1;33m\u001b[0m\u001b[1;33m\u001b[0m\u001b[0m\n\u001b[0;32m   3046\u001b[0m     \u001b[1;31m# solve the system numerically\u001b[0m\u001b[1;33m\u001b[0m\u001b[1;33m\u001b[0m\u001b[1;33m\u001b[0m\u001b[0m\n\u001b[1;32m-> 3047\u001b[1;33m     \u001b[0mx\u001b[0m \u001b[1;33m=\u001b[0m \u001b[0mfindroot\u001b[0m\u001b[1;33m(\u001b[0m\u001b[0mf\u001b[0m\u001b[1;33m,\u001b[0m \u001b[0mx0\u001b[0m\u001b[1;33m,\u001b[0m \u001b[0mJ\u001b[0m\u001b[1;33m=\u001b[0m\u001b[0mJ\u001b[0m\u001b[1;33m,\u001b[0m \u001b[1;33m**\u001b[0m\u001b[0mkwargs\u001b[0m\u001b[1;33m)\u001b[0m\u001b[1;33m\u001b[0m\u001b[1;33m\u001b[0m\u001b[0m\n\u001b[0m\u001b[0;32m   3048\u001b[0m     \u001b[1;32mif\u001b[0m \u001b[0mas_dict\u001b[0m\u001b[1;33m:\u001b[0m\u001b[1;33m\u001b[0m\u001b[1;33m\u001b[0m\u001b[0m\n\u001b[0;32m   3049\u001b[0m         \u001b[1;32mreturn\u001b[0m \u001b[1;33m[\u001b[0m\u001b[0mdict\u001b[0m\u001b[1;33m(\u001b[0m\u001b[0mzip\u001b[0m\u001b[1;33m(\u001b[0m\u001b[0mfargs\u001b[0m\u001b[1;33m,\u001b[0m \u001b[1;33m[\u001b[0m\u001b[0msympify\u001b[0m\u001b[1;33m(\u001b[0m\u001b[0mxi\u001b[0m\u001b[1;33m)\u001b[0m \u001b[1;32mfor\u001b[0m \u001b[0mxi\u001b[0m \u001b[1;32min\u001b[0m \u001b[0mx\u001b[0m\u001b[1;33m]\u001b[0m\u001b[1;33m)\u001b[0m\u001b[1;33m)\u001b[0m\u001b[1;33m]\u001b[0m\u001b[1;33m\u001b[0m\u001b[1;33m\u001b[0m\u001b[0m\n",
      "\u001b[1;32m~\\Anaconda3\\lib\\site-packages\\mpmath\\calculus\\optimization.py\u001b[0m in \u001b[0;36mfindroot\u001b[1;34m(ctx, f, x0, solver, tol, verbose, verify, **kwargs)\u001b[0m\n\u001b[0;32m    977\u001b[0m                              \u001b[1;34m'(%s > %s)\\n'\u001b[0m\u001b[1;33m\u001b[0m\u001b[1;33m\u001b[0m\u001b[0m\n\u001b[0;32m    978\u001b[0m                              \u001b[1;34m'Try another starting point or tweak arguments.'\u001b[0m\u001b[1;33m\u001b[0m\u001b[1;33m\u001b[0m\u001b[0m\n\u001b[1;32m--> 979\u001b[1;33m                              % (norm(f(*xl))**2, tol))\n\u001b[0m\u001b[0;32m    980\u001b[0m         \u001b[1;32mreturn\u001b[0m \u001b[0mx\u001b[0m\u001b[1;33m\u001b[0m\u001b[1;33m\u001b[0m\u001b[0m\n\u001b[0;32m    981\u001b[0m     \u001b[1;32mfinally\u001b[0m\u001b[1;33m:\u001b[0m\u001b[1;33m\u001b[0m\u001b[1;33m\u001b[0m\u001b[0m\n",
      "\u001b[1;31mValueError\u001b[0m: Could not find root within given tolerance. (0.00000381469726562499994065 > 2.16840434497100886801e-19)\nTry another starting point or tweak arguments."
     ]
    }
   ],
   "source": [
    "import sympy as sm\n",
    "sm.init_printing()\n",
    "x0 = (np.array([1,1,1]))\n",
    "e1,e2,e3,e4,e5= sm.symbols('e1,e2,e3,e4,e5')\n",
    "c = sm.Symbol('c')\n",
    "f1 = sm.Eq(1/(e1+e2+e5+1)-c+1/(e1+e2+e3+1),0)\n",
    "f3 = sm.Eq(1/(e3+e2+e4+1)-c+1/(e1+e2+e3+1),0)\n",
    "f2 = sm.Eq(1/(e2+e1+e3+1)-c+1/(e1+e2+e5+1)+1/(e3+e2+e4+1),0)\n",
    "f4 = sm.Eq(1/(e4+e3+e5+1)-c,0)\n",
    "f5 = sm.Eq(1/(e5+e4+e1+1)-c,0)\n",
    "e= (e1,e2,e3,e4,e5)\n",
    "f = [f1,f2,f3,f4,f5]\n",
    "n = 5\n",
    "print(f)\n",
    "print(sm.solve(f,e))\n",
    "sm.nsolve(ff(sm.symbols('e1,e2,e3,e4,e5')),sm.symbols('e1 e2 e3 e4 e5'), [0,0,0,0,0])"
   ]
  },
  {
   "cell_type": "code",
   "execution_count": 504,
   "metadata": {},
   "outputs": [
    {
     "name": "stdout",
     "output_type": "stream",
     "text": [
      "[[1 1 0 1 1]\n",
      " [1 1 1 0 0]\n",
      " [0 1 1 1 1]\n",
      " [1 0 1 1 0]\n",
      " [1 0 1 0 1]] = A\n"
     ]
    },
    {
     "data": {
      "text/plain": [
       "array([e0, e1, e2, 0, 0], dtype=object)"
      ]
     },
     "execution_count": 504,
     "metadata": {},
     "output_type": "execute_result"
    }
   ],
   "source": [
    "A = np.array([[1, 1, 0, 1, 1], [1, 1, 1, 0, 0],[0, 1, 1, 1, 1],[1, 0, 1, 1, 0],[1, 0, 1, 0, 1]])\n",
    "print(A, '= A')\n",
    "e0,e1,e2,e3,e4= sm.symbols('e0,e1,e2,e3,e4')\n",
    "e= (e0,e1,e2,e3,e4)\n",
    "tt = A*e\n",
    "tt[1]"
   ]
  },
  {
   "cell_type": "code",
   "execution_count": 448,
   "metadata": {},
   "outputs": [
    {
     "ename": "NameError",
     "evalue": "name 'x1' is not defined",
     "output_type": "error",
     "traceback": [
      "\u001b[1;31m---------------------------------------------------------------------------\u001b[0m",
      "\u001b[1;31mNameError\u001b[0m                                 Traceback (most recent call last)",
      "\u001b[1;32m<ipython-input-448-0fb486c1b00e>\u001b[0m in \u001b[0;36m<module>\u001b[1;34m\u001b[0m\n\u001b[0;32m      3\u001b[0m \u001b[0mx\u001b[0m\u001b[1;33m,\u001b[0m\u001b[0my\u001b[0m\u001b[1;33m,\u001b[0m\u001b[0mz\u001b[0m \u001b[1;33m=\u001b[0m \u001b[0msym\u001b[0m\u001b[1;33m.\u001b[0m\u001b[0msymbols\u001b[0m\u001b[1;33m(\u001b[0m\u001b[1;34m'x1,y,z'\u001b[0m\u001b[1;33m)\u001b[0m\u001b[1;33m\u001b[0m\u001b[1;33m\u001b[0m\u001b[0m\n\u001b[0;32m      4\u001b[0m \u001b[0mc1\u001b[0m \u001b[1;33m=\u001b[0m \u001b[0msym\u001b[0m\u001b[1;33m.\u001b[0m\u001b[0mSymbol\u001b[0m\u001b[1;33m(\u001b[0m\u001b[1;34m'c1'\u001b[0m\u001b[1;33m)\u001b[0m\u001b[1;33m\u001b[0m\u001b[1;33m\u001b[0m\u001b[0m\n\u001b[1;32m----> 5\u001b[1;33m \u001b[0mf\u001b[0m \u001b[1;33m=\u001b[0m \u001b[0msym\u001b[0m\u001b[1;33m.\u001b[0m\u001b[0mEq\u001b[0m\u001b[1;33m(\u001b[0m\u001b[1;36m2\u001b[0m\u001b[1;33m*\u001b[0m\u001b[0mx1\u001b[0m\u001b[1;33m**\u001b[0m\u001b[1;36m2\u001b[0m\u001b[1;33m+\u001b[0m\u001b[0my\u001b[0m\u001b[1;33m+\u001b[0m\u001b[0mz\u001b[0m\u001b[1;33m,\u001b[0m\u001b[1;36m1\u001b[0m\u001b[1;33m)\u001b[0m\u001b[1;33m\u001b[0m\u001b[1;33m\u001b[0m\u001b[0m\n\u001b[0m\u001b[0;32m      6\u001b[0m \u001b[0mg\u001b[0m \u001b[1;33m=\u001b[0m \u001b[0msym\u001b[0m\u001b[1;33m.\u001b[0m\u001b[0mEq\u001b[0m\u001b[1;33m(\u001b[0m\u001b[0mx\u001b[0m\u001b[1;33m+\u001b[0m\u001b[1;36m2\u001b[0m\u001b[1;33m*\u001b[0m\u001b[0my\u001b[0m\u001b[1;33m+\u001b[0m\u001b[0mz\u001b[0m\u001b[1;33m,\u001b[0m\u001b[0mc1\u001b[0m\u001b[1;33m)\u001b[0m\u001b[1;33m\u001b[0m\u001b[1;33m\u001b[0m\u001b[0m\n\u001b[0;32m      7\u001b[0m \u001b[0mh\u001b[0m \u001b[1;33m=\u001b[0m \u001b[0msym\u001b[0m\u001b[1;33m.\u001b[0m\u001b[0mEq\u001b[0m\u001b[1;33m(\u001b[0m\u001b[1;33m-\u001b[0m\u001b[1;36m2\u001b[0m\u001b[1;33m*\u001b[0m\u001b[0mx\u001b[0m\u001b[1;33m+\u001b[0m\u001b[0my\u001b[0m\u001b[1;33m,\u001b[0m\u001b[1;33m-\u001b[0m\u001b[0mz\u001b[0m\u001b[1;33m)\u001b[0m\u001b[1;33m\u001b[0m\u001b[1;33m\u001b[0m\u001b[0m\n",
      "\u001b[1;31mNameError\u001b[0m: name 'x1' is not defined"
     ]
    }
   ],
   "source": [
    "import sympy as sym\n",
    "sym.init_printing()\n",
    "x,y,z = sym.symbols('x,y,z')\n",
    "c1 = sym.Symbol('c1')\n",
    "f = sym.Eq(2*x**2+y+z,1)\n",
    "g = sym.Eq(x+2*y+z,c1)\n",
    "h = sym.Eq(-2*x+y,-z)\n",
    "print(f)\n",
    "sym.solve([f,g,h],(x,y,z))\n"
   ]
  },
  {
   "cell_type": "code",
   "execution_count": 338,
   "metadata": {
    "collapsed": true
   },
   "outputs": [
    {
     "name": "stdout",
     "output_type": "stream",
     "text": [
      "Requirement already satisfied: cvxpy in c:\\users\\daria_riazanova\\anaconda3\\lib\\site-packages (1.0.31)\n",
      "Requirement already satisfied: scs>=1.1.3 in c:\\users\\daria_riazanova\\anaconda3\\lib\\site-packages (from cvxpy) (2.1.2)\n",
      "Requirement already satisfied: osqp>=0.4.1 in c:\\users\\daria_riazanova\\anaconda3\\lib\\site-packages (from cvxpy) (0.6.1)\n",
      "Requirement already satisfied: ecos>=2 in c:\\users\\daria_riazanova\\anaconda3\\lib\\site-packages (from cvxpy) (2.0.7.post1)\n",
      "Requirement already satisfied: multiprocess in c:\\users\\daria_riazanova\\anaconda3\\lib\\site-packages (from cvxpy) (0.70.9)\n",
      "Requirement already satisfied: scipy>=1.1.0 in c:\\users\\daria_riazanova\\anaconda3\\lib\\site-packages (from cvxpy) (1.4.1)\n",
      "Requirement already satisfied: numpy>=1.15 in c:\\users\\daria_riazanova\\anaconda3\\lib\\site-packages (from cvxpy) (1.18.1)\n",
      "Requirement already satisfied: future in c:\\users\\daria_riazanova\\anaconda3\\lib\\site-packages (from osqp>=0.4.1->cvxpy) (0.18.2)\n",
      "Requirement already satisfied: dill>=0.3.1 in c:\\users\\daria_riazanova\\anaconda3\\lib\\site-packages (from multiprocess->cvxpy) (0.3.1.1)\n"
     ]
    }
   ],
   "source": [
    "# opt.least_squares(fuck(x0), x0)\n",
    "!pip install cvxpy"
   ]
  },
  {
   "cell_type": "code",
   "execution_count": 422,
   "metadata": {},
   "outputs": [
    {
     "name": "stdout",
     "output_type": "stream",
     "text": [
      "[-3.8 + 2/(x + 2*y + z + 1) + 4/(2*x + y + 1), -3.8 + 4/(x + 2*y + z + 1) + 2/(2*x + y + 1), -1.9 + 1/(2*x + z + 1)]\n",
      "Bounds(array([0., 0., 0.]), [inf, inf, inf])\n",
      "[-3.8 + 2/(e0 + 2*e1 + e3 + 1) + 4/(2*e0 + e1 + 1), -3.8 + 4/(e0 + 2*e1 + e3 + 1) + 2/(2*e0 + e1 + 1), -1.9 + 1/(2*e0 + e3 + 1)]\n",
      "[{e0: 0.0210526315789474, e1: 0.536842105263158, e3: -0.515789473684211}]\n",
      "Matrix([[0.0210526315789474], [0.536842105263158], [-0.515789473684211]])\n"
     ]
    }
   ],
   "source": [
    "print(f(sm.symbols('x y z')))\n",
    "n=3\n",
    "bounds = Bounds(np.zeros(n,),[np.inf for i in range(0,n)])\n",
    "print(bounds)\n",
    "print(f(sm.symbols('e0 e1 e3')))\n",
    "sol = sm.solve(f(sm.symbols('e0 e1 e3')))\n",
    "print(sol)\n",
    "print(opt.fsolve())\n",
    "solution = sm.nsolve(f(sm.symbols('e0 e1 e3')), sm.symbols('e0 e1 e3'), [0,0, 0],verify=False, bounds = bounds)\n",
    "print(solution)\n",
    "\n"
   ]
  },
  {
   "cell_type": "code",
   "execution_count": 6,
   "metadata": {},
   "outputs": [],
   "source": [
    "n = 2\n",
    "x0 = np.array(np.zeros(n,))\n",
    "tmp = []\n",
    "list_combinations = func_comb(n)\n",
    "results = []\n",
    "list_res = []\n",
    "step = 0.01\n",
    "quantity = 10\n",
    "bounds = Bounds(np.zeros(n,),[np.inf for i in range(0,n)])\n",
    "final = []\n",
    "\n",
    "x_final = []\n",
    "t = 0\n",
    "cols = []\n",
    "\n",
    "for p in np.arange(0.5,1.0,step):\n",
    "    cols += ['p_'+str(p)]\n",
    "# print(cols)\n",
    "dt_stat = pd.DataFrame(columns=cols)\n",
    "# print(dt_stat)\n",
    "tt = 0\n",
    "for p in np.arange(0.5,1.0,step): \n",
    "    for k in range(0,quantity):    \n",
    "        A = func_graph(n,p)\n",
    "        for comb in list_combinations:\n",
    "            if t==1:\n",
    "                res = opt.minimize(lambda x: func2(comb,x), x0, method='TNC', bounds = bounds)\n",
    "                x_final.append(-func2(comb,res.x))\n",
    "                break;\n",
    "            t=t+1\n",
    "        t = 0\n",
    "    dt_stat[cols[tt]] = x_final\n",
    "    x_final=[]\n",
    "    tt+=1\n",
    "# print(res)    "
   ]
  },
  {
   "cell_type": "code",
   "execution_count": 702,
   "metadata": {},
   "outputs": [
    {
     "name": "stdout",
     "output_type": "stream",
     "text": [
      "31\n"
     ]
    },
    {
     "data": {
      "image/png": "[encoded data removed]",
      "text/latex": [
       "$\\displaystyle 31$"
      ],
      "text/plain": [
       "31"
      ]
     },
     "execution_count": 702,
     "metadata": {},
     "output_type": "execute_result"
    }
   ],
   "source": [
    "print(len(results_comb))\n",
    "len(results)"
   ]
  },
  {
   "cell_type": "code",
   "execution_count": 912,
   "metadata": {
    "scrolled": true
   },
   "outputs": [
    {
     "data": {
      "text/plain": [
       "0       [0 0 0 0 1]\n",
       "1       [0 0 0 1 0]\n",
       "2       [0 0 0 1 1]\n",
       "3       [0 0 1 0 0]\n",
       "4       [0 0 1 0 1]\n",
       "           ...     \n",
       "6195    [1 1 0 1 1]\n",
       "6196    [1 1 1 0 0]\n",
       "6197    [1 1 1 0 1]\n",
       "6198    [1 1 1 1 0]\n",
       "6199    [1 1 1 1 1]\n",
       "Name: Coalition, Length: 6200, dtype: object"
      ]
     },
     "execution_count": 912,
     "metadata": {},
     "output_type": "execute_result"
    }
   ],
   "source": [
    "data_results['Coalition'].astype('str')\n"
   ]
  },
  {
   "cell_type": "code",
   "execution_count": 1,
   "metadata": {},
   "outputs": [
    {
     "ename": "NameError",
     "evalue": "name 'pd' is not defined",
     "output_type": "error",
     "traceback": [
      "\u001b[1;31m---------------------------------------------------------------------------\u001b[0m",
      "\u001b[1;31mNameError\u001b[0m                                 Traceback (most recent call last)",
      "\u001b[1;32m<ipython-input-1-3527edbb2292>\u001b[0m in \u001b[0;36m<module>\u001b[1;34m\u001b[0m\n\u001b[1;32m----> 1\u001b[1;33m \u001b[0mdata_results\u001b[0m\u001b[1;33m=\u001b[0m\u001b[0mpd\u001b[0m\u001b[1;33m.\u001b[0m\u001b[0mDataFrame\u001b[0m\u001b[1;33m(\u001b[0m\u001b[0mdata\u001b[0m \u001b[1;33m=\u001b[0m \u001b[0mresults\u001b[0m\u001b[1;33m,\u001b[0m\u001b[0mcolumns\u001b[0m \u001b[1;33m=\u001b[0m \u001b[1;33m[\u001b[0m\u001b[1;34m'Value_Func'\u001b[0m\u001b[1;33m]\u001b[0m\u001b[1;33m,\u001b[0m \u001b[0mindex\u001b[0m \u001b[1;33m=\u001b[0m \u001b[0mrange\u001b[0m\u001b[1;33m(\u001b[0m\u001b[1;36m200\u001b[0m\u001b[1;33m*\u001b[0m\u001b[0mlen\u001b[0m\u001b[1;33m(\u001b[0m\u001b[0mlist_combinations\u001b[0m\u001b[1;33m)\u001b[0m\u001b[1;33m)\u001b[0m\u001b[1;33m)\u001b[0m\u001b[1;33m\u001b[0m\u001b[1;33m\u001b[0m\u001b[0m\n\u001b[0m\u001b[0;32m      2\u001b[0m \u001b[0mdata_results\u001b[0m\u001b[1;33m[\u001b[0m\u001b[1;34m'Number_Iteration'\u001b[0m\u001b[1;33m]\u001b[0m \u001b[1;33m=\u001b[0m \u001b[0mresults_comb\u001b[0m\u001b[1;33m\u001b[0m\u001b[1;33m\u001b[0m\u001b[0m\n\u001b[0;32m      3\u001b[0m \u001b[0mdata_results\u001b[0m\u001b[1;33m[\u001b[0m\u001b[1;34m'Coalition'\u001b[0m\u001b[1;33m]\u001b[0m \u001b[1;33m=\u001b[0m \u001b[0mresults_comb1\u001b[0m\u001b[1;33m\u001b[0m\u001b[1;33m\u001b[0m\u001b[0m\n\u001b[0;32m      4\u001b[0m \u001b[0mdata_results\u001b[0m\u001b[1;33m[\u001b[0m\u001b[1;34m'Coalition_as_string'\u001b[0m\u001b[1;33m]\u001b[0m \u001b[1;33m=\u001b[0m \u001b[0mdata_results\u001b[0m\u001b[1;33m[\u001b[0m\u001b[1;34m'Coalition'\u001b[0m\u001b[1;33m]\u001b[0m\u001b[1;33m.\u001b[0m\u001b[0mastype\u001b[0m\u001b[1;33m(\u001b[0m\u001b[1;34m'str'\u001b[0m\u001b[1;33m)\u001b[0m\u001b[1;33m\u001b[0m\u001b[1;33m\u001b[0m\u001b[0m\n\u001b[0;32m      5\u001b[0m \u001b[0mprint\u001b[0m\u001b[1;33m(\u001b[0m\u001b[0mdata_results\u001b[0m\u001b[1;33m.\u001b[0m\u001b[0mhead\u001b[0m\u001b[1;33m(\u001b[0m\u001b[1;36m2\u001b[0m\u001b[1;33m)\u001b[0m\u001b[1;33m)\u001b[0m\u001b[1;33m\u001b[0m\u001b[1;33m\u001b[0m\u001b[0m\n",
      "\u001b[1;31mNameError\u001b[0m: name 'pd' is not defined"
     ]
    }
   ],
   "source": [
    "data_results=pd.DataFrame(data = results,columns = ['Value_Func'], index = range(200*len(list_combinations)))\n",
    "data_results['Number_Iteration'] = results_comb\n",
    "data_results['Coalition'] = results_comb1\n",
    "data_results['Coalition_as_string'] = data_results['Coalition'].astype('str')\n",
    "print(data_results.head(2))\n",
    "\n",
    "data_results[data_results['Coalition_as_string'] == '[1 1 1 1 1]']['Value_Func'].hist()"
   ]
  },
  {
   "cell_type": "code",
   "execution_count": null,
   "metadata": {},
   "outputs": [],
   "source": []
  }
 ],
 "metadata": {
  "kernelspec": {
   "display_name": "Python 3",
   "language": "python",
   "name": "python3"
  },
  "language_info": {
   "codemirror_mode": {
    "name": "ipython",
    "version": 3
   },
   "file_extension": ".py",
   "mimetype": "text/x-python",
   "name": "python",
   "nbconvert_exporter": "python",
   "pygments_lexer": "ipython3",
   "version": "3.7.6"
  }
 },
 "nbformat": 4,
 "nbformat_minor": 2
}
