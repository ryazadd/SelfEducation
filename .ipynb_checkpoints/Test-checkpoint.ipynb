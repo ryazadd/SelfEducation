{
 "cells": [
  {
   "cell_type": "code",
   "execution_count": 164,
   "metadata": {},
   "outputs": [],
   "source": [
    "import networkx as nx\n",
    "import matplotlib.pyplot as plt\n",
    "import numpy as np\n",
    "import pandas as pd\n",
    "from scipy import optimize as opt\n",
    "from scipy.optimize import Bounds\n",
    "import urllib\n",
    "# import psycopg2\n",
    "from sqlalchemy import create_engine\n",
    "import json"
   ]
  },
  {
   "cell_type": "code",
   "execution_count": 35,
   "metadata": {},
   "outputs": [],
   "source": [
    "def func_graph(n):\n",
    "    vector_c = []\n",
    "    graph = nx.gnp_random_graph(n, 0.6)\n",
    "    A = nx.to_numpy_array(graph, dtype='int32')\n",
    "    A = A+np.eye(n,dtype='int32')\n",
    "#     print(A)\n",
    "#     nx.draw(graph, pos=nx.spring_layout(graph), node_color='g', with_labels=True)\n",
    "#     plt.draw()\n",
    "#     plt.show()\n",
    "    return A"
   ]
  },
  {
   "cell_type": "markdown",
   "metadata": {},
   "source": [
    "MAX(SUM(b(ei+sum(ej))- cei))\n",
    "i принадлежит коалиции S\n",
    "j<>i принадлежит S (0,1,2)\n",
    "b1= ln(x0+x1+x2+1)\n",
    "x1=0 \n",
    "b0=ln(x0+x1*0+x2*0+1)\n",
    "b1=ln(x1+x0*0+x2*1+1)\n",
    "b2=ln(x2+x0*0+x1*1+1)\n",
    "max(b0+b1+b2-cx0-cx1-cx2)\n",
    "xi>=0"
   ]
  },
  {
   "cell_type": "code",
   "execution_count": 36,
   "metadata": {},
   "outputs": [],
   "source": [
    "def func2(comb,x):\n",
    "    rez = 0\n",
    "    for i, x_i in enumerate(comb):\n",
    "        if x_i == 1:\n",
    "            rez+=np.log(A[i].dot(comb.T*x.T)+1)-x_i*0.007*x[i]                           \n",
    "    return -rez"
   ]
  },
  {
   "cell_type": "code",
   "execution_count": 150,
   "metadata": {},
   "outputs": [],
   "source": [
    "def func_comb(n):\n",
    "    list_combinations = []\n",
    "    for i in range(1, pow(2, n)):\n",
    "        tmp.append(bin(i)[2:].zfill(n))\n",
    "        list_combinations.append([int(i) for i in bin(i)[2:].zfill(n)])\n",
    "    list_combinations=np.array(list_combinations)\n",
    "    return list_combinations"
   ]
  },
  {
   "cell_type": "code",
   "execution_count": null,
   "metadata": {},
   "outputs": [],
   "source": [
    "n = 10\n",
    "x0 = np.array(np.zeros(n,))\n",
    "tmp = []\n",
    "list_combinations = func_comb(n)\n",
    "results = []\n",
    "list_res = []\n",
    "bounds = Bounds(np.zeros(n,),[np.inf for i in range(0,n)])\n",
    "for k in range(0,200):\n",
    "    A = func_graph(n)\n",
    "    for comb in list_combinations:\n",
    "        res = opt.minimize(lambda x: func2(comb,x), x0, method='TNC', bounds = bounds)\n",
    "        results.append(-func2(comb,res.x))  \n",
    "\n",
    "\n",
    "    \n"
   ]
  },
  {
   "cell_type": "code",
   "execution_count": 47,
   "metadata": {},
   "outputs": [
    {
     "name": "stdout",
     "output_type": "stream",
     "text": [
      "204600\n"
     ]
    }
   ],
   "source": [
    "# print(results, file=open(\"NIR.txt\", \"a\"))\n",
    "\n",
    "with open('C:\\\\Users\\\\Daria_Riazanova\\\\Documents\\\\NIR\\\\SelfEducation\\\\NIR10players.txt') as f:\n",
    "    lines = csv.reader(f)\n",
    "    content = f.readlines()\n",
    "content = str(content)\n",
    "content = content[2:len(content)-5]\n",
    "list_i = list(content.split(';'))\n",
    "results = list(float(i) for i in list_i) \n",
    "# print(content[0])\n",
    "# temp = list(content.split(\";\") for item in content.split(\";\"))\n",
    "print(len(temp))\n"
   ]
  },
  {
   "cell_type": "code",
   "execution_count": 159,
   "metadata": {},
   "outputs": [],
   "source": [
    "def find_index(combination):\n",
    "#     tmp = []\n",
    "#     list_combinations = func_comb(10)\n",
    "    temp_index = []\n",
    "    temp_index = list(i for i in range(0, 1024))\n",
    "    dict_combinations = dict(zip(tmp,temp_index))\n",
    "#     print(combination)   \n",
    "#     print(len(dict_combinations))\n",
    "    for comb, comb_index in dict_combinations.items():\n",
    "        if comb==combination:\n",
    "            return(comb_index)\n",
    "    \n",
    "        "
   ]
  },
  {
   "cell_type": "code",
   "execution_count": 161,
   "metadata": {},
   "outputs": [
    {
     "name": "stdout",
     "output_type": "stream",
     "text": [
      "240\n"
     ]
    }
   ],
   "source": [
    "print(find_index('0011110001'))\n"
   ]
  },
  {
   "cell_type": "code",
   "execution_count": 162,
   "metadata": {},
   "outputs": [
    {
     "name": "stdout",
     "output_type": "stream",
     "text": [
      "204600\n"
     ]
    },
    {
     "data": {
      "image/png": "[encoded data removed]",
      "text/plain": [
       "<Figure size 432x288 with 1 Axes>"
      ]
     },
     "metadata": {
      "needs_background": "light"
     },
     "output_type": "display_data"
    }
   ],
   "source": [
    "data = {}\n",
    "results_hist = []\n",
    "q = pow(2,10)-1\n",
    "print(len(results))\n",
    "for i in range(0,int(len(results)/(q))):\n",
    "    results_hist.append(results[i*q+240])\n",
    "y = np.array(results_hist)\n",
    "# print(len(results_hist))\n",
    "plt.hist(y,8)\n",
    "# print(y)\n",
    "plt.show()"
   ]
  },
  {
   "cell_type": "code",
   "execution_count": null,
   "metadata": {},
   "outputs": [],
   "source": []
  }
 ],
 "metadata": {
  "kernelspec": {
   "display_name": "Python 3",
   "language": "python",
   "name": "python3"
  },
  "language_info": {
   "codemirror_mode": {
    "name": "ipython",
    "version": 3
   },
   "file_extension": ".py",
   "mimetype": "text/x-python",
   "name": "python",
   "nbconvert_exporter": "python",
   "pygments_lexer": "ipython3",
   "version": "3.7.1"
  }
 },
 "nbformat": 4,
 "nbformat_minor": 2
}
