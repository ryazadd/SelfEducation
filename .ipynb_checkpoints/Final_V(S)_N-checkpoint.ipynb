{
 "cells": [
  {
   "cell_type": "code",
   "execution_count": 1,
   "metadata": {},
   "outputs": [],
   "source": [
    "import networkx as nx\n",
    "import matplotlib.pyplot as plt\n",
    "import numpy as np\n",
    "import pandas as pd\n",
    "from scipy import optimize as opt\n",
    "from scipy.optimize import Bounds\n",
    "import urllib\n",
    "from sqlalchemy import create_engine\n",
    "import json\n",
    "import csv\n",
    "import sympy as sm\n",
    "from sympy import log\n",
    "import cvxpy"
   ]
  },
  {
   "cell_type": "code",
   "execution_count": 2,
   "metadata": {},
   "outputs": [],
   "source": [
    "def draw_graph(graph):\n",
    "\n",
    "    # extract nodes from graph\n",
    "    nodes = set([n1 for n1, n2 in graph] + [n2 for n1, n2 in graph])\n",
    "    G=nx.Graph()\n",
    "    for node in nodes:\n",
    "        G.add_node(node)\n",
    "    for edge in graph:\n",
    "        G.add_edge(edge[0], edge[1])\n",
    "    pos = nx.shell_layout(G)\n",
    "    nx.draw(G, pos, with_labels=True)\n",
    "    plt.show()"
   ]
  },
  {
   "cell_type": "code",
   "execution_count": 3,
   "metadata": {},
   "outputs": [],
   "source": [
    "def func_graph(n, p):\n",
    "    vector_c = []\n",
    "    graph = nx.gnp_random_graph(n, p)\n",
    "    A = nx.to_numpy_array(graph, dtype='int32')\n",
    "    A = A+np.eye(n,dtype='int32')\n",
    "#     nx.draw(graph, pos=nx.spring_layout(graph), node_color='g', with_labels=True)\n",
    "#     plt.draw()\n",
    "#     plt.show()\n",
    "    return A"
   ]
  },
  {
   "cell_type": "code",
   "execution_count": 32,
   "metadata": {},
   "outputs": [],
   "source": [
    "def func_comb(n):\n",
    "    list_combinations,tmp = [],[]\n",
    "    for i in range(1, pow(2, n)):\n",
    "        tmp.append(bin(i)[2:].zfill(n))\n",
    "        list_combinations.append([int(i) for i in bin(i)[2:].zfill(n)])\n",
    "    list_combinations=np.array(list_combinations)\n",
    "    return list_combinations"
   ]
  },
  {
   "cell_type": "code",
   "execution_count": 52,
   "metadata": {},
   "outputs": [],
   "source": [
    "def equations(x,comb,c):\n",
    "    n = len(comb)\n",
    "#     c = 0.3\n",
    "    f = [0 for i in range(0,n)]\n",
    "    for l, x_l in enumerate(comb):\n",
    "        if(x_l==1):\n",
    "#                 для каждого игрока из S берем вектор его сосдей из А, для построения (e1+e0+...+1)\n",
    "            for i, x_i in enumerate(A[l]*comb.T):\n",
    "                if (x_i==1):\n",
    "                    f[l]+=1/(sum(A[i]*x.T)+1)\n",
    "            f[l]=f[l]-c\n",
    "        else:\n",
    "            f[l]=1/(sum(A[l]*x.T)+1)-c\n",
    "    return f"
   ]
  },
  {
   "cell_type": "code",
   "execution_count": 29,
   "metadata": {},
   "outputs": [],
   "source": [
    "def equations_log(comb,x,c):\n",
    "    n = len(comb)\n",
    "    f = [0 for i in range(0,n)]\n",
    "    for l, x_l in enumerate(comb):\n",
    "        if(x_l==1):\n",
    "            f[l]=np.log(sum(A[l]*x.T)+1)-c*x[l]\n",
    "\n",
    "    return sum(f)"
   ]
  },
  {
   "cell_type": "code",
   "execution_count": 69,
   "metadata": {},
   "outputs": [],
   "source": [
    "n = 5\n",
    "x0 = np.array(np.zeros(n,))\n",
    "tmp = []\n",
    "list_combinations = func_comb(n)\n",
    "results = []\n",
    "list_res = []\n",
    "results_comb = []\n",
    "results_comb1 = []\n",
    "results_prob = []\n",
    "step = 0.01\n",
    "bounds = (np.zeros(n,),[np.inf for i in range(0,n)])\n",
    "for p in np.arange(0.5,1.0,step):\n",
    "    for k in range(0,200):\n",
    "        A = func_graph(n, p)\n",
    "        for comb in list_combinations:\n",
    "            res = opt.least_squares(lambda x: equations(x,comb), [1 for i in range(0,n)], bounds= bounds)       \n",
    "            results.append(equations_log(comb,res.x))\n",
    "            results_comb1.append(comb)\n",
    "            results_comb.append(k)\n",
    "            results_prob.append(p)\n",
    "            "
   ]
  },
  {
   "cell_type": "code",
   "execution_count": 70,
   "metadata": {},
   "outputs": [
    {
     "name": "stdout",
     "output_type": "stream",
     "text": [
      "   Value_Func  Number_Iteration        Coalition  Prob Coalition_as_string\n",
      "0    4.497414                 0  [0, 0, 0, 0, 1]   0.5         [0 0 0 0 1]\n",
      "1    4.053462                 0  [0, 0, 0, 1, 0]   0.5         [0 0 0 1 0]\n"
     ]
    },
    {
     "data": {
      "text/plain": [
       "<matplotlib.axes._subplots.AxesSubplot at 0x1f6586048c8>"
      ]
     },
     "execution_count": 70,
     "metadata": {},
     "output_type": "execute_result"
    },
    {
     "data": {
      "image/png": "[encoded data removed]",
      "text/plain": [
       "<Figure size 432x288 with 1 Axes>"
      ]
     },
     "metadata": {
      "needs_background": "light"
     },
     "output_type": "display_data"
    }
   ],
   "source": [
    "data_results=pd.DataFrame(data = results,columns = ['Value_Func'], index = range(200*50*len(list_combinations)))\n",
    "data_results['Number_Iteration'] = results_comb\n",
    "data_results['Coalition'] = results_comb1\n",
    "data_results['Prob'] = results_prob\n",
    "data_results['Coalition_as_string'] = data_results['Coalition'].astype('str')\n",
    "print(data_results.head(2))\n",
    "\n",
    "data_results[data_results['Coalition_as_string'] == '[1 1 1 1 1]']['Value_Func'].hist()"
   ]
  },
  {
   "cell_type": "code",
   "execution_count": 62,
   "metadata": {},
   "outputs": [
    {
     "data": {
      "text/html": [
       "<div>\n",
       "<style scoped>\n",
       "    .dataframe tbody tr th:only-of-type {\n",
       "        vertical-align: middle;\n",
       "    }\n",
       "\n",
       "    .dataframe tbody tr th {\n",
       "        vertical-align: top;\n",
       "    }\n",
       "\n",
       "    .dataframe thead th {\n",
       "        text-align: right;\n",
       "    }\n",
       "</style>\n",
       "<table border=\"1\" class=\"dataframe\">\n",
       "  <thead>\n",
       "    <tr style=\"text-align: right;\">\n",
       "      <th></th>\n",
       "      <th>Value_Func</th>\n",
       "      <th>Number_Iteration</th>\n",
       "      <th>Prob</th>\n",
       "    </tr>\n",
       "  </thead>\n",
       "  <tbody>\n",
       "    <tr>\n",
       "      <th>count</th>\n",
       "      <td>31000.000000</td>\n",
       "      <td>31000.000000</td>\n",
       "      <td>31000.000000</td>\n",
       "    </tr>\n",
       "    <tr>\n",
       "      <th>mean</th>\n",
       "      <td>12.273098</td>\n",
       "      <td>99.500000</td>\n",
       "      <td>0.700000</td>\n",
       "    </tr>\n",
       "    <tr>\n",
       "      <th>std</th>\n",
       "      <td>5.443481</td>\n",
       "      <td>57.735236</td>\n",
       "      <td>0.141424</td>\n",
       "    </tr>\n",
       "    <tr>\n",
       "      <th>min</th>\n",
       "      <td>3.609498</td>\n",
       "      <td>0.000000</td>\n",
       "      <td>0.500000</td>\n",
       "    </tr>\n",
       "    <tr>\n",
       "      <th>25%</th>\n",
       "      <td>8.803495</td>\n",
       "      <td>49.750000</td>\n",
       "      <td>0.600000</td>\n",
       "    </tr>\n",
       "    <tr>\n",
       "      <th>50%</th>\n",
       "      <td>12.444869</td>\n",
       "      <td>99.500000</td>\n",
       "      <td>0.700000</td>\n",
       "    </tr>\n",
       "    <tr>\n",
       "      <th>75%</th>\n",
       "      <td>14.998304</td>\n",
       "      <td>149.250000</td>\n",
       "      <td>0.800000</td>\n",
       "    </tr>\n",
       "    <tr>\n",
       "      <th>max</th>\n",
       "      <td>26.083040</td>\n",
       "      <td>199.000000</td>\n",
       "      <td>0.900000</td>\n",
       "    </tr>\n",
       "  </tbody>\n",
       "</table>\n",
       "</div>"
      ],
      "text/plain": [
       "         Value_Func  Number_Iteration          Prob\n",
       "count  31000.000000      31000.000000  31000.000000\n",
       "mean      12.273098         99.500000      0.700000\n",
       "std        5.443481         57.735236      0.141424\n",
       "min        3.609498          0.000000      0.500000\n",
       "25%        8.803495         49.750000      0.600000\n",
       "50%       12.444869         99.500000      0.700000\n",
       "75%       14.998304        149.250000      0.800000\n",
       "max       26.083040        199.000000      0.900000"
      ]
     },
     "execution_count": 62,
     "metadata": {},
     "output_type": "execute_result"
    }
   ],
   "source": [
    "data_results.describe()"
   ]
  },
  {
   "cell_type": "code",
   "execution_count": 75,
   "metadata": {},
   "outputs": [
    {
     "data": {
      "text/plain": [
       "<matplotlib.axes._subplots.AxesSubplot at 0x1f650da6ec8>"
      ]
     },
     "execution_count": 75,
     "metadata": {},
     "output_type": "execute_result"
    },
    {
     "data": {
      "image/png": "[encoded data removed]",
      "text/plain": [
       "<Figure size 432x288 with 1 Axes>"
      ]
     },
     "metadata": {
      "needs_background": "light"
     },
     "output_type": "display_data"
    }
   ],
   "source": [
    "coalition = data_results.loc[data_results['Coalition_as_string'] == '[1 1 1 0 1]' ]\n",
    "coalition.groupby('Prob', as_index=False).agg({'Value_Func':'mean'}).plot(kind='scatter', x = 'Prob', y = 'Value_Func')"
   ]
  },
  {
   "cell_type": "code",
   "execution_count": 13,
   "metadata": {},
   "outputs": [],
   "source": [
    "def func2(comb,x):\n",
    "    rez = 0\n",
    "    for i, x_i in enumerate(comb):\n",
    "        if x_i == 1:\n",
    "            rez+=np.log(A[i].dot(comb.T*x.T)+1)-x_i*0.3*x[i]                           \n",
    "    return -rez"
   ]
  },
  {
   "cell_type": "code",
   "execution_count": 9,
   "metadata": {},
   "outputs": [
    {
     "name": "stdout",
     "output_type": "stream",
     "text": [
      "[[1 1 0 0 1]\n",
      " [1 1 1 0 0]\n",
      " [0 1 1 1 0]\n",
      " [0 0 1 1 1]\n",
      " [1 0 0 1 1]] = A\n"
     ]
    },
    {
     "data": {
      "image/png": "[encoded data removed]",
      "text/plain": [
       "<Figure size 432x288 with 1 Axes>"
      ]
     },
     "metadata": {},
     "output_type": "display_data"
    }
   ],
   "source": [
    "A = np.array([[1, 1, 0, 0, 1], [1, 1, 1, 0, 0],[0, 1, 1, 1, 0],[0, 0, 1, 1, 1],[1, 0, 0, 1, 1]])\n",
    "print(A, '= A')\n",
    "graph = [(0,1), (1,2), (2,3), (3,4), (4,0)]\n",
    "draw_graph(graph)"
   ]
  },
  {
   "cell_type": "code",
   "execution_count": 17,
   "metadata": {},
   "outputs": [
    {
     "name": "stdout",
     "output_type": "stream",
     "text": [
      "     fun: -1.0079456086517762\n",
      "     jac: array([8.8817842e-08, 0.0000000e+00, 8.8817842e-08, 0.0000000e+00,\n",
      "       0.0000000e+00])\n",
      " message: 'Local minimum reached (|pg| ~= 0)'\n",
      "    nfev: 22\n",
      "     nit: 5\n",
      "  status: 0\n",
      " success: True\n",
      "       x: array([2.33333437, 0.        , 2.33333437, 0.        , 0.        ])\n",
      "1.0079456086517762\n"
     ]
    }
   ],
   "source": [
    "n = 5\n",
    "bounds = Bounds(np.zeros(n,),[np.inf for i in range(0,n)])\n",
    "comb = np.array([1, 0, 1, 0, 0])\n",
    "x0 = np.array(np.zeros(n,))\n",
    "res = opt.minimize(lambda x: func2(comb,x), x0, method='TNC', bounds = bounds)\n",
    "print(res)\n",
    "t= (-func2(comb,res.x))\n",
    "print(t)"
   ]
  },
  {
   "cell_type": "code",
   "execution_count": 27,
   "metadata": {},
   "outputs": [
    {
     "name": "stdout",
     "output_type": "stream",
     "text": [
      " active_mask: array([-1,  0, -1,  0,  0])\n",
      "        cost: 0.004667156395097484\n",
      "         fun: array([-0.04851126,  0.0679943 , -0.04851126, -0.00148383, -0.00148383])\n",
      "        grad: array([ 3.96680779e-04, -1.57424098e-10,  3.96680779e-04,  3.17664150e-10,\n",
      "        3.79436902e-10])\n",
      "         jac: array([[-0.031794  , -0.031794  , -0.01822046,  0.        , -0.01357354],\n",
      "       [-0.031794  , -0.04536755, -0.031794  , -0.01357355, -0.01357354],\n",
      "       [-0.01822046, -0.031794  , -0.031794  , -0.01357355,  0.        ],\n",
      "       [ 0.        ,  0.        , -0.0891119 , -0.0891119 , -0.0891119 ],\n",
      "       [-0.0891119 ,  0.        ,  0.        , -0.0891119 , -0.0891119 ]])\n",
      "     message: '`gtol` termination condition is satisfied.'\n",
      "        nfev: 9\n",
      "        njev: 9\n",
      "  optimality: 4.4581982644771027e-10\n",
      "      status: 1\n",
      "     success: True\n",
      "           x: array([9.20919771e-19, 6.40833036e+00, 9.19290986e-19, 1.17495115e+00,\n",
      "       1.17495115e+00])\n",
      "4.379738585739589\n"
     ]
    }
   ],
   "source": [
    "n = 5\n",
    "bounds = (np.zeros(n,),[np.inf for i in range(0,n)])\n",
    "comb = np.array([1, 1, 1, 0, 0])\n",
    "x0 = np.array(np.zeros(n,))\n",
    "res = opt.least_squares(lambda x: equations(x,comb), [1 for i in range(0,n)], bounds= bounds)       \n",
    "t = equations_log(comb,res.x)\n",
    "print(res)\n",
    "print(t)"
   ]
  },
  {
   "cell_type": "code",
   "execution_count": 177,
   "metadata": {},
   "outputs": [],
   "source": [
    "def func_sqrt(comb,x):\n",
    "    rez = 0\n",
    "    for i, x_i in enumerate(comb):\n",
    "        if x_i == 1:\n",
    "            rez+=pow(A[i].dot(comb.T*x.T),0.5)-x_i*0.01*x[i]                           \n",
    "    return -rez"
   ]
  },
  {
   "cell_type": "code",
   "execution_count": 79,
   "metadata": {},
   "outputs": [],
   "source": [
    "n = 5\n",
    "x0 = np.array(np.zeros(n,))\n",
    "tmp = []\n",
    "list_combinations = func_comb(n)\n",
    "results_mm = []\n",
    "list_res = []\n",
    "results_comb_mm = []\n",
    "results_comb1_mm = []\n",
    "results_prob_mm =[]\n",
    "bounds = Bounds(np.zeros(n,),[np.inf for i in range(0,n)])\n",
    "step =0.01\n",
    "for p in np.arange(0.5,1.0,step):\n",
    "    for k in range(0,10):\n",
    "        A = func_graph(n, p)\n",
    "        for comb in list_combinations:\n",
    "            res = opt.minimize(lambda x: func2(comb,x), x0, method='TNC', bounds = bounds)\n",
    "            results_mm.append(-func2(comb,res.x))\n",
    "            results_comb1_mm.append(comb)\n",
    "            results_comb_mm.append(k)\n",
    "            results_prob_mm.append(p)\n"
   ]
  },
  {
   "cell_type": "code",
   "execution_count": 80,
   "metadata": {},
   "outputs": [
    {
     "name": "stdout",
     "output_type": "stream",
     "text": [
      "   Value_Func  Number_Iteration        Coalition  Prob Coalition_as_string\n",
      "0     3.61517                 0  [0, 0, 0, 0, 1]   0.5         [0 0 0 0 1]\n",
      "1     3.61517                 0  [0, 0, 0, 1, 0]   0.5         [0 0 0 1 0]\n"
     ]
    },
    {
     "data": {
      "text/plain": [
       "<matplotlib.axes._subplots.AxesSubplot at 0x1f64e8e4c48>"
      ]
     },
     "execution_count": 80,
     "metadata": {},
     "output_type": "execute_result"
    },
    {
     "data": {
      "image/png": "[encoded data removed]",
      "text/plain": [
       "<Figure size 432x288 with 1 Axes>"
      ]
     },
     "metadata": {
      "needs_background": "light"
     },
     "output_type": "display_data"
    }
   ],
   "source": [
    "data_results_mm=pd.DataFrame(data = results_mm,columns = ['Value_Func'], index = range(10*50*len(list_combinations)))\n",
    "data_results_mm['Number_Iteration'] = results_comb_mm\n",
    "data_results_mm['Coalition'] = results_comb1_mm\n",
    "data_results_mm['Prob'] = results_prob_mm\n",
    "data_results_mm['Coalition_as_string'] = data_results_mm['Coalition'].astype('str')\n",
    "print(data_results_mm.head(2))\n",
    "\n",
    "data_results_mm[data_results_mm['Coalition_as_string'] == '[1 1 1 1 1]']['Value_Func'].hist()"
   ]
  },
  {
   "cell_type": "code",
   "execution_count": 83,
   "metadata": {},
   "outputs": [
    {
     "data": {
      "text/plain": [
       "<matplotlib.axes._subplots.AxesSubplot at 0x1f64e8ab088>"
      ]
     },
     "execution_count": 83,
     "metadata": {},
     "output_type": "execute_result"
    },
    {
     "data": {
      "image/png": "[encoded data removed]",
      "text/plain": [
       "<Figure size 432x288 with 1 Axes>"
      ]
     },
     "metadata": {
      "needs_background": "light"
     },
     "output_type": "display_data"
    }
   ],
   "source": [
    "coalition_mm = data_results_mm.loc[data_results['Coalition_as_string'] == '[1 1 1 0 1]' ]\n",
    "coalition_mm.groupby('Prob', as_index=False).agg({'Value_Func':'mean'}).plot(kind='scatter', x = 'Prob', y = 'Value_Func')"
   ]
  },
  {
   "cell_type": "markdown",
   "metadata": {},
   "source": [
    "рассмотрим одну коалицию\n"
   ]
  },
  {
   "cell_type": "code",
   "execution_count": 99,
   "metadata": {},
   "outputs": [],
   "source": [
    "n = 5\n",
    "x0 = np.array(np.zeros(n,))\n",
    "tmp = []\n",
    "list_combinations = func_comb(n)\n",
    "results_mm = []\n",
    "list_res = []\n",
    "results_comb_mm = []\n",
    "results_comb1_mm = []\n",
    "results_prob_mm =[]\n",
    "bounds = Bounds(np.zeros(n,),[np.inf for i in range(0,n)])\n",
    "step = 0.001\n",
    "comb = np.array([1, 1, 1, 0, 1])\n",
    "for p in np.arange(0.5,1.0,step):\n",
    "    for k in range(0,1000):\n",
    "        A = func_graph(n, p)\n",
    "#         for comb in list_combinations:\n",
    "        res = opt.minimize(lambda x: func2(comb,x), x0, method='TNC', bounds = bounds)\n",
    "        results_mm.append(-func2(comb,res.x))\n",
    "        results_comb1_mm.append(comb)\n",
    "        results_comb_mm.append(k)\n",
    "        results_prob_mm.append(p)\n"
   ]
  },
  {
   "cell_type": "code",
   "execution_count": 183,
   "metadata": {},
   "outputs": [
    {
     "data": {
      "text/plain": [
       "     fun: -624.9998402669286\n",
       "     jac: array([0., 0., 0., 0., 0.])\n",
       " message: 'Local minimum reached (|pg| ~= 0)'\n",
       "    nfev: 55\n",
       "     nit: 10\n",
       "  status: 0\n",
       " success: True\n",
       "       x: array([12477.06410991, 12477.06410991, 12477.0639949 , 12502.41933006,\n",
       "       12503.21165373])"
      ]
     },
     "execution_count": 183,
     "metadata": {},
     "output_type": "execute_result"
    }
   ],
   "source": [
    "res"
   ]
  },
  {
   "cell_type": "code",
   "execution_count": 185,
   "metadata": {},
   "outputs": [
    {
     "name": "stdout",
     "output_type": "stream",
     "text": [
      "   Value_Func  Number_Iteration        Coalition  Prob Coalition_as_string\n",
      "0        25.0                 0  [0, 0, 0, 0, 1]  0.01         [0 0 0 0 1]\n",
      "1        25.0                 0  [0, 0, 0, 1, 0]  0.01         [0 0 0 1 0]\n"
     ]
    },
    {
     "data": {
      "text/plain": [
       "<matplotlib.axes._subplots.AxesSubplot at 0x1f65351f188>"
      ]
     },
     "execution_count": 185,
     "metadata": {},
     "output_type": "execute_result"
    },
    {
     "data": {
      "image/png": "[encoded data removed]",
      "text/plain": [
       "<Figure size 432x288 with 1 Axes>"
      ]
     },
     "metadata": {
      "needs_background": "light"
     },
     "output_type": "display_data"
    }
   ],
   "source": [
    "data_results_mm1=pd.DataFrame(data = results_mm1,columns = ['Value_Func'], index = range(len(results_mm1)))\n",
    "data_results_mm1['Number_Iteration'] = results_comb_mm1\n",
    "data_results_mm1['Coalition'] = results_comb1_mm1\n",
    "data_results_mm1['Prob'] = results_prob_mm1\n",
    "data_results_mm1['Coalition_as_string'] = data_results_mm1['Coalition'].astype('str')\n",
    "print(data_results_mm1.head(2))\n",
    "\n",
    "data_results_mm1[data_results_mm1['Coalition_as_string'] == '[1 1 1 0 1]']['Value_Func'].hist()"
   ]
  },
  {
   "cell_type": "code",
   "execution_count": 189,
   "metadata": {},
   "outputs": [
    {
     "data": {
      "text/plain": [
       "<matplotlib.axes._subplots.AxesSubplot at 0x1f6553316c8>"
      ]
     },
     "execution_count": 189,
     "metadata": {},
     "output_type": "execute_result"
    },
    {
     "data": {
      "image/png": "[encoded data removed]",
      "text/plain": [
       "<Figure size 432x288 with 1 Axes>"
      ]
     },
     "metadata": {
      "needs_background": "light"
     },
     "output_type": "display_data"
    }
   ],
   "source": [
    "coalition_mm = data_results_mm1[data_results_mm1['Coalition_as_string'] == '[1 1 0 1 1]']\n",
    "coalition_mm.groupby('Prob', as_index=False).agg({'Value_Func':'mean'}).plot(kind='scatter', x = 'Prob', y = 'Value_Func')"
   ]
  },
  {
   "cell_type": "code",
   "execution_count": 168,
   "metadata": {},
   "outputs": [
    {
     "name": "stdout",
     "output_type": "stream",
     "text": [
      "p2=  0.0 p1 =  0.0\n",
      "p2=  0.2 p1 =  0.0\n",
      "p2=  0.38856180831641274 p1 =  0.011438191683587312\n",
      "p2=  0.5645751311064591 p1 =  0.035424868893540906\n",
      "p2=  0.7265986323710905 p1 =  0.07340136762890964\n",
      "p2=  0.8726779962499649 p1 =  0.12732200375003505\n",
      "p2=  1.0 p1 =  0.19999999999999996\n",
      "p2=  1.104145188432738 p1 =  0.29585481156726195\n",
      "p2=  1.1771236166328254 p1 =  0.42287638336717465\n",
      "p2=  1.2 p1 =  0.6000000000000001\n"
     ]
    }
   ],
   "source": [
    "M=10\n",
    "for m in range(0,M):\n",
    "    p2 = m/M+(m*pow(M-m,0.5))/(M*pow(M-1,0.5))\n",
    "    p1 = m/M-(m*pow(M-m,0.5))/(M*pow(M-1,0.5))\n",
    "    print('p2= ' , p2, 'p1 = ', p1)"
   ]
  },
  {
   "cell_type": "code",
   "execution_count": 100,
   "metadata": {},
   "outputs": [
    {
     "name": "stdout",
     "output_type": "stream",
     "text": [
      "   Value_Func  Number_Iteration        Coalition  Prob Coalition_as_string\n",
      "0   15.836975                 0  [1, 1, 1, 0, 1]   0.5         [1 1 1 0 1]\n",
      "1   18.594561                 1  [1, 1, 1, 0, 1]   0.5         [1 1 1 0 1]\n"
     ]
    },
    {
     "data": {
      "text/plain": [
       "<matplotlib.axes._subplots.AxesSubplot at 0x1f65c5f6e48>"
      ]
     },
     "execution_count": 100,
     "metadata": {},
     "output_type": "execute_result"
    },
    {
     "data": {
      "image/png": "[encoded data removed]",
      "text/plain": [
       "<Figure size 432x288 with 1 Axes>"
      ]
     },
     "metadata": {
      "needs_background": "light"
     },
     "output_type": "display_data"
    }
   ],
   "source": [
    "data_results_mm=pd.DataFrame(data = results_mm,columns = ['Value_Func'], index = range(1000*500))\n",
    "data_results_mm['Number_Iteration'] = results_comb_mm\n",
    "data_results_mm['Coalition'] = results_comb1_mm\n",
    "data_results_mm['Prob'] = results_prob_mm\n",
    "data_results_mm['Coalition_as_string'] = data_results_mm['Coalition'].astype('str')\n",
    "print(data_results_mm.head(2))\n",
    "\n",
    "data_results_mm[data_results_mm['Coalition_as_string'] == '[1 1 1 0 1]']['Value_Func'].hist()"
   ]
  },
  {
   "cell_type": "code",
   "execution_count": 103,
   "metadata": {},
   "outputs": [
    {
     "data": {
      "text/plain": [
       "<matplotlib.axes._subplots.AxesSubplot at 0x1f6510e9608>"
      ]
     },
     "execution_count": 103,
     "metadata": {},
     "output_type": "execute_result"
    },
    {
     "data": {
      "image/png": "[encoded data removed]",
      "text/plain": [
       "<Figure size 432x288 with 1 Axes>"
      ]
     },
     "metadata": {
      "needs_background": "light"
     },
     "output_type": "display_data"
    }
   ],
   "source": [
    "coalition_mm = data_results_mm\n",
    "coalition_mm.groupby('Prob', as_index=False).agg({'Value_Func':'mean'}).plot(kind='scatter', x = 'Prob', y = 'Value_Func')"
   ]
  },
  {
   "cell_type": "markdown",
   "metadata": {},
   "source": [
    "maxmax\n"
   ]
  },
  {
   "cell_type": "code",
   "execution_count": 104,
   "metadata": {},
   "outputs": [],
   "source": [
    "n = 5\n",
    "x0 = np.array(np.zeros(n,))\n",
    "tmp = []\n",
    "list_combinations = func_comb(n)\n",
    "results = []\n",
    "list_res = []\n",
    "results_comb = []\n",
    "results_comb1 = []\n",
    "results_prob = []\n",
    "step = 0.001\n",
    "bounds = (np.zeros(n,),[np.inf for i in range(0,n)])\n",
    "comb = np.array([1, 1, 1, 0, 1])\n",
    "for p in np.arange(0.5,1.0,step):\n",
    "    for k in range(0,1000):\n",
    "        A = func_graph(n, p)\n",
    "        res = opt.least_squares(lambda x: equations(x,comb), [1 for i in range(0,n)], bounds= bounds)       \n",
    "        results.append(equations_log(comb,res.x))\n",
    "        results_comb1.append(comb)\n",
    "        results_comb.append(k)\n",
    "        results_prob.append(p)\n",
    "            "
   ]
  },
  {
   "cell_type": "code",
   "execution_count": 106,
   "metadata": {},
   "outputs": [
    {
     "name": "stdout",
     "output_type": "stream",
     "text": [
      "   Value_Func  Number_Iteration        Coalition  Prob Coalition_as_string\n",
      "0   18.240592                 0  [1, 1, 1, 0, 1]   0.5         [1 1 1 0 1]\n",
      "1   16.331977                 1  [1, 1, 1, 0, 1]   0.5         [1 1 1 0 1]\n"
     ]
    },
    {
     "data": {
      "text/plain": [
       "<matplotlib.axes._subplots.AxesSubplot at 0x1f65baa8a48>"
      ]
     },
     "execution_count": 106,
     "metadata": {},
     "output_type": "execute_result"
    },
    {
     "data": {
      "image/png": "[encoded data removed]",
      "text/plain": [
       "<Figure size 432x288 with 1 Axes>"
      ]
     },
     "metadata": {
      "needs_background": "light"
     },
     "output_type": "display_data"
    }
   ],
   "source": [
    "data_results=pd.DataFrame(data = results,columns = ['Value_Func'], index = range(1000*500))\n",
    "data_results['Number_Iteration'] = results_comb\n",
    "data_results['Coalition'] = results_comb1\n",
    "data_results['Prob'] = results_prob\n",
    "data_results['Coalition_as_string'] = data_results['Coalition'].astype('str')\n",
    "print(data_results.head(2))\n",
    "\n",
    "data_results[data_results['Coalition_as_string'] == '[1 1 1 0 1]']['Value_Func'].hist()"
   ]
  },
  {
   "cell_type": "code",
   "execution_count": 107,
   "metadata": {},
   "outputs": [
    {
     "data": {
      "text/plain": [
       "<matplotlib.axes._subplots.AxesSubplot at 0x1f6585d9508>"
      ]
     },
     "execution_count": 107,
     "metadata": {},
     "output_type": "execute_result"
    },
    {
     "data": {
      "image/png": "[encoded data removed]",
      "text/plain": [
       "<Figure size 432x288 with 1 Axes>"
      ]
     },
     "metadata": {
      "needs_background": "light"
     },
     "output_type": "display_data"
    }
   ],
   "source": [
    "coalition = data_results\n",
    "coalition.groupby('Prob', as_index=False).agg({'Value_Func':'mean'}).plot(kind='scatter', x = 'Prob', y = 'Value_Func')"
   ]
  },
  {
   "cell_type": "code",
   "execution_count": 56,
   "metadata": {},
   "outputs": [],
   "source": [
    "n = 5\n",
    "x0 = np.array(np.zeros(n,))\n",
    "tmp = []\n",
    "list_combinations = func_comb(n)\n",
    "results = []\n",
    "list_res = []\n",
    "results_comb = []\n",
    "results_comb1 = []\n",
    "results_prob = []\n",
    "step = 0.01\n",
    "p = 0.5\n",
    "bounds = (np.zeros(n,),[np.inf for i in range(0,n)])\n",
    "for c in np.arange(0.01,2.8,step):\n",
    "    for k in range(0,100):\n",
    "        A = func_graph(n, p)\n",
    "        for comb in list_combinations:\n",
    "            res = opt.least_squares(lambda x: equations(x,comb,c), [1 for i in range(0,n)], bounds= bounds)       \n",
    "            results.append(equations_log(comb,res.x,c))\n",
    "#             print(res.x)\n",
    "            results_comb1.append(comb)\n",
    "            results_comb.append(k)\n",
    "            results_prob.append(c)\n",
    "            "
   ]
  },
  {
   "cell_type": "code",
   "execution_count": 57,
   "metadata": {},
   "outputs": [
    {
     "name": "stdout",
     "output_type": "stream",
     "text": [
      "   Value_Func  Number_Iteration        Coalition  Costs Coalition_as_string\n",
      "0    4.604987                 0  [0, 0, 0, 0, 1]   0.01         [0 0 0 0 1]\n",
      "1    4.008611                 0  [0, 0, 0, 1, 0]   0.01         [0 0 0 1 0]\n"
     ]
    },
    {
     "data": {
      "text/plain": [
       "<matplotlib.axes._subplots.AxesSubplot at 0x1c09cbb0a88>"
      ]
     },
     "execution_count": 57,
     "metadata": {},
     "output_type": "execute_result"
    },
    {
     "data": {
      "image/png": "[encoded data removed]",
      "text/plain": [
       "<Figure size 432x288 with 1 Axes>"
      ]
     },
     "metadata": {
      "needs_background": "light"
     },
     "output_type": "display_data"
    }
   ],
   "source": [
    "data_results_c1=pd.DataFrame(data = results,columns = ['Value_Func'], index = range(len(results)))\n",
    "data_results_c1['Number_Iteration'] = results_comb\n",
    "data_results_c1['Coalition'] = results_comb1\n",
    "data_results_c1['Costs'] = results_prob\n",
    "data_results_c1['Coalition_as_string'] = data_results_c1['Coalition'].astype('str')\n",
    "print(data_results_c1.head(2))\n",
    "\n",
    "data_results_c1[data_results_c1['Coalition_as_string'] == '[1 1 1 0 1]']['Value_Func'].hist()"
   ]
  },
  {
   "cell_type": "code",
   "execution_count": 64,
   "metadata": {},
   "outputs": [
    {
     "data": {
      "text/plain": [
       "<matplotlib.axes._subplots.AxesSubplot at 0x1c0985d9388>"
      ]
     },
     "execution_count": 64,
     "metadata": {},
     "output_type": "execute_result"
    },
    {
     "data": {
      "image/png": "[encoded data removed]",
      "text/plain": [
       "<Figure size 432x288 with 1 Axes>"
      ]
     },
     "metadata": {
      "needs_background": "light"
     },
     "output_type": "display_data"
    }
   ],
   "source": [
    "coalition_c = data_results_c1[data_results_c1['Coalition_as_string'] == '[1 1 0 1 1]']\n",
    "coalition_c.groupby('Costs', as_index=False).agg({'Value_Func':'mean'}).plot(kind='scatter', x = 'Costs', y = 'Value_Func')"
   ]
  }
 ],
 "metadata": {
  "kernelspec": {
   "display_name": "Python 3",
   "language": "python",
   "name": "python3"
  },
  "language_info": {
   "codemirror_mode": {
    "name": "ipython",
    "version": 3
   },
   "file_extension": ".py",
   "mimetype": "text/x-python",
   "name": "python",
   "nbconvert_exporter": "python",
   "pygments_lexer": "ipython3",
   "version": "3.7.6"
  }
 },
 "nbformat": 4,
 "nbformat_minor": 4
}
