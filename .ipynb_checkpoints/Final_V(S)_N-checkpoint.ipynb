{
 "cells": [
  {
   "cell_type": "code",
   "execution_count": 1,
   "metadata": {},
   "outputs": [],
   "source": [
    "import networkx as nx\n",
    "import matplotlib.pyplot as plt\n",
    "import numpy as np\n",
    "import pandas as pd\n",
    "from scipy import optimize as opt\n",
    "from scipy.optimize import Bounds\n",
    "import urllib\n",
    "from sqlalchemy import create_engine\n",
    "import json\n",
    "import csv\n",
    "import sympy as sm\n",
    "from sympy import log\n",
    "import cvxpy"
   ]
  },
  {
   "cell_type": "code",
   "execution_count": 2,
   "metadata": {},
   "outputs": [],
   "source": [
    "def draw_graph(graph):\n",
    "\n",
    "    # extract nodes from graph\n",
    "    nodes = set([n1 for n1, n2 in graph] + [n2 for n1, n2 in graph])\n",
    "    G=nx.Graph()\n",
    "    for node in nodes:\n",
    "        G.add_node(node)\n",
    "    for edge in graph:\n",
    "        G.add_edge(edge[0], edge[1])\n",
    "    pos = nx.shell_layout(G)\n",
    "    nx.draw(G, pos, with_labels=True)\n",
    "    plt.show()"
   ]
  },
  {
   "cell_type": "code",
   "execution_count": 3,
   "metadata": {},
   "outputs": [],
   "source": [
    "def func_graph(n, p):\n",
    "    vector_c = []\n",
    "    graph = nx.gnp_random_graph(n, p)\n",
    "    A = nx.to_numpy_array(graph, dtype='int32')\n",
    "    A = A+np.eye(n,dtype='int32')\n",
    "#     nx.draw(graph, pos=nx.spring_layout(graph), node_color='g', with_labels=True)\n",
    "#     plt.draw()\n",
    "#     plt.show()\n",
    "    return A"
   ]
  },
  {
   "cell_type": "code",
   "execution_count": 32,
   "metadata": {},
   "outputs": [],
   "source": [
    "def func_comb(n):\n",
    "    list_combinations,tmp = [],[]\n",
    "    for i in range(1, pow(2, n)):\n",
    "        tmp.append(bin(i)[2:].zfill(n))\n",
    "        list_combinations.append([int(i) for i in bin(i)[2:].zfill(n)])\n",
    "    list_combinations=np.array(list_combinations)\n",
    "    return list_combinations"
   ]
  },
  {
   "cell_type": "code",
   "execution_count": 52,
   "metadata": {},
   "outputs": [],
   "source": [
    "def equations(x,comb,c):\n",
    "    n = len(comb)\n",
    "#     c = 0.3\n",
    "    f = [0 for i in range(0,n)]\n",
    "    for l, x_l in enumerate(comb):\n",
    "        if(x_l==1):\n",
    "#                 для каждого игрока из S берем вектор его сосдей из А, для построения (e1+e0+...+1)\n",
    "            for i, x_i in enumerate(A[l]*comb.T):\n",
    "                if (x_i==1):\n",
    "                    f[l]+=1/(sum(A[i]*x.T)+1)\n",
    "            f[l]=f[l]-c\n",
    "        else:\n",
    "            f[l]=1/(sum(A[l]*x.T)+1)-c\n",
    "    return f"
   ]
  },
  {
   "cell_type": "code",
   "execution_count": 29,
   "metadata": {},
   "outputs": [],
   "source": [
    "def equations_log(comb,x,c):\n",
    "    n = len(comb)\n",
    "    f = [0 for i in range(0,n)]\n",
    "    for l, x_l in enumerate(comb):\n",
    "        if(x_l==1):\n",
    "            f[l]=np.log(sum(A[l]*x.T)+1)-c*x[l]\n",
    "\n",
    "    return sum(f)"
   ]
  },
  {
   "cell_type": "code",
   "execution_count": 69,
   "metadata": {},
   "outputs": [],
   "source": [
    "n = 5\n",
    "x0 = np.array(np.zeros(n,))\n",
    "tmp = []\n",
    "list_combinations = func_comb(n)\n",
    "results = []\n",
    "list_res = []\n",
    "results_comb = []\n",
    "results_comb1 = []\n",
    "results_prob = []\n",
    "step = 0.01\n",
    "bounds = (np.zeros(n,),[np.inf for i in range(0,n)])\n",
    "for p in np.arange(0.5,1.0,step):\n",
    "    for k in range(0,200):\n",
    "        A = func_graph(n, p)\n",
    "        for comb in list_combinations:\n",
    "            res = opt.least_squares(lambda x: equations(x,comb), [1 for i in range(0,n)], bounds= bounds)       \n",
    "            results.append(equations_log(comb,res.x))\n",
    "            results_comb1.append(comb)\n",
    "            results_comb.append(k)\n",
    "            results_prob.append(p)\n",
    "            "
   ]
  },
  {
   "cell_type": "code",
   "execution_count": 70,
   "metadata": {},
   "outputs": [
    {
     "name": "stdout",
     "output_type": "stream",
     "text": [
      "   Value_Func  Number_Iteration        Coalition  Prob Coalition_as_string\n",
      "0    4.497414                 0  [0, 0, 0, 0, 1]   0.5         [0 0 0 0 1]\n",
      "1    4.053462                 0  [0, 0, 0, 1, 0]   0.5         [0 0 0 1 0]\n"
     ]
    },
    {
     "data": {
      "text/plain": [
       "<matplotlib.axes._subplots.AxesSubplot at 0x1f6586048c8>"
      ]
     },
     "execution_count": 70,
     "metadata": {},
     "output_type": "execute_result"
    },
    {
     "data": {
      "image/png": "[encoded data removed]",
      "text/plain": [
       "<Figure size 432x288 with 1 Axes>"
      ]
     },
     "metadata": {
      "needs_background": "light"
     },
     "output_type": "display_data"
    }
   ],
   "source": [
    "data_results=pd.DataFrame(data = results,columns = ['Value_Func'], index = range(200*50*len(list_combinations)))\n",
    "data_results['Number_Iteration'] = results_comb\n",
    "data_results['Coalition'] = results_comb1\n",
    "data_results['Prob'] = results_prob\n",
    "data_results['Coalition_as_string'] = data_results['Coalition'].astype('str')\n",
    "print(data_results.head(2))\n",
    "\n",
    "data_results[data_results['Coalition_as_string'] == '[1 1 1 1 1]']['Value_Func'].hist()"
   ]
  },
  {
   "cell_type": "code",
   "execution_count": 62,
   "metadata": {},
   "outputs": [
    {
     "data": {
      "text/html": [
       "<div>\n",
       "<style scoped>\n",
       "    .dataframe tbody tr th:only-of-type {\n",
       "        vertical-align: middle;\n",
       "    }\n",
       "\n",
       "    .dataframe tbody tr th {\n",
       "        vertical-align: top;\n",
       "    }\n",
       "\n",
       "    .dataframe thead th {\n",
       "        text-align: right;\n",
       "    }\n",
       "</style>\n",
       "<table border=\"1\" class=\"dataframe\">\n",
       "  <thead>\n",
       "    <tr style=\"text-align: right;\">\n",
       "      <th></th>\n",
       "      <th>Value_Func</th>\n",
       "      <th>Number_Iteration</th>\n",
       "      <th>Prob</th>\n",
       "    </tr>\n",
       "  </thead>\n",
       "  <tbody>\n",
       "    <tr>\n",
       "      <th>count</th>\n",
       "      <td>31000.000000</td>\n",
       "      <td>31000.000000</td>\n",
       "      <td>31000.000000</td>\n",
       "    </tr>\n",
       "    <tr>\n",
       "      <th>mean</th>\n",
       "      <td>12.273098</td>\n",
       "      <td>99.500000</td>\n",
       "      <td>0.700000</td>\n",
       "    </tr>\n",
       "    <tr>\n",
       "      <th>std</th>\n",
       "      <td>5.443481</td>\n",
       "      <td>57.735236</td>\n",
       "      <td>0.141424</td>\n",
       "    </tr>\n",
       "    <tr>\n",
       "      <th>min</th>\n",
       "      <td>3.609498</td>\n",
       "      <td>0.000000</td>\n",
       "      <td>0.500000</td>\n",
       "    </tr>\n",
       "    <tr>\n",
       "      <th>25%</th>\n",
       "      <td>8.803495</td>\n",
       "      <td>49.750000</td>\n",
       "      <td>0.600000</td>\n",
       "    </tr>\n",
       "    <tr>\n",
       "      <th>50%</th>\n",
       "      <td>12.444869</td>\n",
       "      <td>99.500000</td>\n",
       "      <td>0.700000</td>\n",
       "    </tr>\n",
       "    <tr>\n",
       "      <th>75%</th>\n",
       "      <td>14.998304</td>\n",
       "      <td>149.250000</td>\n",
       "      <td>0.800000</td>\n",
       "    </tr>\n",
       "    <tr>\n",
       "      <th>max</th>\n",
       "      <td>26.083040</td>\n",
       "      <td>199.000000</td>\n",
       "      <td>0.900000</td>\n",
       "    </tr>\n",
       "  </tbody>\n",
       "</table>\n",
       "</div>"
      ],
      "text/plain": [
       "         Value_Func  Number_Iteration          Prob\n",
       "count  31000.000000      31000.000000  31000.000000\n",
       "mean      12.273098         99.500000      0.700000\n",
       "std        5.443481         57.735236      0.141424\n",
       "min        3.609498          0.000000      0.500000\n",
       "25%        8.803495         49.750000      0.600000\n",
       "50%       12.444869         99.500000      0.700000\n",
       "75%       14.998304        149.250000      0.800000\n",
       "max       26.083040        199.000000      0.900000"
      ]
     },
     "execution_count": 62,
     "metadata": {},
     "output_type": "execute_result"
    }
   ],
   "source": [
    "data_results.describe()"
   ]
  },
  {
   "cell_type": "code",
   "execution_count": 75,
   "metadata": {},
   "outputs": [
    {
     "data": {
      "text/plain": [
       "<matplotlib.axes._subplots.AxesSubplot at 0x1f650da6ec8>"
      ]
     },
     "execution_count": 75,
     "metadata": {},
     "output_type": "execute_result"
    },
    {
     "data": {
      "image/png": "[encoded data removed]",
      "text/plain": [
       "<Figure size 432x288 with 1 Axes>"
      ]
     },
     "metadata": {
      "needs_background": "light"
     },
     "output_type": "display_data"
    }
   ],
   "source": [
    "coalition = data_results.loc[data_results['Coalition_as_string'] == '[1 1 1 0 1]' ]\n",
    "coalition.groupby('Prob', as_index=False).agg({'Value_Func':'mean'}).plot(kind='scatter', x = 'Prob', y = 'Value_Func')"
   ]
  },
  {
   "cell_type": "code",
   "execution_count": 13,
   "metadata": {},
   "outputs": [],
   "source": [
    "def func2(comb,x):\n",
    "    rez = 0\n",
    "    for i, x_i in enumerate(comb):\n",
    "        if x_i == 1:\n",
    "            rez+=np.log(A[i].dot(comb.T*x.T)+1)-x_i*0.3*x[i]                           \n",
    "    return -rez"
   ]
  },
  {
   "cell_type": "code",
   "execution_count": 9,
   "metadata": {},
   "outputs": [
    {
     "name": "stdout",
     "output_type": "stream",
     "text": [
      "[[1 1 0 0 1]\n",
      " [1 1 1 0 0]\n",
      " [0 1 1 1 0]\n",
      " [0 0 1 1 1]\n",
      " [1 0 0 1 1]] = A\n"
     ]
    },
    {
     "data": {
      "image/png": "[encoded data removed]",
      "text/plain": [
       "<Figure size 432x288 with 1 Axes>"
      ]
     },
     "metadata": {},
     "output_type": "display_data"
    }
   ],
   "source": [
    "A = np.array([[1, 1, 0, 0, 1], [1, 1, 1, 0, 0],[0, 1, 1, 1, 0],[0, 0, 1, 1, 1],[1, 0, 0, 1, 1]])\n",
    "print(A, '= A')\n",
    "graph = [(0,1), (1,2), (2,3), (3,4), (4,0)]\n",
    "draw_graph(graph)"
   ]
  },
  {
   "cell_type": "code",
   "execution_count": 17,
   "metadata": {},
   "outputs": [
    {
     "name": "stdout",
     "output_type": "stream",
     "text": [
      "     fun: -1.0079456086517762\n",
      "     jac: array([8.8817842e-08, 0.0000000e+00, 8.8817842e-08, 0.0000000e+00,\n",
      "       0.0000000e+00])\n",
      " message: 'Local minimum reached (|pg| ~= 0)'\n",
      "    nfev: 22\n",
      "     nit: 5\n",
      "  status: 0\n",
      " success: True\n",
      "       x: array([2.33333437, 0.        , 2.33333437, 0.        , 0.        ])\n",
      "1.0079456086517762\n"
     ]
    }
   ],
   "source": [
    "n = 5\n",
    "bounds = Bounds(np.zeros(n,),[np.inf for i in range(0,n)])\n",
    "comb = np.array([1, 0, 1, 0, 0])\n",
    "x0 = np.array(np.zeros(n,))\n",
    "res = opt.minimize(lambda x: func2(comb,x), x0, method='TNC', bounds = bounds)\n",
    "print(res)\n",
    "t= (-func2(comb,res.x))\n",
    "print(t)"
   ]
  },
  {
   "cell_type": "code",
   "execution_count": 27,
   "metadata": {},
   "outputs": [
    {
     "name": "stdout",
     "output_type": "stream",
     "text": [
      " active_mask: array([-1,  0, -1,  0,  0])\n",
      "        cost: 0.004667156395097484\n",
      "         fun: array([-0.04851126,  0.0679943 , -0.04851126, -0.00148383, -0.00148383])\n",
      "        grad: array([ 3.96680779e-04, -1.57424098e-10,  3.96680779e-04,  3.17664150e-10,\n",
      "        3.79436902e-10])\n",
      "         jac: array([[-0.031794  , -0.031794  , -0.01822046,  0.        , -0.01357354],\n",
      "       [-0.031794  , -0.04536755, -0.031794  , -0.01357355, -0.01357354],\n",
      "       [-0.01822046, -0.031794  , -0.031794  , -0.01357355,  0.        ],\n",
      "       [ 0.        ,  0.        , -0.0891119 , -0.0891119 , -0.0891119 ],\n",
      "       [-0.0891119 ,  0.        ,  0.        , -0.0891119 , -0.0891119 ]])\n",
      "     message: '`gtol` termination condition is satisfied.'\n",
      "        nfev: 9\n",
      "        njev: 9\n",
      "  optimality: 4.4581982644771027e-10\n",
      "      status: 1\n",
      "     success: True\n",
      "           x: array([9.20919771e-19, 6.40833036e+00, 9.19290986e-19, 1.17495115e+00,\n",
      "       1.17495115e+00])\n",
      "4.379738585739589\n"
     ]
    }
   ],
   "source": [
    "n = 5\n",
    "bounds = (np.zeros(n,),[np.inf for i in range(0,n)])\n",
    "comb = np.array([1, 1, 1, 0, 0])\n",
    "x0 = np.array(np.zeros(n,))\n",
    "res = opt.least_squares(lambda x: equations(x,comb), [1 for i in range(0,n)], bounds= bounds)       \n",
    "t = equations_log(comb,res.x)\n",
    "print(res)\n",
    "print(t)"
   ]
  },
  {
   "cell_type": "code",
   "execution_count": 177,
   "metadata": {},
   "outputs": [],
   "source": [
    "def func_sqrt(comb,x):\n",
    "    rez = 0\n",
    "    for i, x_i in enumerate(comb):\n",
    "        if x_i == 1:\n",
    "            rez+=pow(A[i].dot(comb.T*x.T),0.5)-x_i*0.01*x[i]                           \n",
    "    return -rez"
   ]
  },
  {
   "cell_type": "code",
   "execution_count": 79,
   "metadata": {},
   "outputs": [],
   "source": [
    "n = 5\n",
    "x0 = np.array(np.zeros(n,))\n",
    "tmp = []\n",
    "list_combinations = func_comb(n)\n",
    "results_mm = []\n",
    "list_res = []\n",
    "results_comb_mm = []\n",
    "results_comb1_mm = []\n",
    "results_prob_mm =[]\n",
    "bounds = Bounds(np.zeros(n,),[np.inf for i in range(0,n)])\n",
    "step =0.01\n",
    "for p in np.arange(0.5,1.0,step):\n",
    "    for k in range(0,10):\n",
    "        A = func_graph(n, p)\n",
    "        for comb in list_combinations:\n",
    "            res = opt.minimize(lambda x: func2(comb,x), x0, method='TNC', bounds = bounds)\n",
    "            results_mm.append(-func2(comb,res.x))\n",
    "            results_comb1_mm.append(comb)\n",
    "            results_comb_mm.append(k)\n",
    "            results_prob_mm.append(p)\n"
   ]
  },
  {
   "cell_type": "code",
   "execution_count": 80,
   "metadata": {},
   "outputs": [
    {
     "name": "stdout",
     "output_type": "stream",
     "text": [
      "   Value_Func  Number_Iteration        Coalition  Prob Coalition_as_string\n",
      "0     3.61517                 0  [0, 0, 0, 0, 1]   0.5         [0 0 0 0 1]\n",
      "1     3.61517                 0  [0, 0, 0, 1, 0]   0.5         [0 0 0 1 0]\n"
     ]
    },
    {
     "data": {
      "text/plain": [
       "<matplotlib.axes._subplots.AxesSubplot at 0x1f64e8e4c48>"
      ]
     },
     "execution_count": 80,
     "metadata": {},
     "output_type": "execute_result"
    },
    {
     "data": {
      "image/png": "[encoded data removed]",
      "text/plain": [
       "<Figure size 432x288 with 1 Axes>"
      ]
     },
     "metadata": {
      "needs_background": "light"
     },
     "output_type": "display_data"
    }
   ],
   "source": [
    "data_results_mm=pd.DataFrame(data = results_mm,columns = ['Value_Func'], index = range(10*50*len(list_combinations)))\n",
    "data_results_mm['Number_Iteration'] = results_comb_mm\n",
    "data_results_mm['Coalition'] = results_comb1_mm\n",
    "data_results_mm['Prob'] = results_prob_mm\n",
    "data_results_mm['Coalition_as_string'] = data_results_mm['Coalition'].astype('str')\n",
    "print(data_results_mm.head(2))\n",
    "\n",
    "data_results_mm[data_results_mm['Coalition_as_string'] == '[1 1 1 1 1]']['Value_Func'].hist()"
   ]
  },
  {
   "cell_type": "code",
   "execution_count": 83,
   "metadata": {},
   "outputs": [
    {
     "data": {
      "text/plain": [
       "<matplotlib.axes._subplots.AxesSubplot at 0x1f64e8ab088>"
      ]
     },
     "execution_count": 83,
     "metadata": {},
     "output_type": "execute_result"
    },
    {
     "data": {
      "image/png": "[encoded data removed]",
      "text/plain": [
       "<Figure size 432x288 with 1 Axes>"
      ]
     },
     "metadata": {
      "needs_background": "light"
     },
     "output_type": "display_data"
    }
   ],
   "source": [
    "coalition_mm = data_results_mm.loc[data_results['Coalition_as_string'] == '[1 1 1 0 1]' ]\n",
    "coalition_mm.groupby('Prob', as_index=False).agg({'Value_Func':'mean'}).plot(kind='scatter', x = 'Prob', y = 'Value_Func')"
   ]
  },
  {
   "cell_type": "markdown",
   "metadata": {},
   "source": [
    "рассмотрим одну коалицию\n"
   ]
  },
  {
   "cell_type": "code",
   "execution_count": 99,
   "metadata": {},
   "outputs": [],
   "source": [
    "n = 5\n",
    "x0 = np.array(np.zeros(n,))\n",
    "tmp = []\n",
    "list_combinations = func_comb(n)\n",
    "results_mm = []\n",
    "list_res = []\n",
    "results_comb_mm = []\n",
    "results_comb1_mm = []\n",
    "results_prob_mm =[]\n",
    "bounds = Bounds(np.zeros(n,),[np.inf for i in range(0,n)])\n",
    "step = 0.001\n",
    "comb = np.array([1, 1, 1, 0, 1])\n",
    "for p in np.arange(0.5,1.0,step):\n",
    "    for k in range(0,1000):\n",
    "        A = func_graph(n, p)\n",
    "#         for comb in list_combinations:\n",
    "        res = opt.minimize(lambda x: func2(comb,x), x0, method='TNC', bounds = bounds)\n",
    "        results_mm.append(-func2(comb,res.x))\n",
    "        results_comb1_mm.append(comb)\n",
    "        results_comb_mm.append(k)\n",
    "        results_prob_mm.append(p)\n"
   ]
  },
  {
   "cell_type": "code",
   "execution_count": 183,
   "metadata": {},
   "outputs": [
    {
     "data": {
      "text/plain": [
       "     fun: -624.9998402669286\n",
       "     jac: array([0., 0., 0., 0., 0.])\n",
       " message: 'Local minimum reached (|pg| ~= 0)'\n",
       "    nfev: 55\n",
       "     nit: 10\n",
       "  status: 0\n",
       " success: True\n",
       "       x: array([12477.06410991, 12477.06410991, 12477.0639949 , 12502.41933006,\n",
       "       12503.21165373])"
      ]
     },
     "execution_count": 183,
     "metadata": {},
     "output_type": "execute_result"
    }
   ],
   "source": [
    "res"
   ]
  },
  {
   "cell_type": "code",
   "execution_count": 185,
   "metadata": {},
   "outputs": [
    {
     "name": "stdout",
     "output_type": "stream",
     "text": [
      "   Value_Func  Number_Iteration        Coalition  Prob Coalition_as_string\n",
      "0        25.0                 0  [0, 0, 0, 0, 1]  0.01         [0 0 0 0 1]\n",
      "1        25.0                 0  [0, 0, 0, 1, 0]  0.01         [0 0 0 1 0]\n"
     ]
    },
    {
     "data": {
      "text/plain": [
       "<matplotlib.axes._subplots.AxesSubplot at 0x1f65351f188>"
      ]
     },
     "execution_count": 185,
     "metadata": {},
     "output_type": "execute_result"
    },
    {
     "data": {
      "image/png": "[encoded data removed]",
      "text/plain": [
       "<Figure size 432x288 with 1 Axes>"
      ]
     },
     "metadata": {
      "needs_background": "light"
     },
     "output_type": "display_data"
    }
   ],
   "source": [
    "data_results_mm1=pd.DataFrame(data = results_mm1,columns = ['Value_Func'], index = range(len(results_mm1)))\n",
    "data_results_mm1['Number_Iteration'] = results_comb_mm1\n",
    "data_results_mm1['Coalition'] = results_comb1_mm1\n",
    "data_results_mm1['Prob'] = results_prob_mm1\n",
    "data_results_mm1['Coalition_as_string'] = data_results_mm1['Coalition'].astype('str')\n",
    "print(data_results_mm1.head(2))\n",
    "\n",
    "data_results_mm1[data_results_mm1['Coalition_as_string'] == '[1 1 1 0 1]']['Value_Func'].hist()"
   ]
  },
  {
   "cell_type": "code",
   "execution_count": 189,
   "metadata": {},
   "outputs": [
    {
     "data": {
      "text/plain": [
       "<matplotlib.axes._subplots.AxesSubplot at 0x1f6553316c8>"
      ]
     },
     "execution_count": 189,
     "metadata": {},
     "output_type": "execute_result"
    },
    {
     "data": {
      "image/png": "[encoded data removed]",
      "text/plain": [
       "<Figure size 432x288 with 1 Axes>"
      ]
     },
     "metadata": {
      "needs_background": "light"
     },
     "output_type": "display_data"
    }
   ],
   "source": [
    "coalition_mm = data_results_mm1[data_results_mm1['Coalition_as_string'] == '[1 1 0 1 1]']\n",
    "coalition_mm.groupby('Prob', as_index=False).agg({'Value_Func':'mean'}).plot(kind='scatter', x = 'Prob', y = 'Value_Func')"
   ]
  },
  {
   "cell_type": "code",
   "execution_count": 168,
   "metadata": {},
   "outputs": [
    {
     "name": "stdout",
     "output_type": "stream",
     "text": [
      "p2=  0.0 p1 =  0.0\n",
      "p2=  0.2 p1 =  0.0\n",
      "p2=  0.38856180831641274 p1 =  0.011438191683587312\n",
      "p2=  0.5645751311064591 p1 =  0.035424868893540906\n",
      "p2=  0.7265986323710905 p1 =  0.07340136762890964\n",
      "p2=  0.8726779962499649 p1 =  0.12732200375003505\n",
      "p2=  1.0 p1 =  0.19999999999999996\n",
      "p2=  1.104145188432738 p1 =  0.29585481156726195\n",
      "p2=  1.1771236166328254 p1 =  0.42287638336717465\n",
      "p2=  1.2 p1 =  0.6000000000000001\n"
     ]
    }
   ],
   "source": [
    "M=10\n",
    "for m in range(0,M):\n",
    "    p2 = m/M+(m*pow(M-m,0.5))/(M*pow(M-1,0.5))\n",
    "    p1 = m/M-(m*pow(M-m,0.5))/(M*pow(M-1,0.5))\n",
    "    print('p2= ' , p2, 'p1 = ', p1)"
   ]
  },
  {
   "cell_type": "code",
   "execution_count": 100,
   "metadata": {},
   "outputs": [
    {
     "name": "stdout",
     "output_type": "stream",
     "text": [
      "   Value_Func  Number_Iteration        Coalition  Prob Coalition_as_string\n",
      "0   15.836975                 0  [1, 1, 1, 0, 1]   0.5         [1 1 1 0 1]\n",
      "1   18.594561                 1  [1, 1, 1, 0, 1]   0.5         [1 1 1 0 1]\n"
     ]
    },
    {
     "data": {
      "text/plain": [
       "<matplotlib.axes._subplots.AxesSubplot at 0x1f65c5f6e48>"
      ]
     },
     "execution_count": 100,
     "metadata": {},
     "output_type": "execute_result"
    },
    {
     "data": {
      "image/png": "[encoded data removed]",
      "text/plain": [
       "<Figure size 432x288 with 1 Axes>"
      ]
     },
     "metadata": {
      "needs_background": "light"
     },
     "output_type": "display_data"
    }
   ],
   "source": [
    "data_results_mm=pd.DataFrame(data = results_mm,columns = ['Value_Func'], index = range(1000*500))\n",
    "data_results_mm['Number_Iteration'] = results_comb_mm\n",
    "data_results_mm['Coalition'] = results_comb1_mm\n",
    "data_results_mm['Prob'] = results_prob_mm\n",
    "data_results_mm['Coalition_as_string'] = data_results_mm['Coalition'].astype('str')\n",
    "print(data_results_mm.head(2))\n",
    "\n",
    "data_results_mm[data_results_mm['Coalition_as_string'] == '[1 1 1 0 1]']['Value_Func'].hist()"
   ]
  },
  {
   "cell_type": "code",
   "execution_count": 103,
   "metadata": {},
   "outputs": [
    {
     "data": {
      "text/plain": [
       "<matplotlib.axes._subplots.AxesSubplot at 0x1f6510e9608>"
      ]
     },
     "execution_count": 103,
     "metadata": {},
     "output_type": "execute_result"
    },
    {
     "data": {
      "image/png": "[encoded data removed]",
      "text/plain": [
       "<Figure size 432x288 with 1 Axes>"
      ]
     },
     "metadata": {
      "needs_background": "light"
     },
     "output_type": "display_data"
    }
   ],
   "source": [
    "coalition_mm = data_results_mm\n",
    "coalition_mm.groupby('Prob', as_index=False).agg({'Value_Func':'mean'}).plot(kind='scatter', x = 'Prob', y = 'Value_Func')"
   ]
  },
  {
   "cell_type": "markdown",
   "metadata": {},
   "source": [
    "maxmax\n"
   ]
  },
  {
   "cell_type": "code",
   "execution_count": 104,
   "metadata": {},
   "outputs": [],
   "source": [
    "n = 5\n",
    "x0 = np.array(np.zeros(n,))\n",
    "tmp = []\n",
    "list_combinations = func_comb(n)\n",
    "results = []\n",
    "list_res = []\n",
    "results_comb = []\n",
    "results_comb1 = []\n",
    "results_prob = []\n",
    "step = 0.001\n",
    "bounds = (np.zeros(n,),[np.inf for i in range(0,n)])\n",
    "comb = np.array([1, 1, 1, 0, 1])\n",
    "for p in np.arange(0.5,1.0,step):\n",
    "    for k in range(0,1000):\n",
    "        A = func_graph(n, p)\n",
    "        res = opt.least_squares(lambda x: equations(x,comb), [1 for i in range(0,n)], bounds= bounds)       \n",
    "        results.append(equations_log(comb,res.x))\n",
    "        results_comb1.append(comb)\n",
    "        results_comb.append(k)\n",
    "        results_prob.append(p)\n",
    "            "
   ]
  },
  {
   "cell_type": "code",
   "execution_count": 106,
   "metadata": {},
   "outputs": [
    {
     "name": "stdout",
     "output_type": "stream",
     "text": [
      "   Value_Func  Number_Iteration        Coalition  Prob Coalition_as_string\n",
      "0   18.240592                 0  [1, 1, 1, 0, 1]   0.5         [1 1 1 0 1]\n",
      "1   16.331977                 1  [1, 1, 1, 0, 1]   0.5         [1 1 1 0 1]\n"
     ]
    },
    {
     "data": {
      "text/plain": [
       "<matplotlib.axes._subplots.AxesSubplot at 0x1f65baa8a48>"
      ]
     },
     "execution_count": 106,
     "metadata": {},
     "output_type": "execute_result"
    },
    {
     "data": {
      "image/png": "[encoded data removed]",
      "text/plain": [
       "<Figure size 432x288 with 1 Axes>"
      ]
     },
     "metadata": {
      "needs_background": "light"
     },
     "output_type": "display_data"
    }
   ],
   "source": [
    "data_results=pd.DataFrame(data = results,columns = ['Value_Func'], index = range(1000*500))\n",
    "data_results['Number_Iteration'] = results_comb\n",
    "data_results['Coalition'] = results_comb1\n",
    "data_results['Prob'] = results_prob\n",
    "data_results['Coalition_as_string'] = data_results['Coalition'].astype('str')\n",
    "print(data_results.head(2))\n",
    "\n",
    "data_results[data_results['Coalition_as_string'] == '[1 1 1 0 1]']['Value_Func'].hist()"
   ]
  },
  {
   "cell_type": "code",
   "execution_count": 107,
   "metadata": {},
   "outputs": [
    {
     "data": {
      "text/plain": [
       "<matplotlib.axes._subplots.AxesSubplot at 0x1f6585d9508>"
      ]
     },
     "execution_count": 107,
     "metadata": {},
     "output_type": "execute_result"
    },
    {
     "data": {
      "image/png": "[encoded data removed]",
      "text/plain": [
       "<Figure size 432x288 with 1 Axes>"
      ]
     },
     "metadata": {
      "needs_background": "light"
     },
     "output_type": "display_data"
    }
   ],
   "source": [
    "coalition = data_results\n",
    "coalition.groupby('Prob', as_index=False).agg({'Value_Func':'mean'}).plot(kind='scatter', x = 'Prob', y = 'Value_Func')"
   ]
  },
  {
   "cell_type": "code",
   "execution_count": 56,
   "metadata": {},
   "outputs": [],
   "source": [
    "n = 5\n",
    "x0 = np.array(np.zeros(n,))\n",
    "tmp = []\n",
    "list_combinations = func_comb(n)\n",
    "results = []\n",
    "list_res = []\n",
    "results_comb = []\n",
    "results_comb1 = []\n",
    "results_prob = []\n",
    "step = 0.01\n",
    "p = 0.5\n",
    "bounds = (np.zeros(n,),[np.inf for i in range(0,n)])\n",
    "for c in np.arange(0.01,2.8,step):\n",
    "    for k in range(0,100):\n",
    "        A = func_graph(n, p)\n",
    "        for comb in list_combinations:\n",
    "            res = opt.least_squares(lambda x: equations(x,comb,c), [1 for i in range(0,n)], bounds= bounds)       \n",
    "            results.append(equations_log(comb,res.x,c))\n",
    "#             print(res.x)\n",
    "            results_comb1.append(comb)\n",
    "            results_comb.append(k)\n",
    "            results_prob.append(c)\n",
    "            "
   ]
  },
  {
   "cell_type": "code",
   "execution_count": 50,
   "metadata": {
    "collapsed": true
   },
   "outputs": [
    {
     "data": {
      "text/plain": [
       "[1.2850513290937735,\n",
       " 1.16454611827285,\n",
       " 2.4495974473666235,\n",
       " 1.16454611827285,\n",
       " 3.6017727454038058,\n",
       " 3.5304133996100777,\n",
       " 6.291926597800796,\n",
       " 1.2850513290937735,\n",
       " 3.572153326468435,\n",
       " 3.6017727441529397,\n",
       " 6.001428890806004,\n",
       " 2.4495974473666235,\n",
       " 6.001428855958998,\n",
       " 6.291926595120834,\n",
       " 9.14238848396143,\n",
       " 1.1163710143175443,\n",
       " 3.5752571257078163,\n",
       " 2.2809171325903943,\n",
       " 4.803860689693867,\n",
       " 2.2809171325903943,\n",
       " 5.965631308508941,\n",
       " 4.582720562463483,\n",
       " 8.286177966408822,\n",
       " 3.5752571285637536,\n",
       " 6.818396889905324,\n",
       " 5.965631311334476,\n",
       " 9.276313618419085,\n",
       " 4.803860694552125,\n",
       " 9.276313608197482,\n",
       " 8.286177964406717,\n",
       " 12.049210378670884,\n",
       " 1.2038429501568726,\n",
       " 1.192434064818579,\n",
       " 3.544860010734439,\n",
       " 1.1806394709926027,\n",
       " 2.3844824211494755,\n",
       " 2.373073535811182,\n",
       " 4.725499481727009,\n",
       " 1.2038429501486876,\n",
       " 2.40768590030556,\n",
       " 3.540286620068698,\n",
       " 6.012209062953243,\n",
       " 2.38448242114129,\n",
       " 3.5883253712981626,\n",
       " 4.720926091061301,\n",
       " 7.1928485339458454,\n",
       " 1.1924340648185834,\n",
       " 3.5455625795710586,\n",
       " 3.6733934951304446,\n",
       " 6.819360397532876,\n",
       " 2.3730735358111863,\n",
       " 4.726202050563625,\n",
       " 4.8540329661230475,\n",
       " 7.999999868647205,\n",
       " 3.5335189409278156,\n",
       " 6.012209068259323,\n",
       " 6.819360399414846,\n",
       " 9.798706326793669,\n",
       " 4.714158411920418,\n",
       " 7.1928485392519255,\n",
       " 7.999999870529163,\n",
       " 10.979345797801074,\n",
       " 1.1808759840441228,\n",
       " 1.203923047801719,\n",
       " 3.6186179035292763,\n",
       " 1.1806394709926027,\n",
       " 2.3615154550367254,\n",
       " 2.384562518794322,\n",
       " 4.799257374521879,\n",
       " 1.203923047801719,\n",
       " 3.6186179055363206,\n",
       " 3.5568523439393793,\n",
       " 6.819644826243998,\n",
       " 2.384562518794322,\n",
       " 4.799257376528923,\n",
       " 4.73749181468796,\n",
       " 8.000284297227832,\n",
       " 1.2038286181192235,\n",
       " 3.7406379256701676,\n",
       " 2.4077516659209426,\n",
       " 6.124594061167651,\n",
       " 2.3844680891118264,\n",
       " 4.921277405469871,\n",
       " 3.5883911369135455,\n",
       " 7.305233532160253,\n",
       " 2.4077516659209426,\n",
       " 6.124591114853915,\n",
       " 4.760825145339192,\n",
       " 9.242989261427612,\n",
       " 3.588391136913545,\n",
       " 7.305230585846519,\n",
       " 5.941464616087773,\n",
       " 10.423628732420212,\n",
       " 1.2850513288292118,\n",
       " 1.164546119342921,\n",
       " 2.449597448172133,\n",
       " 1.2850513287667626,\n",
       " 3.5721523195447986,\n",
       " 3.601772743955849,\n",
       " 6.001428895067067,\n",
       " 1.1163710137585852,\n",
       " 3.57525713033736,\n",
       " 2.2809171331015063,\n",
       " 4.803860696092656,\n",
       " 3.5752571285237518,\n",
       " 6.818396889546228,\n",
       " 5.965631313960875,\n",
       " 9.276313593226972,\n",
       " 1.1645461174002703,\n",
       " 3.601772745206797,\n",
       " 3.530413404169594,\n",
       " 6.2919266010548185,\n",
       " 2.449597446167033,\n",
       " 6.001428905004509,\n",
       " 6.291926597685657,\n",
       " 9.142388483961385,\n",
       " 2.2809171311588554,\n",
       " 5.965631314541343,\n",
       " 4.582720563116247,\n",
       " 8.286177960869887,\n",
       " 4.803860694289636,\n",
       " 9.27631360282432,\n",
       " 8.286177969223756,\n",
       " 12.049210373680939,\n",
       " 1.2850513305350093,\n",
       " 1.1163710131422309,\n",
       " 3.575257130297342,\n",
       " 1.1645461178691783,\n",
       " 2.4495974484041874,\n",
       " 2.2809171310114094,\n",
       " 4.803860695830183,\n",
       " 1.2850513257823426,\n",
       " 3.5721528705634222,\n",
       " 3.57525712860378,\n",
       " 6.818396894572368,\n",
       " 3.6017727474973844,\n",
       " 6.001428879692582,\n",
       " 5.965631314004911,\n",
       " 9.276313605011056,\n",
       " 1.1645461176955607,\n",
       " 3.601772744349661,\n",
       " 2.280917130837792,\n",
       " 5.965631311464541,\n",
       " 3.5304134060229995,\n",
       " 6.291926595518271,\n",
       " 4.582720563120594,\n",
       " 8.286177968261201,\n",
       " 2.449597443477903,\n",
       " 6.001428881468423,\n",
       " 4.803860694814587,\n",
       " 9.276313601444524,\n",
       " 6.291926594013896,\n",
       " 9.142388482295082,\n",
       " 8.286177960984478,\n",
       " 12.049210380942053,\n",
       " 1.0992711602695369,\n",
       " 1.3882976768561621,\n",
       " 3.776548655108992,\n",
       " 1.0992711654746004,\n",
       " 2.198542325744137,\n",
       " 2.4875688423307625,\n",
       " 4.980398663036515,\n",
       " 1.1094340485514649,\n",
       " 2.2087052088210015,\n",
       " 3.602171606783986,\n",
       " 6.133326645483907,\n",
       " 2.2087052140260655,\n",
       " 3.3079763742956025,\n",
       " 4.806144407665407,\n",
       " 7.335955782049709,\n",
       " 1.388297692397634,\n",
       " 2.487568852667171,\n",
       " 3.653922614988418,\n",
       " 6.107977834147965,\n",
       " 3.7765480210735567,\n",
       " 4.980409795350996,\n",
       " 6.107977829972728,\n",
       " 8.387416044095398,\n",
       " 3.602171619035641,\n",
       " 4.8061444205841415,\n",
       " 6.817835238602082,\n",
       " 9.276313563194673,\n",
       " 6.133326639870065,\n",
       " 7.335955786241186,\n",
       " 9.276313583309816,\n",
       " 11.522509138284171,\n",
       " 1.1923061377274258,\n",
       " 1.1923061377352733,\n",
       " 3.737573074297965,\n",
       " 1.1923061377274258,\n",
       " 2.3846122754548515,\n",
       " 2.384612275462699,\n",
       " 4.929879218394499,\n",
       " 1.1806394729619165,\n",
       " 2.3729456106893423,\n",
       " 2.37294561069719,\n",
       " 4.9182125181913845,\n",
       " 2.3729456106893423,\n",
       " 3.565251748416768,\n",
       " 3.5652517484246156,\n",
       " 6.110518662287919,\n",
       " 1.1923061377352733,\n",
       " 2.384612275462699,\n",
       " 2.3846122754705465,\n",
       " 4.9298792184082,\n",
       " 3.737573074297965,\n",
       " 4.929879218394499,\n",
       " 4.9298792184082,\n",
       " 7.475146606210194,\n",
       " 2.37294561069719,\n",
       " 3.5652517484246156,\n",
       " 3.565251748432463,\n",
       " 6.110518662301619,\n",
       " 4.9182125181913845,\n",
       " 6.110518662287919,\n",
       " 6.110518662301619,\n",
       " 8.655786077202814,\n",
       " 1.203959795140291,\n",
       " 1.1809608498332957,\n",
       " 3.7298536157952022,\n",
       " 1.203959795140291,\n",
       " 3.556852292717052,\n",
       " 3.695462807009111,\n",
       " 6.82682853460414,\n",
       " 1.2038201829066075,\n",
       " 2.4077799780468983,\n",
       " 3.7618788641670804,\n",
       " 6.1115265041965525,\n",
       " 2.4077799780468983,\n",
       " 4.760825089978721,\n",
       " 6.111524591882514,\n",
       " 9.190955926194945,\n",
       " 1.2038201829030986,\n",
       " 2.4077799780433895,\n",
       " 3.761878864175931,\n",
       " 6.111524681539523,\n",
       " 2.4077799780433895,\n",
       " 4.760825089978721,\n",
       " 6.127413935173158,\n",
       " 9.19095529868515,\n",
       " 2.407640365809706,\n",
       " 3.6116001609499966,\n",
       " 6.149307537903186,\n",
       " 8.608997191883676,\n",
       " 3.6116001609499966,\n",
       " 5.9647978872403895,\n",
       " 8.608997179325794,\n",
       " 12.035407835770336,\n",
       " 1.0992711643711934,\n",
       " 1.388297676297798,\n",
       " 2.4875688406689918,\n",
       " 1.0992711667457096,\n",
       " 2.198542331116903,\n",
       " 3.776548655104196,\n",
       " 4.980398663000927,\n",
       " 1.1094340429476832,\n",
       " 2.208705207318877,\n",
       " 3.6021716083184327,\n",
       " 4.80614441279177,\n",
       " 2.2087052096933926,\n",
       " 3.307976374064586,\n",
       " 6.133326636059578,\n",
       " 7.335955790881226,\n",
       " 1.3882976932100353,\n",
       " 3.776548655106267,\n",
       " 3.653922567610028,\n",
       " 6.107977832833104,\n",
       " 2.487568859955745,\n",
       " 4.980398663004302,\n",
       " 6.107977830200129,\n",
       " 8.387416050484884,\n",
       " 3.60217160266605,\n",
       " 6.13332662896691,\n",
       " 6.8178352559626685,\n",
       " 9.276313556520485,\n",
       " 4.80614440883873,\n",
       " 7.335955773951489,\n",
       " 9.276313586014272,\n",
       " 11.522509142963534,\n",
       " 1.1923061386035878,\n",
       " 1.1961950265481578,\n",
       " 2.3885011651517454,\n",
       " 1.1961950265481578,\n",
       " 2.3885011651517454,\n",
       " 3.550185884704992,\n",
       " 4.742492082639819,\n",
       " 1.1961950265481578,\n",
       " 2.3885011651517454,\n",
       " 3.550185884651868,\n",
       " 4.742492082574248,\n",
       " 3.5501858846611825,\n",
       " 4.742492082595744,\n",
       " 6.817755536739112,\n",
       " 8.010061674353171,\n",
       " 1.192306138603385,\n",
       " 3.737573331781494,\n",
       " 2.388501165151543,\n",
       " 4.933768828611487,\n",
       " 2.388501165151543,\n",
       " 4.933767692323465,\n",
       " 4.742492082641143,\n",
       " 7.287756407164517,\n",
       " 2.388501165151543,\n",
       " 4.933768828611487,\n",
       " 4.742492082605169,\n",
       " 7.283834961887509,\n",
       " 4.7424920825975985,\n",
       " 7.299854472783311,\n",
       " 8.010061674353082,\n",
       " 10.555328584011878,\n",
       " 0.9251810154369017,\n",
       " 1.1163710140088132,\n",
       " 2.041552029445715,\n",
       " 0.9251810154369018,\n",
       " 1.9185864743612795,\n",
       " 2.041552029445715,\n",
       " 2.97089363884263,\n",
       " 0.8743009199596434,\n",
       " 1.7994819353965452,\n",
       " 1.9726475274613255,\n",
       " 3.2012510914473777,\n",
       " 1.5157839115679237,\n",
       " 3.9694201743702866,\n",
       " 3.0001135381649817,\n",
       " 4.237592658725156,\n",
       " 0.8743009199596434,\n",
       " 1.5157839121599481,\n",
       " 1.972647509257055,\n",
       " 3.000113542339151,\n",
       " 1.7994819353965452,\n",
       " 3.969420172261482,\n",
       " 3.20125105137549,\n",
       " 4.237592659338354,\n",
       " 3.5721503565065307,\n",
       " 3.8263881636118593,\n",
       " 3.2454303684725203,\n",
       " 5.54676898518259,\n",
       " 3.826388257750878,\n",
       " 4.868956431058216,\n",
       " 5.546768985027973,\n",
       " 6.4378538111990995,\n",
       " 0.24730613765926945,\n",
       " 1.203972804325936,\n",
       " 1.627008163591081,\n",
       " 0.24730613765937126,\n",
       " 0.4946122753186407,\n",
       " 1.4512789419853072,\n",
       " 1.874314301250299,\n",
       " 0.24730613765937126,\n",
       " 0.4946122753186407,\n",
       " 1.4512789419853072,\n",
       " 1.874314301250299,\n",
       " 0.4946122753187425,\n",
       " 0.741918412978012,\n",
       " 1.6985850796446784,\n",
       " 2.121620438909517,\n",
       " 1.203972804325936,\n",
       " 1.6269960807252228,\n",
       " 2.407945608651872,\n",
       " 3.3647803786479904,\n",
       " 1.4512789419853072,\n",
       " 1.8743022183844409,\n",
       " 2.655251746311243,\n",
       " 3.6120865161067734,\n",
       " 1.4512789419853072,\n",
       " 1.8743022183844409,\n",
       " 2.655251746311243,\n",
       " 3.6120865161067734,\n",
       " 1.6985850796446784,\n",
       " 2.121608356043659,\n",
       " 2.9025578839706143,\n",
       " 3.8593926535655574,\n",
       " 1.2034082070398326,\n",
       " 1.2036803243293495,\n",
       " 1.9732827437936693,\n",
       " 0.24826084019128558,\n",
       " 1.533604141136647,\n",
       " 3.6020217439023887,\n",
       " 3.268893931779856,\n",
       " 0.24765720389406676,\n",
       " 1.4510654109338994,\n",
       " 1.4513375282234162,\n",
       " 3.201886322663456,\n",
       " 0.49591804408535234,\n",
       " 1.7809217065127108,\n",
       " 4.830625339578122,\n",
       " 3.6720961241361154,\n",
       " 1.203839427818298,\n",
       " 2.4072476348581304,\n",
       " 1.5157839937994522,\n",
       " 3.0001138164977426,\n",
       " 1.4521002680095836,\n",
       " 2.7376081205756884,\n",
       " 3.0001138195645978,\n",
       " 5.198543900390952,\n",
       " 1.672981953865776,\n",
       " 2.611128129303839,\n",
       " 3.649382744505746,\n",
       " 4.237592711507276,\n",
       " 2.61113066193132,\n",
       " 4.731854704812568,\n",
       " 4.237592709616951,\n",
       " 6.149660040948721,\n",
       " 1.3984487456067909,\n",
       " 0.27605094665042806,\n",
       " 1.896922562744088,\n",
       " 0.6927224451156061,\n",
       " 2.091171190722397,\n",
       " 0.9687733917660342,\n",
       " 3.1001066689656724,\n",
       " 0.9818015342930837,\n",
       " 1.5157866016487354,\n",
       " 1.2578524809435119,\n",
       " 3.667391097719668,\n",
       " 2.1211687074752916,\n",
       " 2.9563130981091095,\n",
       " 2.9843375717867184,\n",
       " 3.9186842940660482,\n",
       " 0.6927224456948236,\n",
       " 2.0911711913016147,\n",
       " 0.9687733923452516,\n",
       " 3.1001066689741172,\n",
       " 1.3854448908104295,\n",
       " 2.78389363641722,\n",
       " 1.6614958374608575,\n",
       " 4.303290775195702,\n",
       " 2.1211487935071127,\n",
       " 2.9563131168031975,\n",
       " 2.9842582822229082,\n",
       " 3.9186842952875605,\n",
       " 1.6963722943016433,\n",
       " 5.740258037541071,\n",
       " 1.9481755641411929,\n",
       " 5.708658973138448,\n",
       " 1.2032544842195527,\n",
       " 1.0829283842428905,\n",
       " 2.518349470079092,\n",
       " 1.2025720356706397,\n",
       " 1.9755087596513894,\n",
       " 3.5461478851316177,\n",
       " 3.2864153296257648,\n",
       " 1.2032544842187602,\n",
       " 2.406508968438313,\n",
       " 2.5184387537849737,\n",
       " 5.85355483925265,\n",
       " 2.518479215371285,\n",
       " 5.1836025190544,\n",
       " 3.286442164450251,\n",
       " 9.600777782112324,\n",
       " 0.37098865412944815,\n",
       " 2.517629025708627,\n",
       " 3.5461478849047445,\n",
       " 3.732267147722315,\n",
       " 3.546147885131954,\n",
       " 3.2863161595658616,\n",
       " 6.571995142707875,\n",
       " 5.530733597948371,\n",
       " 1.9500811775002198,\n",
       " 4.451517162950717,\n",
       " 3.343636060047118,\n",
       " 6.01285041521596,\n",
       " 3.7745560845351807,\n",
       " 6.8581216263068665,\n",
       " 5.530744260128828,\n",
       " 7.758566168217824,\n",
       " 0.6927424251284209,\n",
       " 0.9817693493785988,\n",
       " 1.6745117745070197,\n",
       " 0.6927424537467441,\n",
       " 1.385484878875165,\n",
       " 1.8971651831458987,\n",
       " 3.10048054225279,\n",
       " 1.1094340429476823,\n",
       " 1.8021764680761032,\n",
       " 2.9439597288865587,\n",
       " 4.147932533359893,\n",
       " 1.8021764966944265,\n",
       " 2.4949189218228476,\n",
       " 2.934208637408801,\n",
       " 4.136837792230448,\n",
       " 0.9817693946191858,\n",
       " 1.8971651831581018,\n",
       " 3.6539225676100275,\n",
       " 2.9563131099980096,\n",
       " 1.6745118483659298,\n",
       " 3.100480542360683,\n",
       " 2.9563131112679892,\n",
       " 3.3631867764941985,\n",
       " 2.9439597334843897,\n",
       " 2.9342086491705426,\n",
       " 3.2210153490731255,\n",
       " 5.546769072223779,\n",
       " 4.1479325396570665,\n",
       " 4.136837794155122,\n",
       " 5.546769239199609,\n",
       " 6.144731546359016,\n",
       " 1.2036975437621142,\n",
       " 1.2038163702749105,\n",
       " 2.4075139140370245,\n",
       " 1.2038665679230425,\n",
       " 2.407564111685157,\n",
       " 2.490012549385573,\n",
       " 3.6938587202997875,\n",
       " 0.24777651328524253,\n",
       " 1.5390395211926469,\n",
       " 2.9439588479151664,\n",
       " 2.159536254518114,\n",
       " 3.8191618881642713,\n",
       " 3.712408249489533,\n",
       " 3.4691771844281662,\n",
       " 3.9032728556815566,\n",
       " 1.2038163702718412,\n",
       " 2.4075139140339554,\n",
       " 2.4076327405467515,\n",
       " 3.611330284308866,\n",
       " 2.4900125547272727,\n",
       " 3.693858728040801,\n",
       " 4.336375729992753,\n",
       " 5.540348535619571,\n",
       " 2.943958827991921,\n",
       " 2.1595362613834888,\n",
       " 6.0106247506904715,\n",
       " 5.211183120577919,\n",
       " 3.469177201948928,\n",
       " 3.903272844963856,\n",
       " 5.436801530788685,\n",
       " 7.608458400222684,\n",
       " 1.2038665679376617,\n",
       " 0.24777651326123262,\n",
       " 3.8191618882631526,\n",
       " 1.2038163702683882,\n",
       " 2.490012551497122,\n",
       " 2.9439588479134784,\n",
       " 3.562182522676075,\n",
       " 1.2036975437747015,\n",
       " 2.407564111712363,\n",
       " 1.5409128959225225,\n",
       " 3.7124082474879696,\n",
       " 2.40751391404309,\n",
       " 3.6938587224496495,\n",
       " 2.1595362419720345,\n",
       " 3.9032728380681667,\n",
       " 1.2038163702722016,\n",
       " 2.490012563198439,\n",
       " 2.9439588417687195,\n",
       " 3.469177184961132,\n",
       " 2.4076327405405897,\n",
       " 4.336375730068353,\n",
       " 6.010624751802629,\n",
       " 5.436801530788928,\n",
       " 2.407513914046903,\n",
       " 3.6938587419584583,\n",
       " 2.15953626190049,\n",
       " 3.90327285061486,\n",
       " 3.611330284315291,\n",
       " 5.540348535616328,\n",
       " 5.21118316681785,\n",
       " 7.608458403022839,\n",
       " 1.3984487411806816,\n",
       " 0.6927224400852854,\n",
       " 2.091171181265967,\n",
       " 0.2760509472273823,\n",
       " 1.8969225626373405,\n",
       " 0.9687733873126677,\n",
       " 3.100106668615146,\n",
       " 0.6927224400853198,\n",
       " 2.0911711812660014,\n",
       " 1.3854448801706052,\n",
       " 2.783893621351287,\n",
       " 0.9687733873127021,\n",
       " 3.100106668604586,\n",
       " 1.6614958273979874,\n",
       " 4.303290774582392,\n",
       " 0.9818015470050476,\n",
       " 1.5157865944897975,\n",
       " 2.1213133416031393,\n",
       " 2.9563131083547383,\n",
       " 1.2578524942324298,\n",
       " 3.6673911142407944,\n",
       " 2.9849134930655445,\n",
       " 3.918684295154709,\n",
       " 2.121039351705844,\n",
       " 2.9563131084158893,\n",
       " 1.6963722861612824,\n",
       " 5.740258035227372,\n",
       " 2.983822512645249,\n",
       " 3.9186842886986395,\n",
       " 1.948175554393107,\n",
       " 5.708658973305031,\n",
       " 0.24787382209665088,\n",
       " 0.24770854055058,\n",
       " 0.4955823626472309,\n",
       " 1.2038244130187803,\n",
       " 1.451698235115431,\n",
       " 1.8026856089526262,\n",
       " 2.7735452685325197,\n",
       " 1.2038004407202123,\n",
       " 1.5338773510629933,\n",
       " 1.4515089812707922,\n",
       " 1.7812795130456736,\n",
       " 1.8914227635126761,\n",
       " 3.992681322043225,\n",
       " 2.524769489361945,\n",
       " 3.973590489982673,\n",
       " 1.2038004407202123,\n",
       " 1.5338773495847406,\n",
       " 1.4515089812707922,\n",
       " 1.78127951116958,\n",
       " 1.8914772375556705,\n",
       " 3.993424486037024,\n",
       " 2.5304890505826294,\n",
       " 3.9732880483936963,\n",
       " 3.653922261056833,\n",
       " 3.779027230086653,\n",
       " 4.9049202394888995,\n",
       " 4.910713090032073,\n",
       " 3.3161198367581832,\n",
       " 5.6540510878350325,\n",
       " 5.976359238123914,\n",
       " 6.5375908659161155,\n",
       " 1.2039728043258109,\n",
       " 1.2039728043258109,\n",
       " 2.4079456086516218,\n",
       " -0.6860271956738311,\n",
       " 0.4561823787295849,\n",
       " 0.4568253715979558,\n",
       " -1.5126555384094682,\n",
       " -0.6860271956737101,\n",
       " 0.5179456086521008,\n",
       " 0.5179456086521008,\n",
       " 1.7219184129779117,\n",
       " -1.3720543913475411,\n",
       " -0.22984481694447934,\n",
       " -0.22920182407610845,\n",
       " -2.1986827340835324,\n",
       " 1.2039728043258109,\n",
       " 2.4079456086516218,\n",
       " 2.4079456086516218,\n",
       " 3.611918412977433,\n",
       " 0.4568251904859628,\n",
       " -1.512655504804942,\n",
       " -1.5126555243475748,\n",
       " 2.184369389034523,\n",
       " 0.5179456086521008,\n",
       " 1.7219184129779117,\n",
       " 1.7219184129779117,\n",
       " 2.9258912173037226,\n",
       " -0.2292020051881014,\n",
       " -2.198682700479006,\n",
       " -2.198682720021639,\n",
       " 1.4983419248292584,\n",
       " 1.203714311672459,\n",
       " 1.203511842386122,\n",
       " 2.4072261540585806,\n",
       " 1.203738804624511,\n",
       " 1.423177071824203,\n",
       " 2.407250647010633,\n",
       " 2.6270232508541334,\n",
       " 1.2037143116838522,\n",
       " 2.407428623356311,\n",
       " 2.407226154069974,\n",
       " 3.6109404657424333,\n",
       " 1.423177064583102,\n",
       " 2.6697090699001333,\n",
       " 2.6270232385727437,\n",
       " 3.8736818784835307,\n",
       " -0.6852579012867333,\n",
       " 2.2857455864745138,\n",
       " -0.6638753702128097,\n",
       " -1.7924518675945444,\n",
       " 3.819161887712255,\n",
       " 0.10596357070545226,\n",
       " 1.2426580516694705,\n",
       " -1.3844099927070905,\n",
       " 2.2857455478191286,\n",
       " 6.010624750902582,\n",
       " -1.7924518380414236,\n",
       " 1.8334056824451577,\n",
       " 0.04617393548305415,\n",
       " 1.0748967224216508,\n",
       " -1.3844099716293456,\n",
       " 2.87512498616254,\n",
       " 1.203972804303479,\n",
       " -0.6860271956398472,\n",
       " -0.556049867631305,\n",
       " 1.2039728043034787,\n",
       " 2.4079456086069575,\n",
       " -0.5540010675813001,\n",
       " 0.5266852256121735,\n",
       " 0.2589728084611814,\n",
       " 1.4629456127646603,\n",
       " -0.42705438717866573,\n",
       " -0.2970770655618191,\n",
       " 1.4629456127646603,\n",
       " 2.666918417068139,\n",
       " -0.295028263265638,\n",
       " 0.7856580282666958,\n",
       " 0.258972800186984,\n",
       " 1.462945604490463,\n",
       " -0.42705439545286317,\n",
       " -0.29707706104932696,\n",
       " 1.4629456044904627,\n",
       " 2.6669184087939417,\n",
       " -0.2950282632598421,\n",
       " 0.7856580282666958,\n",
       " -0.7957600972057777,\n",
       " 0.4081732398296636,\n",
       " -1.4817317917084354,\n",
       " -1.3406170872230552,\n",
       " 0.4081732398296636,\n",
       " 1.6121065768651048,\n",
       " -1.3406170273997042,\n",
       " -0.2690748889151391,\n",
       " 0.2595878000668934,\n",
       " 1.2031934199677223,\n",
       " 1.3624475220223378,\n",
       " -0.6860271956740642,\n",
       " -0.4264393956071708,\n",
       " 0.5171662242936581,\n",
       " 0.676420326346121,\n",
       " 0.2595878000675489,\n",
       " 3.673393495130418,\n",
       " -0.4053736131951262,\n",
       " -0.16877634134785957,\n",
       " -0.42643939560651534,\n",
       " 2.9873662994563546,\n",
       " -1.09140080887139,\n",
       " -0.8548035370225302,\n",
       " 1.203193419951994,\n",
       " 1.3624188273472448,\n",
       " 2.4063868399197164,\n",
       " 3.4124519753646108,\n",
       " 0.5171662242779298,\n",
       " 0.6763916316709873,\n",
       " 1.7203596442456521,\n",
       " 2.7264247796905465,\n",
       " -0.4664766643342757,\n",
       " -0.26505459317746394,\n",
       " 3.4122090617139977,\n",
       " 1.0748969725891628,\n",
       " -1.1525038600095416,\n",
       " -0.9510817890655994,\n",
       " 2.7261818660399335,\n",
       " 0.3888696215488885,\n",
       " 1.2031168485571242,\n",
       " 1.2034451658047163,\n",
       " 2.4065620143618407,\n",
       " -0.6860271956740642,\n",
       " 0.51708965288306,\n",
       " 0.517417970130652,\n",
       " 1.7205348186877762,\n",
       " -0.6847181664797191,\n",
       " -0.628392906724011,\n",
       " 3.617926626611803,\n",
       " -1.0787111048317504,\n",
       " -1.3707453621537833,\n",
       " -1.3144201178822188,\n",
       " 2.931899430937739,\n",
       " -1.7647383005058146,\n",
       " 1.2034451658047163,\n",
       " 2.4065620143618407,\n",
       " 1.4235187875938922,\n",
       " 2.6274915825926977,\n",
       " 0.517417970130652,\n",
       " 1.7205348186877762,\n",
       " 0.7374915923483158,\n",
       " 1.9414643873471216,\n",
       " 0.39644879075043793,\n",
       " -1.0736588741827164,\n",
       " -0.25048777384137044,\n",
       " 1.1541003322467374,\n",
       " -0.2895784049236261,\n",
       " -1.7596860698567807,\n",
       " -0.9365149708452283,\n",
       " 0.4680731365726727,\n",
       " -0.6847465988522763,\n",
       " 1.2035526761211892,\n",
       " -0.46577298337118167,\n",
       " 1.2035526761211892,\n",
       " -0.46577297932054496,\n",
       " 3.653922259539491,\n",
       " 0.6138644984920472,\n",
       " 1.2034982319017835,\n",
       " 0.5187516330495072,\n",
       " 0.3264835522246554,\n",
       " 1.9465141035186027,\n",
       " 2.3272188875734514,\n",
       " 1.9492676808699223,\n",
       " 0.1396527540346839,\n",
       " 1.4758354928263167,\n",
       " -0.6850510311100897,\n",
       " -1.369797629962366,\n",
       " 0.5185016450110995,\n",
       " -1.15135485385831,\n",
       " 0.5185016450110995,\n",
       " -1.1513548472630355,\n",
       " 4.904920238510748,\n",
       " 1.511149203534325,\n",
       " -0.15681719171720587,\n",
       " 0.5869581300854225,\n",
       " -1.0785635330521728,\n",
       " -0.34877334756295997,\n",
       " -1.078626366309718,\n",
       " 2.739325350778856,\n",
       " 2.6389309698618755,\n",
       " 1.0780111290402932,\n",
       " -0.6847465991655457,\n",
       " 1.203498231997024,\n",
       " 0.5187516328314783,\n",
       " 1.2035526762319129,\n",
       " -0.46577298484089025,\n",
       " 2.327420090994241,\n",
       " 5.462979510853492,\n",
       " -0.6850510313218183,\n",
       " -1.369797630487364,\n",
       " -0.1568173186791757,\n",
       " 0.5869576820506655,\n",
       " 0.5185016449100945,\n",
       " -1.1513548562520814,\n",
       " -1.0751074622557941,\n",
       " 2.7389366615149546,\n",
       " 1.2035526762319129,\n",
       " -0.4657729839427429,\n",
       " 2.327310752509047,\n",
       " 5.468573585253406,\n",
       " 3.653922263217325,\n",
       " 0.7102108343746725,\n",
       " 0.13965275727408777,\n",
       " 1.475835500984516,\n",
       " 0.5185016449100945,\n",
       " -1.15135485478892,\n",
       " -1.0797394630895645,\n",
       " -0.3527009601194653,\n",
       " 4.904920242270677,\n",
       " 1.7713966183012335,\n",
       " 2.6389309665625778,\n",
       " 1.0780111370467784,\n",
       " 0.25955703886761217,\n",
       " 0.25881475964355694,\n",
       " 0.5183717985111691,\n",
       " 1.2031202822951885,\n",
       " 0.24606898280559553,\n",
       " 1.4619350419387453,\n",
       " 1.3796077916899068,\n",
       " 0.25955701526970876,\n",
       " 0.5191140541373209,\n",
       " -0.7953332435586487,\n",
       " -0.1856831708319191,\n",
       " 0.24606897613846113,\n",
       " 1.6469138424108083,\n",
       " 1.0373296575135633,\n",
       " -0.45131965912216576,\n",
       " 0.2588147360435945,\n",
       " -0.7957600293019136,\n",
       " 0.5176294956871514,\n",
       " -0.9911102085818324,\n",
       " 1.461935018338783,\n",
       " 1.0373296604862756,\n",
       " 1.72074977798234,\n",
       " 2.241521981335905,\n",
       " 0.5183717513133033,\n",
       " -0.08246424137012276,\n",
       " -0.8866110096032198,\n",
       " -1.1522761691954986,\n",
       " 1.3796077851039175,\n",
       " -0.4513194825331388,\n",
       " 2.241521980290963,\n",
       " -0.12145302192690366,\n",
       " 0.28617429756550816,\n",
       " 0.2861742975669398,\n",
       " 0.572348595132448,\n",
       " 1.398448737009501,\n",
       " 1.684623034575009,\n",
       " 1.6846230345764406,\n",
       " 1.9707973321419487,\n",
       " 0.5752927957884805,\n",
       " 0.4168101296611244,\n",
       " 0.4168089692513466,\n",
       " -2.784249468283237,\n",
       " -0.5701991447050365,\n",
       " -0.19535163864430904,\n",
       " -0.19535161742046236,\n",
       " 2.587533999210948,\n",
       " -0.5370059548060537,\n",
       " -0.25083165724054557,\n",
       " -0.25083165723911394,\n",
       " 0.035342640326394226,\n",
       " 0.01733770466407636,\n",
       " 1.2199089214493701,\n",
       " 1.2199089214858851,\n",
       " 2.4224801382711787,\n",
       " 0.03828684098242674,\n",
       " 0.9479415916325542,\n",
       " 0.947938650317903,\n",
       " -3.449140800851016,\n",
       " 1.067391191926585,\n",
       " -0.5716543369345934,\n",
       " -0.5716543409953654,\n",
       " 0.40125306094052693,\n",
       " 0.5739728043259354,\n",
       " 0.5739728043259366,\n",
       " 3.5625767109326336,\n",
       " -0.6860272345526217,\n",
       " -0.11205443022668626,\n",
       " -0.11205443022668515,\n",
       " 2.8765495151397453,\n",
       " -0.6860272345526217,\n",
       " -0.11205443022668626,\n",
       " -0.11205443022668515,\n",
       " 2.8765495151393594,\n",
       " -1.3720544691052434,\n",
       " -0.798081664779308,\n",
       " -0.7980816647793069,\n",
       " 2.1905223193464707,\n",
       " 0.5739728043259361,\n",
       " 1.4565221410494071,\n",
       " 1.456522131061908,\n",
       " -0.3822448071438016,\n",
       " -0.1120544302266856,\n",
       " 0.770494947058362,\n",
       " 0.7704949370708629,\n",
       " -1.0682721539108468,\n",
       " -0.1120544302266856,\n",
       " 0.770494947058362,\n",
       " 0.7704949370708629,\n",
       " -1.0682721539108664,\n",
       " -0.7980816647793073,\n",
       " 0.0844677530673168,\n",
       " 0.08446774307981775,\n",
       " -1.7542995006779116,\n",
       " 1.2036122530814255,\n",
       " 1.2033261410368814,\n",
       " 2.406938394118307,\n",
       " 1.2036122530814255,\n",
       " 2.407224506162851,\n",
       " 2.406938394118307,\n",
       " 3.610550647199733,\n",
       " 1.2036110413063545,\n",
       " 0.3563415432762249,\n",
       " 2.4069371823432357,\n",
       " 1.56018771268303,\n",
       " 0.356341540210944,\n",
       " 1.00304240390341,\n",
       " 1.5601877117726233,\n",
       " 2.2070152146549655,\n",
       " -1.6182923158506564,\n",
       " 1.6275323186488542,\n",
       " -2.583958824718122,\n",
       " -5.7444400579420964,\n",
       " 1.6275322995890107,\n",
       " 6.010624754210033,\n",
       " -5.744440041374229,\n",
       " -1.544373127896352,\n",
       " 3.8191618872604502,\n",
       " -3.257189511604097,\n",
       " -1.2270921541602933,\n",
       " -6.672092912592069,\n",
       " -3.25723471281459,\n",
       " -3.287008100900151,\n",
       " -6.67209283807253,\n",
       " -1.8582086262067348,\n",
       " -0.2078719100750237,\n",
       " 1.2026992838916852,\n",
       " 0.9948273738166615,\n",
       " -0.20691899860186336,\n",
       " -0.41479090867688706,\n",
       " -1.4250782022545156,\n",
       " -0.2915393933161925,\n",
       " -0.20783219354471316,\n",
       " -0.41570410361973686,\n",
       " 0.9948670903469721,\n",
       " 0.7869951802719484,\n",
       " -3.061789148205768,\n",
       " -3.792604910597186,\n",
       " -1.57472342196061,\n",
       " -0.37053110050459814,\n",
       " -0.20687928208339357,\n",
       " -3.062426695248505,\n",
       " -1.4250782155542336,\n",
       " -1.5747234187733206,\n",
       " -0.4137982806852569,\n",
       " -2.586680275076626,\n",
       " -0.6755925201636295,\n",
       " -4.8857737079029135,\n",
       " -0.41471147562810673,\n",
       " -3.953560840113825,\n",
       " -0.2915394120994572,\n",
       " -0.37053109829429776,\n",
       " -2.7457237837717052,\n",
       " -5.470441319680033,\n",
       " -4.88577395913952,\n",
       " -5.53279174298973,\n",
       " 1.2030470780394638,\n",
       " -1.6170052664765868,\n",
       " -1.2325394900122801,\n",
       " 1.2030470780470843,\n",
       " 2.406094156086548,\n",
       " 3.615313848350957,\n",
       " 2.0955050712554577,\n",
       " 1.2030470780394638,\n",
       " ...]"
      ]
     },
     "execution_count": 50,
     "metadata": {},
     "output_type": "execute_result"
    }
   ],
   "source": [
    "results"
   ]
  },
  {
   "cell_type": "code",
   "execution_count": 57,
   "metadata": {},
   "outputs": [
    {
     "name": "stdout",
     "output_type": "stream",
     "text": [
      "   Value_Func  Number_Iteration        Coalition  Costs Coalition_as_string\n",
      "0    4.604987                 0  [0, 0, 0, 0, 1]   0.01         [0 0 0 0 1]\n",
      "1    4.008611                 0  [0, 0, 0, 1, 0]   0.01         [0 0 0 1 0]\n"
     ]
    },
    {
     "data": {
      "text/plain": [
       "<matplotlib.axes._subplots.AxesSubplot at 0x1c09cbb0a88>"
      ]
     },
     "execution_count": 57,
     "metadata": {},
     "output_type": "execute_result"
    },
    {
     "data": {
      "image/png": "[encoded data removed]",
      "text/plain": [
       "<Figure size 432x288 with 1 Axes>"
      ]
     },
     "metadata": {
      "needs_background": "light"
     },
     "output_type": "display_data"
    }
   ],
   "source": [
    "data_results_c1=pd.DataFrame(data = results,columns = ['Value_Func'], index = range(len(results)))\n",
    "data_results_c1['Number_Iteration'] = results_comb\n",
    "data_results_c1['Coalition'] = results_comb1\n",
    "data_results_c1['Costs'] = results_prob\n",
    "data_results_c1['Coalition_as_string'] = data_results_c1['Coalition'].astype('str')\n",
    "print(data_results_c1.head(2))\n",
    "\n",
    "data_results_c1[data_results_c1['Coalition_as_string'] == '[1 1 1 0 1]']['Value_Func'].hist()"
   ]
  },
  {
   "cell_type": "code",
   "execution_count": 63,
   "metadata": {},
   "outputs": [
    {
     "data": {
      "text/plain": [
       "<matplotlib.axes._subplots.AxesSubplot at 0x1c0985788c8>"
      ]
     },
     "execution_count": 63,
     "metadata": {},
     "output_type": "execute_result"
    },
    {
     "data": {
      "image/png": "[encoded data removed]",
      "text/plain": [
       "<Figure size 432x288 with 1 Axes>"
      ]
     },
     "metadata": {
      "needs_background": "light"
     },
     "output_type": "display_data"
    }
   ],
   "source": [
    "coalition_c = data_results_c1[data_results_c1['Coalition_as_string'] == '[1 1 1 1 1]']\n",
    "coalition_c.groupby('Costs', as_index=False).agg({'Value_Func':'mean'}).plot(kind='scatter', x = 'Costs', y = 'Value_Func')"
   ]
  }
 ],
 "metadata": {
  "kernelspec": {
   "display_name": "Python 3",
   "language": "python",
   "name": "python3"
  },
  "language_info": {
   "codemirror_mode": {
    "name": "ipython",
    "version": 3
   },
   "file_extension": ".py",
   "mimetype": "text/x-python",
   "name": "python",
   "nbconvert_exporter": "python",
   "pygments_lexer": "ipython3",
   "version": "3.7.6"
  }
 },
 "nbformat": 4,
 "nbformat_minor": 4
}
