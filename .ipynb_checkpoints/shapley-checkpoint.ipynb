{
 "cells": [
  {
   "cell_type": "code",
   "execution_count": 1,
   "metadata": {},
   "outputs": [],
   "source": [
    "import networkx as nx\n",
    "import matplotlib.pyplot as plt\n",
    "import numpy as np\n",
    "import pandas as pd\n",
    "from scipy import optimize as opt\n",
    "from scipy.optimize import Bounds\n",
    "import urllib\n",
    "from sqlalchemy import create_engine\n",
    "import json\n",
    "import csv\n",
    "import itertools "
   ]
  },
  {
   "cell_type": "code",
   "execution_count": 107,
   "metadata": {},
   "outputs": [],
   "source": [
    "def get_sizeVs(V_dict):\n",
    "    V_size = []\n",
    "    for key in V_dict.keys():\n",
    "        temp = sum(c.isdigit() for c in key)\n",
    "#         print('key= ',key,'count = ',temp)\n",
    "        V_size.append(temp)\n",
    "    return V_size"
   ]
  },
  {
   "cell_type": "code",
   "execution_count": 123,
   "metadata": {},
   "outputs": [],
   "source": [
    "def dicts(n,V_dict,l_dict):\n",
    "    a = [i for i in range (1, n+1)]       \n",
    "    for j in range(1,len(a)+1):\n",
    "        for i in itertools.combinations(a,j):\n",
    "            V_dict.update({'V'+str(i):0})\n",
    "            l_dict.update({'l'+str(i):0})\n",
    "    "
   ]
  },
  {
   "cell_type": "code",
   "execution_count": 148,
   "metadata": {},
   "outputs": [],
   "source": [
    "def get_number(str):\n",
    "    str1 = []\n",
    "    str1 = list(str)\n",
    "#     print(str1)\n",
    "    return([int(s) for s in str1 if s.isdigit()])"
   ]
  },
  {
   "cell_type": "code",
   "execution_count": 150,
   "metadata": {},
   "outputs": [],
   "source": [
    "def get_combinations(a):\n",
    "    list_keysV = []\n",
    "#     print(a)\n",
    "    for k in range(1,len(a)+1):\n",
    "        for j in itertools.combinations(a,k):\n",
    "            list_keysV.append('V'+str(j))\n",
    "    return list_keysV"
   ]
  },
  {
   "cell_type": "code",
   "execution_count": 162,
   "metadata": {},
   "outputs": [],
   "source": [
    "def count_ls(l_dict,V_dict):\n",
    "    size_vs = get_sizeVs(V_dict)\n",
    "    k = 0\n",
    "    a = []\n",
    "    for i in l_dict.keys():\n",
    "        tmp = 0\n",
    "        k = k+1\n",
    "#     print(i)\n",
    "        a = get_number(i)\n",
    "        combs = (get_combinations(a))\n",
    "        for j in combs:\n",
    "#         print('sum', tmp, 'j:',j, V_dict.get(j),'len(a)', len(a), 'len(v)',len(get_number(j)),'value',V_dict.get(j) )\n",
    "            tmp+=pow(-1,len(a)-len(get_number(j)))*V_dict.get(j)\n",
    "        l_dict.update({i:tmp})\n",
    "#     print('tmp', tmp)\n",
    "    print(l_dict)      \n",
    "    "
   ]
  },
  {
   "cell_type": "code",
   "execution_count": 184,
   "metadata": {},
   "outputs": [],
   "source": [
    "def shapley(l_dict):\n",
    "    shapl_V = []\n",
    "    for i in range(1,n+1):\n",
    "        shapl_i = 0\n",
    "        tmp = [key for key in l_dict.keys() if str(i) in key]\n",
    "        for key in tmp:\n",
    "            shapl_i+=l_dict.get(key)/len(get_number(key))\n",
    "#             print('value_l= ',l_dict.get(key),'t= ', len(get_number(key)))\n",
    "        shapl_V.append(shapl_i)\n",
    "    return shapl_V\n"
   ]
  },
  {
   "cell_type": "code",
   "execution_count": 185,
   "metadata": {},
   "outputs": [
    {
     "name": "stdout",
     "output_type": "stream",
     "text": [
      "{'V(1,)': 1, 'V(2,)': 0, 'V(3,)': 1, 'V(1, 2)': 4, 'V(1, 3)': 3, 'V(2, 3)': 5, 'V(1, 2, 3)': 8}\n",
      "{'l(1,)': 0, 'l(2,)': 0, 'l(3,)': 0, 'l(1, 2)': 0, 'l(1, 3)': 0, 'l(2, 3)': 0, 'l(1, 2, 3)': 0}\n",
      "{'l(1,)': 1, 'l(2,)': 0, 'l(3,)': 1, 'l(1, 2)': 3, 'l(1, 3)': 1, 'l(2, 3)': 4, 'l(1, 2, 3)': -2}\n"
     ]
    },
    {
     "data": {
      "text/plain": [
       "[2.3333333333333335, 2.8333333333333335, 2.8333333333333335]"
      ]
     },
     "execution_count": 185,
     "metadata": {},
     "output_type": "execute_result"
    }
   ],
   "source": [
    "n=3\n",
    "V_dict={}\n",
    "l_dict={}\n",
    "dicts(n,V_dict,l_dict)\n",
    "# вводим массив V\n",
    "V_dict.update({'V(1,)': 1})\n",
    "V_dict.update({'V(2,)': 0})\n",
    "V_dict.update({'V(3,)': 1})\n",
    "V_dict.update({'V(1, 2)': 4})\n",
    "V_dict.update({'V(1, 3)': 3})\n",
    "V_dict.update({'V(2, 3)': 5})\n",
    "V_dict.update({'V(1, 2, 3)': 8})\n",
    "print(V_dict)\n",
    "print(l_dict)\n",
    "count_ls(l_dict,V_dict)\n",
    "shapley(l_dict)\n"
   ]
  },
  {
   "cell_type": "code",
   "execution_count": 186,
   "metadata": {},
   "outputs": [
    {
     "name": "stdout",
     "output_type": "stream",
     "text": [
      "{'V(1,)': -120, 'V(2,)': -140, 'V(3,)': -120, 'V(1, 2)': -170, 'V(1, 3)': -160, 'V(2, 3)': -190, 'V(1, 2, 3)': -255}\n",
      "{'l(1,)': 0, 'l(2,)': 0, 'l(3,)': 0, 'l(1, 2)': 0, 'l(1, 3)': 0, 'l(2, 3)': 0, 'l(1, 2, 3)': 0}\n",
      "{'l(1,)': -120, 'l(2,)': -140, 'l(3,)': -120, 'l(1, 2)': 90, 'l(1, 3)': 80, 'l(2, 3)': 70, 'l(1, 2, 3)': -115}\n"
     ]
    },
    {
     "data": {
      "text/plain": [
       "[-73.33333333333334, -98.33333333333334, -83.33333333333334]"
      ]
     },
     "execution_count": 186,
     "metadata": {},
     "output_type": "execute_result"
    }
   ],
   "source": [
    "n=3\n",
    "V_dict={}\n",
    "l_dict={}\n",
    "dicts(n,V_dict,l_dict)\n",
    "# вводим массив V\n",
    "V_dict.update({'V(1,)': -120})\n",
    "V_dict.update({'V(2,)': -140})\n",
    "V_dict.update({'V(3,)': -120})\n",
    "V_dict.update({'V(1, 2)': -170})\n",
    "V_dict.update({'V(1, 3)': -160})\n",
    "V_dict.update({'V(2, 3)': -190})\n",
    "V_dict.update({'V(1, 2, 3)': -255})\n",
    "print(V_dict)\n",
    "print(l_dict)\n",
    "count_ls(l_dict,V_dict)\n",
    "shapley(l_dict)"
   ]
  },
  {
   "cell_type": "code",
   "execution_count": null,
   "metadata": {},
   "outputs": [],
   "source": []
  }
 ],
 "metadata": {
  "kernelspec": {
   "display_name": "Python 3",
   "language": "python",
   "name": "python3"
  },
  "language_info": {
   "codemirror_mode": {
    "name": "ipython",
    "version": 3
   },
   "file_extension": ".py",
   "mimetype": "text/x-python",
   "name": "python",
   "nbconvert_exporter": "python",
   "pygments_lexer": "ipython3",
   "version": "3.7.1"
  }
 },
 "nbformat": 4,
 "nbformat_minor": 2
}
