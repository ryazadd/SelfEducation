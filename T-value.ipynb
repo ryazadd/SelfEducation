{
 "cells": [
  {
   "cell_type": "code",
   "execution_count": 1,
   "metadata": {},
   "outputs": [],
   "source": [
    "import networkx as nx\n",
    "import matplotlib.pyplot as plt\n",
    "import numpy as np\n",
    "import pandas as pd\n",
    "from scipy import optimize as opt\n",
    "from scipy.optimize import Bounds\n",
    "import urllib\n",
    "from sqlalchemy import create_engine\n",
    "import json\n",
    "import csv\n",
    "import itertools "
   ]
  },
  {
   "cell_type": "code",
   "execution_count": 2,
   "metadata": {},
   "outputs": [],
   "source": [
    "def get_sizeVs(V_dict):\n",
    "    V_size = []\n",
    "    for key in V_dict.keys():\n",
    "        temp = sum(c.isdigit() for c in key)\n",
    "#         print('key= ',key,'count = ',temp)\n",
    "        V_size.append(temp)\n",
    "    return V_size"
   ]
  },
  {
   "cell_type": "code",
   "execution_count": 3,
   "metadata": {},
   "outputs": [],
   "source": [
    "def dicts(n,V_dict,g_dict):\n",
    "    a = [i for i in range (1, n+1)]       \n",
    "    for j in range(1,len(a)+1):\n",
    "        for i in itertools.combinations(a,j):\n",
    "            V_dict.update({'V'+str(i):0})\n",
    "            g_dict.update({'g'+str(i):0})"
   ]
  },
  {
   "cell_type": "code",
   "execution_count": 4,
   "metadata": {},
   "outputs": [],
   "source": [
    "def get_number(str):\n",
    "    str1 = []\n",
    "    str1 = list(str)\n",
    "#     print(str1)\n",
    "    return([int(s) for s in str1 if s.isdigit()])"
   ]
  },
  {
   "cell_type": "code",
   "execution_count": 5,
   "metadata": {},
   "outputs": [],
   "source": [
    "def get_combinations(a):\n",
    "    list_keysV = []\n",
    "#     print(a)\n",
    "    for k in range(1,len(a)+1):\n",
    "        for j in itertools.combinations(a,k):\n",
    "            list_keysV.append('V'+str(j))\n",
    "    return list_keysV"
   ]
  },
  {
   "cell_type": "code",
   "execution_count": 6,
   "metadata": {},
   "outputs": [],
   "source": [
    "def get_V_N(n):\n",
    "    a = [i for i in range (1, n+1)]       \n",
    "    V_n_str = ('V'+ str(a).replace('[', '(')).replace(']', ')')    \n",
    "    return V_n_str"
   ]
  },
  {
   "cell_type": "code",
   "execution_count": 13,
   "metadata": {},
   "outputs": [],
   "source": [
    "# for n >=3  \n",
    "def find_b(V_dict,V_n_str):\n",
    "    V_N_val = V_dict.get(get_V_N(n))\n",
    "#     print(V_n_str, V_N_val)\n",
    "    b_v = []\n",
    "    for k in range(1, n+1):\n",
    "        a_i = [i for i in range (1, n+1) if i!=k] \n",
    "        V_i_str = ('V'+ str(a_i).replace('[', '(')).replace(']', ')')\n",
    "        b_i =V_N_val- V_dict.get(V_i_str)\n",
    "        b_v.append(b_i)\n",
    "    print('b_v', b_v)\n",
    "    return(b_v)"
   ]
  },
  {
   "cell_type": "code",
   "execution_count": 14,
   "metadata": {},
   "outputs": [],
   "source": [
    "def find_g(V_dict, g_dict):\n",
    "    for key in g_dict.keys():\n",
    "#         print(key)\n",
    "        tmp = 0\n",
    "        for k in get_number(key):\n",
    "            tmp+=b_v[k-1]\n",
    "        g_dict.update({key:tmp-V_dict.get(key.replace('g','V'))})\n",
    "    print('g_dict', g_dict)\n",
    "    return(g_dict)"
   ]
  },
  {
   "cell_type": "code",
   "execution_count": 15,
   "metadata": {},
   "outputs": [],
   "source": [
    "def find_l(V_dict, g_dict):\n",
    "    l = []\n",
    "    keys_i = []\n",
    "    for i in range(1, n+1):\n",
    "        keys_i = []\n",
    "        tmp = [key for key in g_dict.keys() if str(i) in key]\n",
    "        for key in tmp:\n",
    "            keys_i.append(g_dict.get(key))\n",
    "#         print(keys_i)\n",
    "        l.append(min(keys_i))\n",
    "    print('l', l)\n",
    "    return(l)\n",
    "        "
   ]
  },
  {
   "cell_type": "code",
   "execution_count": 16,
   "metadata": {},
   "outputs": [],
   "source": [
    "def find_t_v(b_v, g_v, g_dict, l, V_dict,n):\n",
    "    t_v = []\n",
    "    if g_dict.get(get_V_N(n).replace('V','g'))==V_dict.get(get_V_N(n)):\n",
    "        t_v=b_v\n",
    "    else:\n",
    "        for i in range(1, n+1):\n",
    "            t_i = b_v[i-1]-g_dict.get(get_V_N(n).replace('V','g'))*(1/sum(l))*l[i-1]\n",
    "            t_v.append(t_i)\n",
    "    print('t_v', t_v)\n",
    "    return t_v"
   ]
  },
  {
   "cell_type": "code",
   "execution_count": 18,
   "metadata": {},
   "outputs": [
    {
     "name": "stdout",
     "output_type": "stream",
     "text": [
      "{'V(1,)': 0, 'V(2,)': 0, 'V(3,)': 0, 'V(1, 2)': 7, 'V(1, 3)': 5, 'V(2, 3)': 5, 'V(1, 2, 3)': 9}\n",
      "{'g(1,)': 0, 'g(2,)': 0, 'g(3,)': 0, 'g(1, 2)': 0, 'g(1, 3)': 0, 'g(2, 3)': 0, 'g(1, 2, 3)': 0}\n",
      "b_v [4, 4, 2]\n",
      "g_dict {'g(1,)': 4, 'g(2,)': 4, 'g(3,)': 2, 'g(1, 2)': 1, 'g(1, 3)': 1, 'g(2, 3)': 1, 'g(1, 2, 3)': 1}\n",
      "l [1, 1, 1]\n",
      "t_v [3.6666666666666665, 3.6666666666666665, 1.6666666666666667]\n"
     ]
    }
   ],
   "source": [
    "n=3\n",
    "V_dict={}\n",
    "g_dict={}\n",
    "dicts(n,V_dict,g_dict)\n",
    "# вводим массив V\n",
    "\n",
    "V_dict.update({'V(1,)': 0})\n",
    "V_dict.update({'V(2,)': 0})\n",
    "V_dict.update({'V(3,)': 0})\n",
    "V_dict.update({'V(1, 2)': 7})\n",
    "V_dict.update({'V(1, 3)': 5})\n",
    "V_dict.update({'V(2, 3)': 5})\n",
    "V_dict.update({'V(1, 2, 3)': 9})\n",
    "print(V_dict)\n",
    "print(g_dict)\n",
    "V_n_str=get_V_N(n)\n",
    "b_v = find_b(V_dict,V_n_str)\n",
    "g_v = find_g(V_dict, g_dict)\n",
    "l = find_l(V_dict, g_dict)\n",
    "t_v = find_t_v(b_v, g_v, g_dict, l, V_dict,n)"
   ]
  },
  {
   "cell_type": "code",
   "execution_count": 20,
   "metadata": {},
   "outputs": [
    {
     "name": "stdout",
     "output_type": "stream",
     "text": [
      "{'V(5,)': 3.6151701849020244, 'V(4,)': 3.6151701849020244, 'V(4, 5)': 7.230340369351271, 'V(3,)': 3.6151701849020244, 'V(3, 5)': 7.230340369351271, 'V(3, 4)': 7.230340369351271, 'V(3, 4, 5)': 10.845510557584532, 'V(2,)': 3.6151701849020244, 'V(2, 5)': 7.230340369351271, 'V(2, 4)': 7.230340369351271, 'V(2, 4, 5)': 10.845510557584532, 'V(2, 3)': 8.606634730512166, 'V(2, 3, 5)': 12.221804918048544, 'V(2, 3, 4)': 12.221804918048544, 'V(2, 3, 4, 5)': 15.8369751035323, 'V(1,)': 3.6151701849020244, 'V(1, 5)': 8.606634730512166, 'V(1, 4)': 8.606634730512166, 'V(1, 4, 5)': 14.121347421030581, 'V(1, 3)': 8.606634730512166, 'V(1, 3, 5)': 14.121347421030581, 'V(1, 3, 4)': 14.121347421030581, 'V(1, 3, 4, 5)': 19.97585818511978, 'V(1, 2)': 8.606634730512166, 'V(1, 2, 5)': 14.121347421030581, 'V(1, 2, 4)': 14.121347421030581, 'V(1, 2, 4, 5)': 19.97585818511978, 'V(1, 2, 3)': 14.121347423536783, 'V(1, 2, 3, 5)': 19.975858188399748, 'V(1, 2, 3, 4)': 19.97585818843143, 'V(1, 2, 3, 4, 5)': 26.083040488036048}\n",
      "{'g(1,)': 0, 'g(2,)': 0, 'g(3,)': 0, 'g(4,)': 0, 'g(5,)': 0, 'g(1, 2)': 0, 'g(1, 3)': 0, 'g(1, 4)': 0, 'g(1, 5)': 0, 'g(2, 3)': 0, 'g(2, 4)': 0, 'g(2, 5)': 0, 'g(3, 4)': 0, 'g(3, 5)': 0, 'g(4, 5)': 0, 'g(1, 2, 3)': 0, 'g(1, 2, 4)': 0, 'g(1, 2, 5)': 0, 'g(1, 3, 4)': 0, 'g(1, 3, 5)': 0, 'g(1, 4, 5)': 0, 'g(2, 3, 4)': 0, 'g(2, 3, 5)': 0, 'g(2, 4, 5)': 0, 'g(3, 4, 5)': 0, 'g(1, 2, 3, 4)': 0, 'g(1, 2, 3, 5)': 0, 'g(1, 2, 4, 5)': 0, 'g(1, 3, 4, 5)': 0, 'g(2, 3, 4, 5)': 0, 'g(1, 2, 3, 4, 5)': 0}\n",
      "b_v [10.246065384503748, 6.107182302916268, 6.107182302916268, 6.1071822996363, 6.107182299604617]\n",
      "g_dict {'g(1,)': 6.630895199601723, 'g(2,)': 2.4920121180142436, 'g(3,)': 2.4920121180142436, 'g(4,)': 2.4920121147342753, 'g(5,)': 2.492012114702592, 'g(1, 2)': 7.74661295690785, 'g(1, 3)': 7.74661295690785, 'g(1, 4)': 7.746612953627881, 'g(1, 5)': 7.746612953596198, 'g(2, 3)': 3.60772987532037, 'g(2, 4)': 4.984024233201296, 'g(2, 5)': 4.984024233169613, 'g(3, 4)': 4.984024233201296, 'g(3, 5)': 4.984024233169613, 'g(4, 5)': 4.984024229889645, 'g(1, 2, 3)': 8.339082566799501, 'g(1, 2, 4)': 8.339082566025734, 'g(1, 2, 5)': 8.339082565994051, 'g(1, 3, 4)': 8.339082566025734, 'g(1, 3, 5)': 8.339082565994051, 'g(1, 4, 5)': 8.339082562714083, 'g(2, 3, 4)': 6.099741987420291, 'g(2, 3, 5)': 6.099741987388608, 'g(2, 4, 5)': 7.476036344572652, 'g(3, 4, 5)': 7.476036344572652, 'g(1, 2, 3, 4)': 8.591754101541152, 'g(1, 2, 3, 5)': 8.591754101541152, 'g(1, 2, 4, 5)': 8.591754101541152, 'g(1, 3, 4, 5)': 8.591754101541152, 'g(2, 3, 4, 5)': 8.591754101541152, 'g(1, 2, 3, 4, 5)': 8.591754101541156}\n",
      "l [6.630895199601723, 2.4920121180142436, 2.4920121180142436, 2.4920121147342753, 2.492012114702592]\n",
      "t_v [6.813857758667611, 4.8172956831370435, 4.8172956831370435, 4.817295681554815, 4.817295681539531]\n"
     ]
    }
   ],
   "source": [
    "n=5\n",
    "V_dict={}\n",
    "g_dict={}\n",
    "dicts(n,V_dict,g_dict)\n",
    "# вводим массив V\n",
    "with open('file.txt', 'r') as fp:\n",
    "    V_dict = json.load(fp)\n",
    "print(V_dict)\n",
    "print(g_dict)\n",
    "V_n_str=get_V_N(n)\n",
    "b_v = find_b(V_dict,V_n_str)\n",
    "g_v = find_g(V_dict, g_dict)\n",
    "l = find_l(V_dict, g_dict)\n",
    "t_v = find_t_v(b_v, g_v, g_dict, l, V_dict,n)"
   ]
  }
 ],
 "metadata": {
  "kernelspec": {
   "display_name": "Python 3",
   "language": "python",
   "name": "python3"
  },
  "language_info": {
   "codemirror_mode": {
    "name": "ipython",
    "version": 3
   },
   "file_extension": ".py",
   "mimetype": "text/x-python",
   "name": "python",
   "nbconvert_exporter": "python",
   "pygments_lexer": "ipython3",
   "version": "3.7.1"
  }
 },
 "nbformat": 4,
 "nbformat_minor": 2
}
