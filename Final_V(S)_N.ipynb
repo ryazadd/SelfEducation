{
 "cells": [
  {
   "cell_type": "code",
   "execution_count": 1,
   "metadata": {},
   "outputs": [],
   "source": [
    "import networkx as nx\n",
    "import matplotlib.pyplot as plt\n",
    "import numpy as np\n",
    "import pandas as pd\n",
    "from scipy import optimize as opt\n",
    "from scipy.optimize import Bounds\n",
    "import urllib\n",
    "from sqlalchemy import create_engine\n",
    "import json\n",
    "import csv\n",
    "import sympy as sm\n",
    "from sympy import log\n",
    "import cvxpy"
   ]
  },
  {
   "cell_type": "code",
   "execution_count": 2,
   "metadata": {},
   "outputs": [],
   "source": [
    "def draw_graph(graph):\n",
    "\n",
    "    # extract nodes from graph\n",
    "    nodes = set([n1 for n1, n2 in graph] + [n2 for n1, n2 in graph])\n",
    "    G=nx.Graph()\n",
    "    for node in nodes:\n",
    "        G.add_node(node)\n",
    "    for edge in graph:\n",
    "        G.add_edge(edge[0], edge[1])\n",
    "    pos = nx.shell_layout(G)\n",
    "    nx.draw(G, pos, with_labels=True)\n",
    "    plt.show()"
   ]
  },
  {
   "cell_type": "code",
   "execution_count": 3,
   "metadata": {},
   "outputs": [],
   "source": [
    "def func_graph(n, p):\n",
    "    vector_c = []\n",
    "    graph = nx.gnp_random_graph(n, p)\n",
    "    A = nx.to_numpy_array(graph, dtype='int32')\n",
    "    A = A+np.eye(n,dtype='int32')\n",
    "#     nx.draw(graph, pos=nx.spring_layout(graph), node_color='g', with_labels=True)\n",
    "#     plt.draw()\n",
    "#     plt.show()\n",
    "    return A"
   ]
  },
  {
   "cell_type": "code",
   "execution_count": 4,
   "metadata": {},
   "outputs": [],
   "source": [
    "def func_comb(n):\n",
    "    list_combinations,tmp = [],[]\n",
    "    for i in range(1, pow(2, n)):\n",
    "        tmp.append(bin(i)[2:].zfill(n))\n",
    "        list_combinations.append([int(i) for i in bin(i)[2:].zfill(n)])\n",
    "    list_combinations=np.array(list_combinations)\n",
    "    return list_combinations"
   ]
  },
  {
   "cell_type": "code",
   "execution_count": 5,
   "metadata": {},
   "outputs": [],
   "source": [
    "def equations(x,comb):\n",
    "    n = len(comb)\n",
    "    c = 0.01\n",
    "    f = [0 for i in range(0,n)]\n",
    "    for l, x_l in enumerate(comb):\n",
    "        if(x_l==1):\n",
    "#                 для каждого игрока из S берем вектор его сосдей из А, для построения (e1+e0+...+1)\n",
    "            for i, x_i in enumerate(A[l]*comb.T):\n",
    "                if (x_i==1):\n",
    "                    f[l]+=1/(sum(A[i]*x.T)+1)\n",
    "            f[l]=f[l]-c\n",
    "        else:\n",
    "            f[l]=1/(sum(A[l]*x.T)+1)-c\n",
    "    return f"
   ]
  },
  {
   "cell_type": "code",
   "execution_count": 6,
   "metadata": {},
   "outputs": [],
   "source": [
    "def equations_log(comb,x):\n",
    "    n = len(comb)\n",
    "    c = 0.01\n",
    "    f = [0 for i in range(0,n)]\n",
    "    for l, x_l in enumerate(comb):\n",
    "        if(x_l==1):\n",
    "            f[l]=np.log(sum(A[l]*x.T)+1)-c*x[l]\n",
    "\n",
    "    return sum(f)"
   ]
  },
  {
   "cell_type": "code",
   "execution_count": 69,
   "metadata": {},
   "outputs": [],
   "source": [
    "n = 5\n",
    "x0 = np.array(np.zeros(n,))\n",
    "tmp = []\n",
    "list_combinations = func_comb(n)\n",
    "results = []\n",
    "list_res = []\n",
    "results_comb = []\n",
    "results_comb1 = []\n",
    "results_prob = []\n",
    "step = 0.01\n",
    "bounds = (np.zeros(n,),[np.inf for i in range(0,n)])\n",
    "for p in np.arange(0.5,1.0,step):\n",
    "    for k in range(0,200):\n",
    "        A = func_graph(n, p)\n",
    "        for comb in list_combinations:\n",
    "            res = opt.least_squares(lambda x: equations(x,comb), [1 for i in range(0,n)], bounds= bounds)       \n",
    "            results.append(equations_log(comb,res.x))\n",
    "            results_comb1.append(comb)\n",
    "            results_comb.append(k)\n",
    "            results_prob.append(p)\n",
    "            "
   ]
  },
  {
   "cell_type": "code",
   "execution_count": 70,
   "metadata": {},
   "outputs": [
    {
     "name": "stdout",
     "output_type": "stream",
     "text": [
      "   Value_Func  Number_Iteration        Coalition  Prob Coalition_as_string\n",
      "0    4.497414                 0  [0, 0, 0, 0, 1]   0.5         [0 0 0 0 1]\n",
      "1    4.053462                 0  [0, 0, 0, 1, 0]   0.5         [0 0 0 1 0]\n"
     ]
    },
    {
     "data": {
      "text/plain": [
       "<matplotlib.axes._subplots.AxesSubplot at 0x1f6586048c8>"
      ]
     },
     "execution_count": 70,
     "metadata": {},
     "output_type": "execute_result"
    },
    {
     "data": {
      "image/png": "[encoded data removed]",
      "text/plain": [
       "<Figure size 432x288 with 1 Axes>"
      ]
     },
     "metadata": {
      "needs_background": "light"
     },
     "output_type": "display_data"
    }
   ],
   "source": [
    "data_results=pd.DataFrame(data = results,columns = ['Value_Func'], index = range(200*50*len(list_combinations)))\n",
    "data_results['Number_Iteration'] = results_comb\n",
    "data_results['Coalition'] = results_comb1\n",
    "data_results['Prob'] = results_prob\n",
    "data_results['Coalition_as_string'] = data_results['Coalition'].astype('str')\n",
    "print(data_results.head(2))\n",
    "\n",
    "data_results[data_results['Coalition_as_string'] == '[1 1 1 1 1]']['Value_Func'].hist()"
   ]
  },
  {
   "cell_type": "code",
   "execution_count": 62,
   "metadata": {},
   "outputs": [
    {
     "data": {
      "text/html": [
       "<div>\n",
       "<style scoped>\n",
       "    .dataframe tbody tr th:only-of-type {\n",
       "        vertical-align: middle;\n",
       "    }\n",
       "\n",
       "    .dataframe tbody tr th {\n",
       "        vertical-align: top;\n",
       "    }\n",
       "\n",
       "    .dataframe thead th {\n",
       "        text-align: right;\n",
       "    }\n",
       "</style>\n",
       "<table border=\"1\" class=\"dataframe\">\n",
       "  <thead>\n",
       "    <tr style=\"text-align: right;\">\n",
       "      <th></th>\n",
       "      <th>Value_Func</th>\n",
       "      <th>Number_Iteration</th>\n",
       "      <th>Prob</th>\n",
       "    </tr>\n",
       "  </thead>\n",
       "  <tbody>\n",
       "    <tr>\n",
       "      <th>count</th>\n",
       "      <td>31000.000000</td>\n",
       "      <td>31000.000000</td>\n",
       "      <td>31000.000000</td>\n",
       "    </tr>\n",
       "    <tr>\n",
       "      <th>mean</th>\n",
       "      <td>12.273098</td>\n",
       "      <td>99.500000</td>\n",
       "      <td>0.700000</td>\n",
       "    </tr>\n",
       "    <tr>\n",
       "      <th>std</th>\n",
       "      <td>5.443481</td>\n",
       "      <td>57.735236</td>\n",
       "      <td>0.141424</td>\n",
       "    </tr>\n",
       "    <tr>\n",
       "      <th>min</th>\n",
       "      <td>3.609498</td>\n",
       "      <td>0.000000</td>\n",
       "      <td>0.500000</td>\n",
       "    </tr>\n",
       "    <tr>\n",
       "      <th>25%</th>\n",
       "      <td>8.803495</td>\n",
       "      <td>49.750000</td>\n",
       "      <td>0.600000</td>\n",
       "    </tr>\n",
       "    <tr>\n",
       "      <th>50%</th>\n",
       "      <td>12.444869</td>\n",
       "      <td>99.500000</td>\n",
       "      <td>0.700000</td>\n",
       "    </tr>\n",
       "    <tr>\n",
       "      <th>75%</th>\n",
       "      <td>14.998304</td>\n",
       "      <td>149.250000</td>\n",
       "      <td>0.800000</td>\n",
       "    </tr>\n",
       "    <tr>\n",
       "      <th>max</th>\n",
       "      <td>26.083040</td>\n",
       "      <td>199.000000</td>\n",
       "      <td>0.900000</td>\n",
       "    </tr>\n",
       "  </tbody>\n",
       "</table>\n",
       "</div>"
      ],
      "text/plain": [
       "         Value_Func  Number_Iteration          Prob\n",
       "count  31000.000000      31000.000000  31000.000000\n",
       "mean      12.273098         99.500000      0.700000\n",
       "std        5.443481         57.735236      0.141424\n",
       "min        3.609498          0.000000      0.500000\n",
       "25%        8.803495         49.750000      0.600000\n",
       "50%       12.444869         99.500000      0.700000\n",
       "75%       14.998304        149.250000      0.800000\n",
       "max       26.083040        199.000000      0.900000"
      ]
     },
     "execution_count": 62,
     "metadata": {},
     "output_type": "execute_result"
    }
   ],
   "source": [
    "data_results.describe()"
   ]
  },
  {
   "cell_type": "code",
   "execution_count": 75,
   "metadata": {},
   "outputs": [
    {
     "data": {
      "text/plain": [
       "<matplotlib.axes._subplots.AxesSubplot at 0x1f650da6ec8>"
      ]
     },
     "execution_count": 75,
     "metadata": {},
     "output_type": "execute_result"
    },
    {
     "data": {
      "image/png": "[encoded data removed]",
      "text/plain": [
       "<Figure size 432x288 with 1 Axes>"
      ]
     },
     "metadata": {
      "needs_background": "light"
     },
     "output_type": "display_data"
    }
   ],
   "source": [
    "coalition = data_results.loc[data_results['Coalition_as_string'] == '[1 1 1 0 1]' ]\n",
    "coalition.groupby('Prob', as_index=False).agg({'Value_Func':'mean'}).plot(kind='scatter', x = 'Prob', y = 'Value_Func')"
   ]
  },
  {
   "cell_type": "code",
   "execution_count": 73,
   "metadata": {},
   "outputs": [],
   "source": [
    "def func2(comb,x):\n",
    "    rez = 0\n",
    "    for i, x_i in enumerate(comb):\n",
    "        if x_i == 1:\n",
    "            rez+=np.log(A[i].dot(comb.T*x.T)+1)-x_i*0.01*x[i]                           \n",
    "    return -rez"
   ]
  },
  {
   "cell_type": "code",
   "execution_count": 177,
   "metadata": {},
   "outputs": [],
   "source": [
    "def func_sqrt(comb,x):\n",
    "    rez = 0\n",
    "    for i, x_i in enumerate(comb):\n",
    "        if x_i == 1:\n",
    "            rez+=pow(A[i].dot(comb.T*x.T),0.5)-x_i*0.01*x[i]                           \n",
    "    return -rez"
   ]
  },
  {
   "cell_type": "code",
   "execution_count": 79,
   "metadata": {},
   "outputs": [],
   "source": [
    "n = 5\n",
    "x0 = np.array(np.zeros(n,))\n",
    "tmp = []\n",
    "list_combinations = func_comb(n)\n",
    "results_mm = []\n",
    "list_res = []\n",
    "results_comb_mm = []\n",
    "results_comb1_mm = []\n",
    "results_prob_mm =[]\n",
    "bounds = Bounds(np.zeros(n,),[np.inf for i in range(0,n)])\n",
    "step =0.01\n",
    "for p in np.arange(0.5,1.0,step):\n",
    "    for k in range(0,10):\n",
    "        A = func_graph(n, p)\n",
    "        for comb in list_combinations:\n",
    "            res = opt.minimize(lambda x: func2(comb,x), x0, method='TNC', bounds = bounds)\n",
    "            results_mm.append(-func2(comb,res.x))\n",
    "            results_comb1_mm.append(comb)\n",
    "            results_comb_mm.append(k)\n",
    "            results_prob_mm.append(p)\n"
   ]
  },
  {
   "cell_type": "code",
   "execution_count": 80,
   "metadata": {},
   "outputs": [
    {
     "name": "stdout",
     "output_type": "stream",
     "text": [
      "   Value_Func  Number_Iteration        Coalition  Prob Coalition_as_string\n",
      "0     3.61517                 0  [0, 0, 0, 0, 1]   0.5         [0 0 0 0 1]\n",
      "1     3.61517                 0  [0, 0, 0, 1, 0]   0.5         [0 0 0 1 0]\n"
     ]
    },
    {
     "data": {
      "text/plain": [
       "<matplotlib.axes._subplots.AxesSubplot at 0x1f64e8e4c48>"
      ]
     },
     "execution_count": 80,
     "metadata": {},
     "output_type": "execute_result"
    },
    {
     "data": {
      "image/png": "[encoded data removed]",
      "text/plain": [
       "<Figure size 432x288 with 1 Axes>"
      ]
     },
     "metadata": {
      "needs_background": "light"
     },
     "output_type": "display_data"
    }
   ],
   "source": [
    "data_results_mm=pd.DataFrame(data = results_mm,columns = ['Value_Func'], index = range(10*50*len(list_combinations)))\n",
    "data_results_mm['Number_Iteration'] = results_comb_mm\n",
    "data_results_mm['Coalition'] = results_comb1_mm\n",
    "data_results_mm['Prob'] = results_prob_mm\n",
    "data_results_mm['Coalition_as_string'] = data_results_mm['Coalition'].astype('str')\n",
    "print(data_results_mm.head(2))\n",
    "\n",
    "data_results_mm[data_results_mm['Coalition_as_string'] == '[1 1 1 1 1]']['Value_Func'].hist()"
   ]
  },
  {
   "cell_type": "code",
   "execution_count": 83,
   "metadata": {},
   "outputs": [
    {
     "data": {
      "text/plain": [
       "<matplotlib.axes._subplots.AxesSubplot at 0x1f64e8ab088>"
      ]
     },
     "execution_count": 83,
     "metadata": {},
     "output_type": "execute_result"
    },
    {
     "data": {
      "image/png": "[encoded data removed]",
      "text/plain": [
       "<Figure size 432x288 with 1 Axes>"
      ]
     },
     "metadata": {
      "needs_background": "light"
     },
     "output_type": "display_data"
    }
   ],
   "source": [
    "coalition_mm = data_results_mm.loc[data_results['Coalition_as_string'] == '[1 1 1 0 1]' ]\n",
    "coalition_mm.groupby('Prob', as_index=False).agg({'Value_Func':'mean'}).plot(kind='scatter', x = 'Prob', y = 'Value_Func')"
   ]
  },
  {
   "cell_type": "markdown",
   "metadata": {},
   "source": [
    "рассмотрим одну коалицию\n"
   ]
  },
  {
   "cell_type": "code",
   "execution_count": 99,
   "metadata": {},
   "outputs": [],
   "source": [
    "n = 5\n",
    "x0 = np.array(np.zeros(n,))\n",
    "tmp = []\n",
    "list_combinations = func_comb(n)\n",
    "results_mm = []\n",
    "list_res = []\n",
    "results_comb_mm = []\n",
    "results_comb1_mm = []\n",
    "results_prob_mm =[]\n",
    "bounds = Bounds(np.zeros(n,),[np.inf for i in range(0,n)])\n",
    "step = 0.001\n",
    "comb = np.array([1, 1, 1, 0, 1])\n",
    "for p in np.arange(0.5,1.0,step):\n",
    "    for k in range(0,1000):\n",
    "        A = func_graph(n, p)\n",
    "#         for comb in list_combinations:\n",
    "        res = opt.minimize(lambda x: func2(comb,x), x0, method='TNC', bounds = bounds)\n",
    "        results_mm.append(-func2(comb,res.x))\n",
    "        results_comb1_mm.append(comb)\n",
    "        results_comb_mm.append(k)\n",
    "        results_prob_mm.append(p)\n"
   ]
  },
  {
   "cell_type": "code",
   "execution_count": 184,
   "metadata": {},
   "outputs": [],
   "source": [
    "n = 5\n",
    "x0 = np.array(np.zeros(n,))\n",
    "tmp = []\n",
    "list_combinations = func_comb(n)\n",
    "results_mm1 = []\n",
    "list_res = []\n",
    "results_comb_mm1 = []\n",
    "results_comb1_mm1 = []\n",
    "results_prob_mm1 =[]\n",
    "bounds = Bounds(np.zeros(n,),[np.inf for i in range(0,n)])\n",
    "step =0.01\n",
    "for p in np.arange(0.01,1.0,step):\n",
    "    for k in range(0,10):\n",
    "        A = func_graph(n, p)\n",
    "        for comb in list_combinations:\n",
    "            res = opt.minimize(lambda x: func_sqrt(comb,x), x0, method='TNC', bounds = bounds)\n",
    "            results_mm1.append(-func_sqrt(comb,res.x))\n",
    "            results_comb1_mm1.append(comb)\n",
    "            results_comb_mm1.append(k)\n",
    "            results_prob_mm1.append(p)"
   ]
  },
  {
   "cell_type": "code",
   "execution_count": 183,
   "metadata": {},
   "outputs": [
    {
     "data": {
      "text/plain": [
       "     fun: -624.9998402669286\n",
       "     jac: array([0., 0., 0., 0., 0.])\n",
       " message: 'Local minimum reached (|pg| ~= 0)'\n",
       "    nfev: 55\n",
       "     nit: 10\n",
       "  status: 0\n",
       " success: True\n",
       "       x: array([12477.06410991, 12477.06410991, 12477.0639949 , 12502.41933006,\n",
       "       12503.21165373])"
      ]
     },
     "execution_count": 183,
     "metadata": {},
     "output_type": "execute_result"
    }
   ],
   "source": [
    "res"
   ]
  },
  {
   "cell_type": "code",
   "execution_count": 185,
   "metadata": {},
   "outputs": [
    {
     "name": "stdout",
     "output_type": "stream",
     "text": [
      "   Value_Func  Number_Iteration        Coalition  Prob Coalition_as_string\n",
      "0        25.0                 0  [0, 0, 0, 0, 1]  0.01         [0 0 0 0 1]\n",
      "1        25.0                 0  [0, 0, 0, 1, 0]  0.01         [0 0 0 1 0]\n"
     ]
    },
    {
     "data": {
      "text/plain": [
       "<matplotlib.axes._subplots.AxesSubplot at 0x1f65351f188>"
      ]
     },
     "execution_count": 185,
     "metadata": {},
     "output_type": "execute_result"
    },
    {
     "data": {
      "image/png": "[encoded data removed]",
      "text/plain": [
       "<Figure size 432x288 with 1 Axes>"
      ]
     },
     "metadata": {
      "needs_background": "light"
     },
     "output_type": "display_data"
    }
   ],
   "source": [
    "data_results_mm1=pd.DataFrame(data = results_mm1,columns = ['Value_Func'], index = range(len(results_mm1)))\n",
    "data_results_mm1['Number_Iteration'] = results_comb_mm1\n",
    "data_results_mm1['Coalition'] = results_comb1_mm1\n",
    "data_results_mm1['Prob'] = results_prob_mm1\n",
    "data_results_mm1['Coalition_as_string'] = data_results_mm1['Coalition'].astype('str')\n",
    "print(data_results_mm1.head(2))\n",
    "\n",
    "data_results_mm1[data_results_mm1['Coalition_as_string'] == '[1 1 1 0 1]']['Value_Func'].hist()"
   ]
  },
  {
   "cell_type": "code",
   "execution_count": 189,
   "metadata": {},
   "outputs": [
    {
     "data": {
      "text/plain": [
       "<matplotlib.axes._subplots.AxesSubplot at 0x1f6553316c8>"
      ]
     },
     "execution_count": 189,
     "metadata": {},
     "output_type": "execute_result"
    },
    {
     "data": {
      "image/png": "[encoded data removed]",
      "text/plain": [
       "<Figure size 432x288 with 1 Axes>"
      ]
     },
     "metadata": {
      "needs_background": "light"
     },
     "output_type": "display_data"
    }
   ],
   "source": [
    "coalition_mm = data_results_mm1[data_results_mm1['Coalition_as_string'] == '[1 1 0 1 1]']\n",
    "coalition_mm.groupby('Prob', as_index=False).agg({'Value_Func':'mean'}).plot(kind='scatter', x = 'Prob', y = 'Value_Func')"
   ]
  },
  {
   "cell_type": "code",
   "execution_count": 168,
   "metadata": {},
   "outputs": [
    {
     "name": "stdout",
     "output_type": "stream",
     "text": [
      "p2=  0.0 p1 =  0.0\n",
      "p2=  0.2 p1 =  0.0\n",
      "p2=  0.38856180831641274 p1 =  0.011438191683587312\n",
      "p2=  0.5645751311064591 p1 =  0.035424868893540906\n",
      "p2=  0.7265986323710905 p1 =  0.07340136762890964\n",
      "p2=  0.8726779962499649 p1 =  0.12732200375003505\n",
      "p2=  1.0 p1 =  0.19999999999999996\n",
      "p2=  1.104145188432738 p1 =  0.29585481156726195\n",
      "p2=  1.1771236166328254 p1 =  0.42287638336717465\n",
      "p2=  1.2 p1 =  0.6000000000000001\n"
     ]
    }
   ],
   "source": [
    "M=10\n",
    "for m in range(0,M):\n",
    "    p2 = m/M+(m*pow(M-m,0.5))/(M*pow(M-1,0.5))\n",
    "    p1 = m/M-(m*pow(M-m,0.5))/(M*pow(M-1,0.5))\n",
    "    print('p2= ' , p2, 'p1 = ', p1)"
   ]
  },
  {
   "cell_type": "code",
   "execution_count": 100,
   "metadata": {},
   "outputs": [
    {
     "name": "stdout",
     "output_type": "stream",
     "text": [
      "   Value_Func  Number_Iteration        Coalition  Prob Coalition_as_string\n",
      "0   15.836975                 0  [1, 1, 1, 0, 1]   0.5         [1 1 1 0 1]\n",
      "1   18.594561                 1  [1, 1, 1, 0, 1]   0.5         [1 1 1 0 1]\n"
     ]
    },
    {
     "data": {
      "text/plain": [
       "<matplotlib.axes._subplots.AxesSubplot at 0x1f65c5f6e48>"
      ]
     },
     "execution_count": 100,
     "metadata": {},
     "output_type": "execute_result"
    },
    {
     "data": {
      "image/png": "[encoded data removed]",
      "text/plain": [
       "<Figure size 432x288 with 1 Axes>"
      ]
     },
     "metadata": {
      "needs_background": "light"
     },
     "output_type": "display_data"
    }
   ],
   "source": [
    "data_results_mm=pd.DataFrame(data = results_mm,columns = ['Value_Func'], index = range(1000*500))\n",
    "data_results_mm['Number_Iteration'] = results_comb_mm\n",
    "data_results_mm['Coalition'] = results_comb1_mm\n",
    "data_results_mm['Prob'] = results_prob_mm\n",
    "data_results_mm['Coalition_as_string'] = data_results_mm['Coalition'].astype('str')\n",
    "print(data_results_mm.head(2))\n",
    "\n",
    "data_results_mm[data_results_mm['Coalition_as_string'] == '[1 1 1 0 1]']['Value_Func'].hist()"
   ]
  },
  {
   "cell_type": "code",
   "execution_count": 103,
   "metadata": {},
   "outputs": [
    {
     "data": {
      "text/plain": [
       "<matplotlib.axes._subplots.AxesSubplot at 0x1f6510e9608>"
      ]
     },
     "execution_count": 103,
     "metadata": {},
     "output_type": "execute_result"
    },
    {
     "data": {
      "image/png": "[encoded data removed]",
      "text/plain": [
       "<Figure size 432x288 with 1 Axes>"
      ]
     },
     "metadata": {
      "needs_background": "light"
     },
     "output_type": "display_data"
    }
   ],
   "source": [
    "coalition_mm = data_results_mm\n",
    "coalition_mm.groupby('Prob', as_index=False).agg({'Value_Func':'mean'}).plot(kind='scatter', x = 'Prob', y = 'Value_Func')"
   ]
  },
  {
   "cell_type": "markdown",
   "metadata": {},
   "source": [
    "maxmin"
   ]
  },
  {
   "cell_type": "code",
   "execution_count": 104,
   "metadata": {},
   "outputs": [],
   "source": [
    "n = 5\n",
    "x0 = np.array(np.zeros(n,))\n",
    "tmp = []\n",
    "list_combinations = func_comb(n)\n",
    "results = []\n",
    "list_res = []\n",
    "results_comb = []\n",
    "results_comb1 = []\n",
    "results_prob = []\n",
    "step = 0.001\n",
    "bounds = (np.zeros(n,),[np.inf for i in range(0,n)])\n",
    "comb = np.array([1, 1, 1, 0, 1])\n",
    "for p in np.arange(0.5,1.0,step):\n",
    "    for k in range(0,1000):\n",
    "        A = func_graph(n, p)\n",
    "        res = opt.least_squares(lambda x: equations(x,comb), [1 for i in range(0,n)], bounds= bounds)       \n",
    "        results.append(equations_log(comb,res.x))\n",
    "        results_comb1.append(comb)\n",
    "        results_comb.append(k)\n",
    "        results_prob.append(p)\n",
    "            "
   ]
  },
  {
   "cell_type": "code",
   "execution_count": 106,
   "metadata": {},
   "outputs": [
    {
     "name": "stdout",
     "output_type": "stream",
     "text": [
      "   Value_Func  Number_Iteration        Coalition  Prob Coalition_as_string\n",
      "0   18.240592                 0  [1, 1, 1, 0, 1]   0.5         [1 1 1 0 1]\n",
      "1   16.331977                 1  [1, 1, 1, 0, 1]   0.5         [1 1 1 0 1]\n"
     ]
    },
    {
     "data": {
      "text/plain": [
       "<matplotlib.axes._subplots.AxesSubplot at 0x1f65baa8a48>"
      ]
     },
     "execution_count": 106,
     "metadata": {},
     "output_type": "execute_result"
    },
    {
     "data": {
      "image/png": "[encoded data removed]",
      "text/plain": [
       "<Figure size 432x288 with 1 Axes>"
      ]
     },
     "metadata": {
      "needs_background": "light"
     },
     "output_type": "display_data"
    }
   ],
   "source": [
    "data_results=pd.DataFrame(data = results,columns = ['Value_Func'], index = range(1000*500))\n",
    "data_results['Number_Iteration'] = results_comb\n",
    "data_results['Coalition'] = results_comb1\n",
    "data_results['Prob'] = results_prob\n",
    "data_results['Coalition_as_string'] = data_results['Coalition'].astype('str')\n",
    "print(data_results.head(2))\n",
    "\n",
    "data_results[data_results['Coalition_as_string'] == '[1 1 1 0 1]']['Value_Func'].hist()"
   ]
  },
  {
   "cell_type": "code",
   "execution_count": 107,
   "metadata": {},
   "outputs": [
    {
     "data": {
      "text/plain": [
       "<matplotlib.axes._subplots.AxesSubplot at 0x1f6585d9508>"
      ]
     },
     "execution_count": 107,
     "metadata": {},
     "output_type": "execute_result"
    },
    {
     "data": {
      "image/png": "[encoded data removed]",
      "text/plain": [
       "<Figure size 432x288 with 1 Axes>"
      ]
     },
     "metadata": {
      "needs_background": "light"
     },
     "output_type": "display_data"
    }
   ],
   "source": [
    "coalition = data_results\n",
    "coalition.groupby('Prob', as_index=False).agg({'Value_Func':'mean'}).plot(kind='scatter', x = 'Prob', y = 'Value_Func')"
   ]
  },
  {
   "cell_type": "code",
   "execution_count": 124,
   "metadata": {
    "collapsed": true
   },
   "outputs": [
    {
     "ename": "SyntaxError",
     "evalue": "invalid syntax (<ipython-input-124-095f91572995>, line 1)",
     "output_type": "error",
     "traceback": [
      "\u001b[1;36m  File \u001b[1;32m\"<ipython-input-124-095f91572995>\"\u001b[1;36m, line \u001b[1;32m1\u001b[0m\n\u001b[1;33m    data:image/png;base64,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\u001b[0m\n\u001b[1;37m                                                                                                                      ^\u001b[0m\n\u001b[1;31mSyntaxError\u001b[0m\u001b[1;31m:\u001b[0m invalid syntax\n"
     ]
    }
   ],
   "source": []
  }
 ],
 "metadata": {
  "kernelspec": {
   "display_name": "Python 3",
   "language": "python",
   "name": "python3"
  },
  "language_info": {
   "codemirror_mode": {
    "name": "ipython",
    "version": 3
   },
   "file_extension": ".py",
   "mimetype": "text/x-python",
   "name": "python",
   "nbconvert_exporter": "python",
   "pygments_lexer": "ipython3",
   "version": "3.7.6"
  }
 },
 "nbformat": 4,
 "nbformat_minor": 4
}
